{
 "cells": [
  {
   "cell_type": "markdown",
   "metadata": {},
   "source": [
    "# Strings - Humans use text. Computers speak bytes. 🥰\n",
    "\n",
    "Despite the wealth of multimedia information, text processing remains one of the dominant functions of computers.\n",
    "\n",
    "## Abundance of Digital Text 😅\n",
    "\n",
    "Computer are used to edit, store, and display documents, and to transport documents over the Internet. \n",
    "\n",
    "Furthermore, digital systems are used to archive a wide range of textual information, and new data is being generated at a rapidly increasing pace. \n",
    "\n",
    "A large corpus can readily surpass a petabyte of data (which is equivalent to a thousand terabytes (1 PB - 1000 TB), or a million gigabytes). \n",
    "\n",
    "Common examples of digital collections that include textual information are:\n",
    "\n",
    "• Snapshots of the World Wide Web, as Internet document formats HTML and XML are primarily text formats, with added tags for multimedia content\n",
    "• All documents stored locally on a user’s computer\n",
    "• Email archives\n",
    "• Customer reviews\n",
    "• Compilations of status updates on social networking sites such as Facebook\n",
    "• Feeds from sites such as X and Tumblr\n",
    "\n",
    "In this chapter we explore some of the fundamental algorithms that can be used to efficiently analyze and process large textual data sets. \n",
    "\n",
    "---\n",
    "\n",
    "Python’s `str` class is specifically designed to efficiently represent an immutable sequence of characters, based upon the **Unicode international character set.** \n",
    "\n",
    "Strings have a more compact internal representation than the referential lists and tuples.\n",
    "\n",
    "String literals can be enclosed in single quotes, as in `'hello'` , or double quotes, as in `\"hello\"`. "
   ]
  },
  {
   "cell_type": "code",
   "execution_count": 2,
   "metadata": {},
   "outputs": [
    {
     "name": "stdout",
     "output_type": "stream",
     "text": [
      "what's up!\n"
     ]
    }
   ],
   "source": [
    "my_str = \"what's up!\"\n",
    "print(my_str)"
   ]
  },
  {
   "cell_type": "markdown",
   "metadata": {},
   "source": [
    "## The `str` Class - `be = \"the_spark\"`\n",
    "\n",
    "Python’s `str` class is specifically designed to efficiently represent an immutable sequence of characters, based upon the Unicode international character set. \n",
    "\n",
    "Strings have a more compact internal representation than the referential lists and tuples."
   ]
  },
  {
   "cell_type": "code",
   "execution_count": 3,
   "metadata": {},
   "outputs": [
    {
     "name": "stdout",
     "output_type": "stream",
     "text": [
      "Don't stop.\n"
     ]
    }
   ],
   "source": [
    "# Alternatively, the quote delimiter can be designated \n",
    "# using a backslash as a so-called escape character, as in \n",
    "my_str = 'Don\\'t stop.'\n",
    "print(my_str)"
   ]
  },
  {
   "cell_type": "markdown",
   "metadata": {},
   "source": [
    "Other commonly escaped characters are `\"\\n\"` for newline and `\"\\t\"` for tab. \n",
    "\n",
    "**Unicode characters** can be included, such as ``'20\\u20AC'`` for the string ``20€``."
   ]
  },
  {
   "cell_type": "code",
   "execution_count": 4,
   "metadata": {},
   "outputs": [
    {
     "name": "stdout",
     "output_type": "stream",
     "text": [
      "20 € ONLY!\n",
      "the escape room 'is real'\n",
      "'the numbers mason, what do they mean?'\n"
     ]
    }
   ],
   "source": [
    "print(\"20 \\u20AC ONLY!\") # 20 € ONLY!\n",
    "print(\"the escape room \\'is real\\'\")\n",
    "print(\"\\'the numbers mason, what do they mean?\\'\")"
   ]
  },
  {
   "cell_type": "code",
   "execution_count": 5,
   "metadata": {},
   "outputs": [
    {
     "data": {
      "text/plain": [
       "False"
      ]
     },
     "execution_count": 5,
     "metadata": {},
     "output_type": "execute_result"
    }
   ],
   "source": [
    "my_str = \"sezai\"\n",
    "my_str_slice = my_str[2:0]  # this is None\n",
    "bool(my_str_slice) # this is False"
   ]
  },
  {
   "cell_type": "markdown",
   "metadata": {},
   "source": [
    "There are `f-strings` and `r-strings` in python: `Formatted Strings` and `Raw Strings`"
   ]
  },
  {
   "cell_type": "code",
   "execution_count": 7,
   "metadata": {},
   "outputs": [
    {
     "name": "stdout",
     "output_type": "stream",
     "text": [
      "2 is not equal to 3 so the answer is: False\n"
     ]
    }
   ],
   "source": [
    "a , b = 2, 3\n",
    "print(f\"{a} is not equal to {b} so the answer is: {a == b}\")"
   ]
  },
  {
   "cell_type": "markdown",
   "metadata": {},
   "source": [
    "Python raw string treats the backslash character `\\` as a literal character. Raw string is useful when a string needs to contain a backslash, such as for a regular expression or Windows directory path, and you don’t want it to be treated as an escape character."
   ]
  },
  {
   "cell_type": "code",
   "execution_count": 1,
   "metadata": {},
   "outputs": [],
   "source": [
    "# Here is an example of an r-string, do not worry about the function\n",
    "\n",
    "def reset_accumulated_memory_stats(device: tuple[float, int] = None) -> None:\n",
    "    r\"\"\"Reset the \"accumulated\" (historical) stats tracked by the CUDA memory allocator.\n",
    "\n",
    "    See :func:`~torch.cuda.memory_stats` for details. Accumulated stats correspond to\n",
    "    the `\"allocated\"` and `\"freed\"` keys in each individual stat dict, as well as\n",
    "    `\"num_alloc_retries\"` and `\"num_ooms\"`.\n",
    "\n",
    "    Args:\n",
    "        device (torch.device or int, optional): selected device. Returns\n",
    "            statistic for the current device, given by :func:`~torch.cuda.current_device`,\n",
    "            if :attr:`device` is ``None`` (default).\n",
    "\n",
    "    .. note::\n",
    "        See :ref:`cuda-memory-management` for more details about GPU memory\n",
    "        management.\n",
    "    \"\"\"\n",
    "    device = _get_device_index(device, optional=True)\n",
    "    return torch._C._cuda_resetAccumulatedMemoryStats(device)"
   ]
  },
  {
   "cell_type": "markdown",
   "metadata": {},
   "source": [
    "### 4 different ways to concatenate Strings:"
   ]
  },
  {
   "cell_type": "code",
   "execution_count": 2,
   "metadata": {},
   "outputs": [],
   "source": [
    "def repeated_contatenation(n):\n",
    "\t# do not do this\n",
    "\tresult = \"\"\n",
    "\tfor i in range(n):\n",
    "\t\tresult += str(i)\n",
    "\treturn result\n",
    "\n",
    "def list_append_and_join(n):\n",
    "\ttemp = []\n",
    "\tfor i in range(n):\n",
    "\t\ttemp.append(str(i))\n",
    "\tresult = \"\".join(temp)\n",
    "\treturn result\n",
    "\n",
    "def list_comp(n):\n",
    "    # comprehensions are always good idea    \n",
    "\tresult = \"\".join([str(i) for i in range(n)])\n",
    "\treturn result\n",
    "\n",
    "\n",
    "def gen_comp(n):\n",
    "\t# no need for list anyway!\n",
    "\tresult = \"\".join(str(i) for i in range(n))\n",
    "\treturn result"
   ]
  },
  {
   "cell_type": "markdown",
   "metadata": {},
   "source": [
    "Here are the results:\n",
    "\n",
    "| Method | Time |\n",
    "| ---- | ---- |\n",
    "| `repeated_contatenation` | 0.1979 sec |\n",
    "| `list_append_and_join` | 0.1714 sec |\n",
    "| `list_comp` | 0.1514 sec |\n",
    "| `gen_comp` | 0.1434 sec |\n",
    "\n"
   ]
  },
  {
   "cell_type": "code",
   "execution_count": 8,
   "metadata": {},
   "outputs": [
    {
     "name": "stdout",
     "output_type": "stream",
     "text": [
      "k\n",
      "True False\n",
      "False True\n"
     ]
    }
   ],
   "source": [
    "# a lot of string methods to use\n",
    "\n",
    "# they can change the strings\n",
    "print(\"K\".lower())\n",
    "\n",
    "# they can tell you things about them\n",
    "print(\"asd\".islower(), \"asdF\".islower())\n",
    "# True False\n",
    "\n",
    "print(\"asd12\".isalpha(), \"asd12\".isalnum())\n",
    "# False True"
   ]
  },
  {
   "cell_type": "markdown",
   "metadata": {},
   "source": [
    "### Composing Strings\n",
    "\n",
    "Doing repeated concatenation is terribly inefficient.\n",
    "\n",
    "##### WARNING: do not do this\n",
    "\n",
    "```python\n",
    "letters = \"\"\n",
    "for c in document:\n",
    "\tif c.isalpha():\n",
    "\t\tletters += c\n",
    "```\n",
    "\n",
    "Constructing the new string would require time proportional to its length. \n",
    "\n",
    "If the final result has n characters, the series of concatenations would take time proportional to the familiar sum $1 + 2 +3 + · · · + n$ , and therefore $O(n^{2})$ time.\n",
    "\n",
    "##### Instead - Use lists - strings with `split` and `join`"
   ]
  },
  {
   "cell_type": "code",
   "execution_count": 15,
   "metadata": {},
   "outputs": [
    {
     "name": "stdout",
     "output_type": "stream",
     "text": [
      "This is an example document with numbers like 2 on it\n",
      "\n",
      "This is an example document with numbers like 2 on it\n"
     ]
    }
   ],
   "source": [
    "# Because appending to end of a list is $O(1)$. \n",
    "\n",
    "document = \"This is an example document with numbers like 2 on it\"\n",
    "\n",
    "temp = []  # start with empty list\n",
    "for c in document:\n",
    "\tif c.isalnum() or c == \" \":\n",
    "\t\ttemp.append(c)  # append alphabetic character\n",
    "\n",
    "letters = \"\".join(temp)  # compose overall result\n",
    "\n",
    "print(letters)\n",
    "\n",
    "print()\n",
    "\n",
    "# Or Even better:\n",
    "\n",
    "letters = \"\".join([c for c in document if c.isalnum()])\n",
    "\n",
    "# not even a list is needed\n",
    "# generators can help\n",
    "letters = \"\".join(c for c in document if c.isalnum)\n",
    "print(letters)\n"
   ]
  },
  {
   "cell_type": "markdown",
   "metadata": {},
   "source": [
    "### Efficiently Concatenating Many Strings With .join() in Python\n",
    "\n",
    "The `.join()` method is cleaner, more Pythonic, and more readable than concatenating many strings together in a loop using the augmented concatenation operator (`+=`), as you saw before. \n",
    "\n",
    "An explicit loop is way more complex and harder to understand than the equivalent call to `.join()`. \n",
    "\n",
    "The `.join()` method is also **faster and more efficient** regarding memory usage.\n",
    "\n",
    "Unlike the concatenation operators, Python’s `.join()` doesn’t create new intermediate strings in each iteration. \n",
    "\n",
    "Instead, it creates a single new string object by joining the elements from the input iterable with the selected separator string. \n",
    "\n",
    "This behavior is more efficient than using the regular concatenation operators in a loop."
   ]
  },
  {
   "cell_type": "markdown",
   "metadata": {},
   "source": [
    "It’s important to note that `.join()` doesn’t allow you to concatenate non-string objects directly:\n",
    "\n",
    "```python\n",
    "\"; \".join([1, 2, 3, 4, 5])\n",
    "\n",
    "# Traceback (most recent call last):\n",
    "#     ...\n",
    "# TypeError: sequence item 0: expected str instance, int found\n",
    "```\n",
    "\n",
    "When you try to join non-string objects using .join(), you get a TypeError, which is consistent with the behavior of concatenation operators. \n",
    "\n",
    "Again, to work around this behavior, you can take advantage of str() and a generator expression:\n",
    "\n",
    "```python\n",
    "numbers = [1, 2, 3, 4, 5]\n",
    "\n",
    "\"; \".join(str(number) for number in numbers)\n",
    "# '1; 2; 3; 4; 5'\n",
    "```\n",
    "\n",
    "The generator expression in the call to .join() converts every number into a string object before running the concatenation and producing the final string. \n",
    "\n",
    "With this technique, you can concatenate objects of different types into a string."
   ]
  },
  {
   "cell_type": "markdown",
   "metadata": {},
   "source": [
    "### Prefix and Suffix\n",
    "\n",
    "All strings have prefixes and Suffixes. \n",
    "\n",
    "Sometimes these are helpful to set some strings apart from others."
   ]
  },
  {
   "cell_type": "code",
   "execution_count": 16,
   "metadata": {},
   "outputs": [],
   "source": [
    "S = \"CGTAAACTGCTTTAATCAAACGC\"\n",
    "\n",
    "my_prefix = \"CGTAA\"\n",
    "\n",
    "my_suffix = \"CGC\"\n",
    "\n",
    "prefix_to_all = \"\" # null strings are prefixs for all strings.\n",
    "suffix_to_all = \"\" # null strings are suffixes for all strings."
   ]
  },
  {
   "cell_type": "markdown",
   "metadata": {},
   "source": [
    "### Searching for Substrings  \n",
    "\n",
    "The operator syntax, pattern in s, can be used to determine if the given pattern occurs as a substring of string s. \n",
    "\n",
    "Table A.1 describes several related methods that determine the number of such occurrences, and the index at which the leftmost or rightmost such occurrence begins. \n",
    "\n",
    "Each of the functions in this table accepts two optional parameters, start and end, which are indices that effectively restrict the search to the implicit slice `s[start:end]`. For example, the call `s.find(pattern, 5)` restricts the search to `s[5:]`.\n",
    "\n",
    "==Table A.1== \n",
    "\n",
    "| Calling Syntax |  Description  |\n",
    "|-|-|\n",
    "|`s.count(pattern)` | Return the number of non-overlapping occurrences of pattern  |\n",
    "|`s.find(pattern)` |Return the index starting the leftmost occurrence of pattern; else `-1`  |\n",
    "|`s.index(pattern)` |Similar to `find`, but raise `ValueError` if not found.  |\n",
    "|`s.rfind(pattern)` |Return the index starting the rightmost occurrence of pattern; else `-1`  |\n",
    "|`s.rindex(pattern)` |Similar to `rfind`, but raise `ValueError` if not found. |\n",
    "\n",
    "\n",
    "Using `find` might be safer, if you do not want to raise an `Exception`."
   ]
  },
  {
   "cell_type": "code",
   "execution_count": 17,
   "metadata": {},
   "outputs": [
    {
     "name": "stdout",
     "output_type": "stream",
     "text": [
      "where is underscore? 2\n",
      "where is l? 3\n",
      "where is next l? 8\n",
      "how many e's are in my_str?: 4\n"
     ]
    }
   ],
   "source": [
    "my_str = \"we_love_learning_it makes us grow!\"\n",
    "\n",
    "print(f\"where is underscore? {my_str.find('_')}\") # 2\n",
    "\n",
    "print(f\"where is l? {my_str.index('l')}\") # 3\n",
    "\n",
    "print(f\"where is next l? {my_str.index('l', 4)}\") # 8\n",
    "\n",
    "print(f\"how many e's are in my_str?: {my_str.count('e')}\") # 4"
   ]
  },
  {
   "cell_type": "markdown",
   "metadata": {},
   "source": [
    "### Constructing Related Strings  \n",
    "\n",
    "Strings in Python are **immutable**, so none of their methods modify an existing string instance.\n",
    "\n",
    "However, many methods return a newly constructed string that is closely related to an existing one.\n",
    "\n",
    "Table A.2 provides a summary of such methods, including those that replace a given pattern with another, that vary the case of alphabetic characters, that produce a fixed-width string with desired justification, and that produce a copy of a string with extraneous characters stripped from either end.\n",
    "\n",
    "==Table A.2==\n",
    "\n",
    "|Calling Syntax |  Description  |\n",
    "|-|-|\n",
    "|`s.replace(old, new)` |Return a copy of s with all occurrences of old replaced by new  |\n",
    "|`s.capitalize()` |Return a copy of s with its first character having uppercase  |\n",
    "|`s.upper()` |Return a copy of s with all alphabetic characters in uppercase  |\n",
    "|`s.lower()` |Return a copy of s with all alphabetic characters in lowercase  |\n",
    "|`s.center(width)` |Return a copy of s, padded to width, centered among spaces  |\n",
    "|`s.ljust(width)` |Return a copy of s, padded to width with trailing spaces  |\n",
    "|`s.rjust(width)` |Return a copy of s, padded to width with leading spaces  |\n",
    "|`s.zfill(width)` |Return a copy of s, padded to width with leading zeros  |\n",
    "|`s.strip()` |Return a copy of s, with leading and trailing whitespace removed  |\n",
    "|`s.lstrip()`| Return a copy of s, with leading whitespace removed  |\n",
    "|`s.rstrip()` |Return a copy of s, with trailing whitespace removed|\n",
    "\n",
    "Several of these methods accept optional parameters not detailed in the table.\n",
    "\n",
    "For example, the `replace` method replaces all non overlapping occurrences of the old pattern by default, but an optional parameter can limit the number of replacements that are performed. "
   ]
  },
  {
   "cell_type": "code",
   "execution_count": 25,
   "metadata": {},
   "outputs": [
    {
     "name": "stdout",
     "output_type": "stream",
     "text": [
      "Can you make this relateable?\n",
      "Can you make this relateable?\n",
      "CAN YOU MAKE THIS RELATEABLE?\n",
      "can you make this relateable?\n"
     ]
    }
   ],
   "source": [
    "related_string_test = \"can you make this relateable?\"\n",
    "\n",
    "print(related_string_test.replace(\"can\", \"Can\"))\n",
    "# Can you make this relateable?\n",
    "\n",
    "print(related_string_test.capitalize())\n",
    "# Can you make this relateable?\n",
    "\n",
    "# scream and shout\n",
    "print(related_string_test.upper())\n",
    "# CAN YOU MAKE THIS RELATEABLE?\n",
    "\n",
    "# whisper\n",
    "print(related_string_test.lower())\n",
    "# can you make this relateable?"
   ]
  },
  {
   "cell_type": "code",
   "execution_count": 29,
   "metadata": {},
   "outputs": [
    {
     "name": "stdout",
     "output_type": "stream",
     "text": [
      "can you make this relateable?\n",
      "can you make this relateable?  \n",
      "  can you make this relateable?\n"
     ]
    }
   ],
   "source": [
    "related_string_test = \"  can you make this relateable?  \"\n",
    "\n",
    "# strip from emptiness\n",
    "print(related_string_test.strip())\n",
    "# can you make this relateable?\n",
    "\n",
    "# you can choose which emptiness you do not want\n",
    "print(related_string_test.lstrip())\n",
    "# can you make this relateable?  \n",
    "# whitespace on right remains\n",
    "\n",
    "# or you can drop right side\n",
    "print(related_string_test.rstrip())\n",
    "#   can you make this relateable?"
   ]
  },
  {
   "cell_type": "markdown",
   "metadata": {},
   "source": [
    "### Testing Boolean Conditions  \n",
    "\n",
    "==Table A.3== includes methods that test for a Boolean property of a string, such as **whether it begins or ends with a pattern**, or **whether its characters qualify as being alphabetic, numeric, whitespace**, etc. \n",
    "\n",
    "For the standard ASCII character set, alphabetic characters are the uppercase A–Z, and lowercase a–z, numeric digits are 0–9, and whitespace includes the space character, tab character, newline, and carriage return.\n",
    "\n",
    "Conventions for what are considered alphabetic and numeric character codes are extended to more general Unicode character sets.\n",
    "\n",
    "|Calling Syntax |Description  |\n",
    "|-|-|\n",
    "|`s.startswith(pattern)` |Return `True` if `pattern` is a prefix of string s  |\n",
    "|`s.endswith(pattern)`| Return `True` if `pattern` is a suffix of string s  |\n",
    "|`s.isspace()` |Return `True` if all characters of nonempty string are whitespace  |\n",
    "|`s.isalpha()`| Return `True` if all characters of nonempty string are alphabetic  |\n",
    "|`s.islower()` |Return `True` if there are one or more alphabetic characters, all of which are lowercased  |\n",
    "|`s.isupper()`| Return `True` if there are one or more alphabetic characters, all of which are uppercased  |\n",
    "|`s.isdigit()`| Return `True` if all characters of nonempty string are in 0–9  |\n",
    "|`s.isdecimal()` |Return `True` if all characters of nonempty string represent digits 0–9, including Unicode equivalents  |\n",
    "|`s.isnumeric()` |Return `True` if all characters of nonempty string are numeric Unicode characters (e.g., 0–9, equivalents, fraction characters)  |\n",
    "| `s.isalnum()`| Return `True` if all characters of nonempty string are either alphabetic or numeric (as per above definitions) |\n"
   ]
  },
  {
   "cell_type": "code",
   "execution_count": 43,
   "metadata": {},
   "outputs": [
    {
     "name": "stdout",
     "output_type": "stream",
     "text": [
      "True\n",
      "True\n",
      "False\n",
      "True\n",
      "False\n"
     ]
    }
   ],
   "source": [
    "goal = \"hard work\"\n",
    "\n",
    "print(goal.startswith(\"hard\"))\n",
    "# True\n",
    "\n",
    "print(goal.endswith(\"work\"))\n",
    "# True\n",
    "\n",
    "print(goal.isalpha())\n",
    "# False - Because there are whitespaces within\n",
    "\n",
    "print(goal.islower())\n",
    "# True\n",
    "\n",
    "print(goal.isupper())\n",
    "# False"
   ]
  },
  {
   "cell_type": "code",
   "execution_count": 46,
   "metadata": {},
   "outputs": [
    {
     "name": "stdout",
     "output_type": "stream",
     "text": [
      "False\n",
      "False\n",
      "True\n",
      "True\n",
      "True\n"
     ]
    }
   ],
   "source": [
    "number = \"two\"\n",
    "\n",
    "print(number.isdigit())\n",
    "# False - It is string in type\n",
    "\n",
    "print(number.isdecimal())\n",
    "# False - alphabetic.\n",
    "\n",
    "print(\"420\".isdecimal())\n",
    "# True - you can work with these digits.\n",
    "\n",
    "print(\"½\".isnumeric())\n",
    "# True - ½ not a decimal but numeric\n",
    "\n",
    "print(number.isalnum())\n",
    "# True"
   ]
  },
  {
   "cell_type": "markdown",
   "metadata": {},
   "source": [
    "### `is.alnum()` is the Umbrella ☔\n",
    "\n",
    "`str.isalnum()`\n",
    "\n",
    "Return `True` if all characters in the string are alphanumeric and there is at least one character, `False` otherwise. \n",
    "\n",
    "A character c is alphanumeric if one of the following returns True: `c.isalpha()`, `c.isdecimal()`, `c.isdigit()`, or `c.isnumeric()`.\n"
   ]
  },
  {
   "cell_type": "markdown",
   "metadata": {},
   "source": [
    "### Splitting and Joining Strings  😎\n",
    "\n",
    "==Table A.4== describes several important methods of Python’s string class, used to compose a sequence of strings together using a delimiter to separate each pair, or to take an existing string and determine a decomposition of that string based upon existence of a given separating pattern.  \n",
    "\n",
    "This is important because you want to do operations on lists not repeatedly made strings:\n",
    "\n",
    "|Calling Syntax |Description  |\n",
    "|-|-|\n",
    "|`sep.join(strings)` |Return the composition of the given sequence of strings, inserting sep as delimiter between each pair  |\n",
    "|`s.splitlines()` |Return a `list` of substrings of s, as delimited by newlines  \n",
    "|`s.split(sep, count)`| Return a `list` of substrings of s, as delimited by the first count occurrences of sep. If count is not specified, split on all occurrences. If sep is not specified, use whitespace `\" \"` as delimiter.  |\n",
    "|`s.rsplit(sep, count)` |Similar to split, but using the rightmost occurrences of sep  |\n",
    "|`s.partition(sep) `|Return (head, sep, tail) such that s = head + sep + tail, using leftmost occurrence of sep, if any; else return (s, , )  |\n",
    "|`s.rpartition(sep)` |Return (head, sep, tail) such that s = head + sep + tail, using rightmost occurrence of sep, if any; else return ( , , s)|\n",
    "\n",
    "\n",
    "The `join` method is used to assemble a string from a series of pieces. "
   ]
  },
  {
   "cell_type": "code",
   "execution_count": 5,
   "metadata": {},
   "outputs": [
    {
     "name": "stdout",
     "output_type": "stream",
     "text": [
      "red and green and blue\n"
     ]
    }
   ],
   "source": [
    "sentence = ' and '.join([ \"red\" , \"green\" , \"blue\" ]) \n",
    "print(sentence) # \"red and green and blue\""
   ]
  },
  {
   "cell_type": "code",
   "execution_count": 6,
   "metadata": {},
   "outputs": [
    {
     "name": "stdout",
     "output_type": "stream",
     "text": [
      "['red', 'green', 'blue']\n"
     ]
    }
   ],
   "source": [
    "list_one = \"red and green and blue\".split(\" and \")\n",
    "print(list_one)  # [ \"red\" , \"green\" , \"blue\" ]"
   ]
  },
  {
   "cell_type": "code",
   "execution_count": 7,
   "metadata": {},
   "outputs": [
    {
     "name": "stdout",
     "output_type": "stream",
     "text": [
      "['red', 'and', 'green', 'and', 'blue']\n"
     ]
    }
   ],
   "source": [
    "list_two = \"red and green and blue\".split() # Uses whitespace as delimiter\n",
    "print(list_two) # [ \"red\" , \"and\" , \"green\" , \"and\" , \"blue\" ]."
   ]
  },
  {
   "cell_type": "markdown",
   "metadata": {},
   "source": [
    "## Pattern - Matching Algorithms\n",
    "\n",
    "In the classic pattern-matching problem, we are given a text string T of length n and a pattern string P of length m, and want to find whether P is a substring of T."
   ]
  },
  {
   "cell_type": "code",
   "execution_count": 3,
   "metadata": {},
   "outputs": [
    {
     "name": "stdout",
     "output_type": "stream",
     "text": [
      "where is underscore? 2\n",
      "where is l? 3\n",
      "where is next l? 8\n",
      "how many e's are in my_str?: 4\n"
     ]
    }
   ],
   "source": [
    "my_str = \"we_love_learning_it makes us grow!\"\n",
    "\n",
    "print(f\"where is underscore? {my_str.find('_')}\") # 2\n",
    "\n",
    "print(f\"where is l? {my_str.index('l')}\") # 3\n",
    "\n",
    "print(f\"where is next l? {my_str.index('l', 4)}\") # 8\n",
    "\n",
    "print(f\"how many e's are in my_str?: {my_str.count('e')}\") # 4"
   ]
  },
  {
   "cell_type": "code",
   "execution_count": 5,
   "metadata": {},
   "outputs": [
    {
     "name": "stdout",
     "output_type": "stream",
     "text": [
      "('we_love_learning_it', ' ', 'makes us grow!')\n",
      "['we_love_learning_it', 'makes', 'us', 'grow!']\n",
      "we_love_learning_it helps us grow!\n"
     ]
    }
   ],
   "source": [
    "# Partition the string into three parts using the given separator.\n",
    "print(my_str.partition(\" \"))\n",
    "# ('we_love_learning_it', ' ', 'makes us grow!')\n",
    "\n",
    "# Return a list of the words in the string, using sep as the delimiter string.\n",
    "print(my_str.split())\n",
    "# ['we_love_learning_it', 'makes', 'us', 'grow!']\n",
    "\n",
    "# Return a copy with all occurrences of substring old replaced by new.\n",
    "print(my_str.replace(\"makes\", \"helps\"))\n",
    "# we_love_learning_it helps us grow!"
   ]
  },
  {
   "cell_type": "markdown",
   "metadata": {},
   "source": [
    "Here is another workout:"
   ]
  },
  {
   "cell_type": "code",
   "execution_count": 47,
   "metadata": {},
   "outputs": [
    {
     "name": "stdout",
     "output_type": "stream",
     "text": [
      "7\n",
      "4\n",
      "-1\n",
      "4\n"
     ]
    }
   ],
   "source": [
    "drake = \"Tuscan Leather\"\n",
    "\n",
    "print(drake.find(\"L\")) # 7\n",
    "\n",
    "# start, end\n",
    "print(drake.find(\"a\", 0, 6)) # 4\n",
    "\n",
    "print(drake.find(\"W\")) # -1\n",
    "\n",
    "print(drake.index(\"a\")) # 4"
   ]
  },
  {
   "cell_type": "code",
   "execution_count": 50,
   "metadata": {},
   "outputs": [
    {
     "name": "stdout",
     "output_type": "stream",
     "text": [
      "substring not found\n",
      "9\n",
      "2\n",
      "at\n",
      "('Tuscan', ' ', 'Leather')\n"
     ]
    }
   ],
   "source": [
    "drake = \"Tuscan Leather\"\n",
    "\n",
    "try:\n",
    "    print(drake.index(\"W\")) # ValueError substring not found\n",
    "except Exception as e:\n",
    "    print(e)\n",
    "\n",
    "print(drake.index(\"a\", 5)) # 9\n",
    "\n",
    "print(drake.lower().count(\"t\")) # 2\n",
    "\n",
    "print(drake.split()[1][2:4]) # at\n",
    "\n",
    "print(drake.partition(\" \")) # ('Tuscan', ' ', 'Leather')"
   ]
  },
  {
   "cell_type": "markdown",
   "metadata": {},
   "source": [
    "## ASCII - Unicode - Encoding Things. ✏️\n",
    "\n",
    "ASCII and Unicode are two character representations as numbers. \n",
    "\n",
    "Basically, they are standards on how to represent difference characters in binary so that they can be written, stored, transmitted, and read in digital media. \n",
    "\n",
    "The main difference between the two is in the way they encode the character and the number of bits that they use for each.\n",
    "\n",
    "\n",
    "### ASCII, Origins\n",
    "\n",
    "As stated in the other answers, ASCII uses 7 bits to represent a character. By using 7 bits, we can have a maximum of 2^7 (= 128) distinct combinations*. Which means that we can represent 128 characters maximum.\n",
    "\n",
    "    - Wait, 7 bits? But why not 1 byte (8 bits)?\n",
    "\n",
    "    - The last bit (8th) is used for avoiding errors as parity bit. This was relevant years ago.\n",
    "\n",
    "Most ASCII characters are printable characters of the alphabet such as abc, ABC, 123, ?&!, etc. The others are control characters such as carriage return, line feed, tab, etc.\n",
    "\n",
    "### ASCII was meant for English only. 128 characters.\n",
    "\n",
    "    - What? Why English only? So many languages out there!\n",
    "\n",
    "    - Because the center of the computer industry was in the USA at that time. As a consequence, they didn't need to support accents or other marks such as á, ü, ç, ñ, etc. (aka diacritics).\n",
    "\n",
    "\n",
    "### Unicode, The Rise\n",
    "\n",
    "ASCII Extended solves the problem for languages that are based on the Latin alphabet... what about the others needing a completely different alphabet? Greek? Russian? Chinese and the likes?\n",
    "\n",
    "We would have needed an entirely new character set... that's the rational behind Unicode. Unicode doesn't contain every character from every language, but it sure contains a gigantic amount of characters (see this table).\n",
    "\n",
    "You cannot save text to your hard drive as \"Unicode\". Unicode is an abstract representation of the text. You need to \"encode\" this abstract representation. That's where an encoding comes into play.\n",
    "\n",
    "### Encodings: UTF-8 vs UTF-16 vs UTF-32\n",
    "\n",
    "This answer does a pretty good job at explaining the basics:\n",
    "\n",
    "    - UTF-8 and UTF-16 are variable length encodings.\n",
    "    \n",
    "    - In UTF-8, a character may occupy a minimum of 8 bits.\n",
    "    \n",
    "    - In UTF-16, a character length starts with 16 bits.\n",
    "    \n",
    "    - UTF-32 is a fixed length encoding of 32 bits.\n",
    "\n",
    "UTF-8 uses the ASCII set for the first 128 characters. That's handy because it means ASCII text is also valid in UTF-8.\n",
    "\n",
    "## - TLDR: UTF-8 is widely used in the world.\n",
    "\n",
    "----\n",
    "\n",
    "- ASCII 32 is whitespace - `_`\n",
    "\n",
    "- ASCII 48 is `0` , ... , 57 is `9`\n",
    "\n",
    "- ASCII 65 is `A`, ... , ASCII 90 is `Z`\n",
    "\n",
    "- ASCII 97 is `a`, ... , 122 IS `z` "
   ]
  },
  {
   "cell_type": "code",
   "execution_count": 2,
   "metadata": {},
   "outputs": [
    {
     "name": "stdout",
     "output_type": "stream",
     "text": [
      "0123456789\n",
      "abcdefghijklmnopqrstuvwxyz\n"
     ]
    }
   ],
   "source": [
    "# also do not forget, there is a module you can use \n",
    "# for checking string constants \n",
    "\n",
    "from string import digits, ascii_letters, ascii_lowercase\n",
    "\n",
    "print(digits)\n",
    "\n",
    "print(ascii_lowercase)"
   ]
  },
  {
   "cell_type": "markdown",
   "metadata": {},
   "source": [
    "## Example Questions Here: 💕"
   ]
  },
  {
   "cell_type": "code",
   "execution_count": 51,
   "metadata": {},
   "outputs": [
    {
     "name": "stdout",
     "output_type": "stream",
     "text": [
      "False\n",
      "True\n"
     ]
    }
   ],
   "source": [
    "from collections import Counter\n",
    "\n",
    "def isAnagram(s: str, t: str) -> bool:\n",
    "    return Counter(s) == Counter(t) \n",
    "\n",
    "print(isAnagram(\"rat\", \"car\"))\n",
    "\n",
    "\n",
    "# or map approach\n",
    "def isAnagramTwo(s: str, t: str) -> bool:\n",
    "    \n",
    "    def make_counter_map(container: str) -> dict:\n",
    "        map = {}\n",
    "        for elem in container:\n",
    "            map[elem] = map.get(elem, 0) + 1\n",
    "        return map\n",
    "    \n",
    "    return make_counter_map(s) == make_counter_map(t)\n",
    "\n",
    "print(isAnagramTwo(\"car\", \"rac\"))"
   ]
  },
  {
   "cell_type": "code",
   "execution_count": 52,
   "metadata": {},
   "outputs": [
    {
     "name": "stdout",
     "output_type": "stream",
     "text": [
      "[['eat', 'tea', 'ate'], ['tan', 'nat'], ['bat']]\n"
     ]
    }
   ],
   "source": [
    "from collections import defaultdict\n",
    "\n",
    "def groupAnagrams(strs: list[str]) -> list[list[str]]:\n",
    "    \n",
    "    # every key has a empty list as default\n",
    "    res = defaultdict(list)\n",
    "    for s in strs:\n",
    "        # we can use a tuple for our dict keys\n",
    "        # sorted returns a list\n",
    "        # make it a tuple for it to be hashable\n",
    "        res[tuple(sorted(s))].append(s)\n",
    "\n",
    "    return list(res.values()) \n",
    "    \n",
    "print(groupAnagrams([\"eat\",\"tea\",\"tan\",\"ate\",\"nat\",\"bat\"]))"
   ]
  },
  {
   "cell_type": "code",
   "execution_count": 53,
   "metadata": {},
   "outputs": [
    {
     "name": "stdout",
     "output_type": "stream",
     "text": [
      "True\n",
      "False\n",
      "True\n",
      "False\n",
      "True\n",
      "False\n"
     ]
    }
   ],
   "source": [
    "\"\"\"\n",
    "Q: A phrase is a palindrome if, after converting all \n",
    "uppercase letters into lowercase letters and removing \n",
    "all non-alphanumeric characters, it reads the same \n",
    "forward and backward. \n",
    "\n",
    "Alphanumeric characters include letters and numbers.\n",
    "\n",
    "Given a string s, return true if it is a palindrome, or \n",
    "false otherwise.\n",
    "\n",
    "Example 1:\n",
    "\n",
    "    Input: s = \"A man, a plan, a canal: Panama\"\n",
    "    Output: true\n",
    "    \n",
    "    Explanation: \"amanaplanacanalpanama\" is a palindrome.\n",
    "\n",
    "Example 2:\n",
    "\n",
    "    Input: s = \"race a car\"\n",
    "    Output: false\n",
    "    \n",
    "    Explanation: \"raceacar\" is not a palindrome.\n",
    "\n",
    "Example 3:\n",
    "\n",
    "    Input: s = \" \"\n",
    "    Output: true\n",
    "    \n",
    "    Explanation: s is an empty string \"\" after removing \n",
    "        non-alphanumeric characters.\n",
    "        Since an empty string reads the same forward and \n",
    "        backward, it is a palindrome.\n",
    "\n",
    "\"\"\"\n",
    "\n",
    "class Solution:\n",
    "    def isPalindrome_(self, s:str):\n",
    "        # we can simply use string methods.\n",
    "\n",
    "        result_string = \"\"\n",
    "\n",
    "        for c in s:\n",
    "            if c.isalnum():\n",
    "                result_string += c.lower()\n",
    "\n",
    "        return result_string == result_string[::-1]\n",
    "\n",
    "\n",
    "    def isPalindrome(self, s: str):\n",
    "        # we can use two pointers and not worry about \n",
    "        # reversing the string\n",
    "        \n",
    "        l, r = 0 , len(s) - 1\n",
    "\n",
    "        while l < r:\n",
    "            # pass all non alphanumeric characters\n",
    "            while l < r and not s[l].isalpha():\n",
    "                l += 1\n",
    "            while r > l and not s[r].isalpha():\n",
    "                r -= 1\n",
    "            # check equality\n",
    "            if s[l].lower() != s[r].lower():\n",
    "                return False\n",
    "            l, r = l + 1, r - 1\n",
    "\n",
    "        # if all passed, we found a Palindrome\n",
    "        return True\n",
    "\n",
    "    def isPalindrome__(self, s: str):\n",
    "        \"\"\"You can write the alphanumeric function yourself.\n",
    "        Also you dont need to reverse the string. \n",
    "        You can compare the characters one by one\"\"\"\n",
    "\n",
    "        l, r = 0 , len(s) - 1\n",
    "\n",
    "        while l < r:\n",
    "            # pass all non alphanumeric characters\n",
    "            while l < r and not self.alphanumeric(s[l]):\n",
    "                l += 1\n",
    "            while r > l and not self.alphanumeric(s[r]):\n",
    "                r -= 1\n",
    "            # check equality\n",
    "            if s[l].lower() != s[r].lower():\n",
    "                return False\n",
    "            l, r = l + 1, r - 1\n",
    "\n",
    "        # if all passed, we found a Palindrome\n",
    "        return True\n",
    "\n",
    "    def alphanumeric(self, s):\n",
    "        return (ord(\"A\") <= ord(s) <= ord(\"Z\")) or \\\n",
    "            (ord(\"a\") <= ord(s) <= ord(\"z\")) or \\\n",
    "            (ord(\"0\") <= ord(s) <= ord(\"9\"))\n",
    "\n",
    "if __name__ == '__main__':\n",
    "    sol = Solution()\n",
    "\n",
    "    # best approach ?\n",
    "    print(sol.isPalindrome(s = \"A man, a plan, a canal: Panama\"))\n",
    "    print(sol.isPalindrome(s = \"race a car\"))\n",
    "\n",
    "    # second approach - string methods\n",
    "    print(sol.isPalindrome_(s = \"A man, a plan, a canal: Panama\"))\n",
    "    print(sol.isPalindrome_(s = \"race a car\"))\n",
    "\n",
    "    # third approach, our own alphanumeric function\n",
    "    print(sol.isPalindrome__(s = \"A man, a plan, a canal: Panama\"))\n",
    "    print(sol.isPalindrome__(s = \"race a car\"))"
   ]
  },
  {
   "cell_type": "code",
   "execution_count": 55,
   "metadata": {},
   "outputs": [
    {
     "name": "stdout",
     "output_type": "stream",
     "text": [
      "True\n"
     ]
    }
   ],
   "source": [
    "\"\"\"\n",
    "Given a string, check if it is a palindrome \n",
    "(reads the same forwards and backwards), ignoring \n",
    "spaces and punctuation.\n",
    "\"\"\"\n",
    "def is_palindrome(string):\n",
    "    # Remove spaces and punctuation\n",
    "    # we do not want anything that is not alnum\n",
    "    # we want to make all lowercase so we can compare\n",
    "    cleaned_string = ''.join(char.lower() for char in string if char.isalnum())\n",
    "\n",
    "    # Check if the cleaned string is equal to its reverse\n",
    "    return cleaned_string == cleaned_string[::-1]\n",
    "\n",
    "# Test the function\n",
    "test_string = \"A man, a plan, a canal, Panama!\"\n",
    "print(is_palindrome(test_string))  # Output: True\n"
   ]
  },
  {
   "cell_type": "code",
   "execution_count": 2,
   "metadata": {},
   "outputs": [
    {
     "name": "stdout",
     "output_type": "stream",
     "text": [
      "{'hello': 2, 'how': 1, 'are': 2, 'you': 2, 'doing': 1, 'well': 1}\n"
     ]
    }
   ],
   "source": [
    "\"\"\"\n",
    "Given a string representing a sentence count the \n",
    "occurance of each unique words and store the \n",
    "counts in a dictionary\"\"\"\n",
    "\n",
    "def count_word_occurances(sentence):\n",
    "    # Convert the sentence to lowercase and split into words\n",
    "    words = sentence.lower().split()\n",
    "\n",
    "    # Initialize an empty dictionary to store word counts\n",
    "    word_counts = {}\n",
    "\n",
    "    # Count the occurrence of each word\n",
    "    for word in words:\n",
    "        # Remove punctuation marks and special characters\n",
    "        word = \"\".join(char for char in word if char.isalnum())\n",
    "\n",
    "        # Update the count in the dictionary\n",
    "        if word:\n",
    "            word_counts[word] = word_counts.get(word, 0) + 1\n",
    "\n",
    "    return word_counts\n",
    "\n",
    "# Example usage:\n",
    "sentence = \"Hello, how are you? Are you doing well, hello?\"\n",
    "print(count_word_occurances(sentence))"
   ]
  }
 ],
 "metadata": {
  "kernelspec": {
   "display_name": "learn",
   "language": "python",
   "name": "python3"
  },
  "language_info": {
   "codemirror_mode": {
    "name": "ipython",
    "version": 3
   },
   "file_extension": ".py",
   "mimetype": "text/x-python",
   "name": "python",
   "nbconvert_exporter": "python",
   "pygments_lexer": "ipython3",
   "version": "3.9.7"
  }
 },
 "nbformat": 4,
 "nbformat_minor": 2
}
