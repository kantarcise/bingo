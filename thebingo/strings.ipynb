{
 "cells": [
  {
   "cell_type": "markdown",
   "metadata": {},
   "source": [
    "# Strings - Humans use text. Computers speak bytes. 🥰\n",
    "\n",
    "Despite the wealth of multimedia information, text processing remains one of the dominant functions of computers.\n",
    "\n",
    "## Abundance of Digital Text 😅\n",
    "\n",
    "Computer are used to edit, store, and display documents, and to transport documents over the Internet. Furthermore, digital systems are used to archive a wide range of textual information, and new data is being generated at a rapidly increasing pace. \n",
    "\n",
    "A large corpus can readily surpass a petabyte of data (which is equivalent to a thousand terabytes (1 PB - 1000 TB), or a million gigabytes). Common examples of digital collections that include textual information are:\n",
    "\n",
    "• Snapshots of the World Wide Web, as Internet document formats HTML and XML are primarily text formats, with added tags for multimedia content\n",
    "• All documents stored locally on a user’s computer\n",
    "• Email archives\n",
    "• Customer reviews\n",
    "• Compilations of status updates on social networking sites such as Facebook\n",
    "• Feeds from sites such as X and Tumblr\n",
    "\n",
    "In this chapter we explore some of the fundamental algorithms that can be used to efficiently analyze and process large textual data sets. \n",
    "\n",
    "\n",
    "---\n",
    "\n",
    "Python’s `str` class is specifically designed to efficiently represent an immutable sequence of characters, based upon the **Unicode international character set.** \n",
    "\n",
    "Strings have a more compact internal representation than the referential lists and tuples.\n",
    "\n",
    "String literals can be enclosed in single quotes, as in `'hello'` , or double quotes, as in `\"hello\"`. \n"
   ]
  },
  {
   "cell_type": "code",
   "execution_count": 3,
   "metadata": {},
   "outputs": [
    {
     "name": "stdout",
     "output_type": "stream",
     "text": [
      "what's up!\n"
     ]
    }
   ],
   "source": [
    "my_str = \"what's up!\"\n",
    "print(my_str)"
   ]
  },
  {
   "cell_type": "markdown",
   "metadata": {},
   "source": [
    "#### The `str` Class --- `be = \"the_spark\"`\n",
    "\n",
    "Python’s `str` class is specifically designed to efficiently represent an immutable sequence of characters, based upon the Unicode international character set. \n",
    "\n",
    "Strings have a more compact internal representation than the referential lists and tuples."
   ]
  },
  {
   "cell_type": "code",
   "execution_count": 5,
   "metadata": {},
   "outputs": [
    {
     "name": "stdout",
     "output_type": "stream",
     "text": [
      "Don't stop.\n"
     ]
    }
   ],
   "source": [
    "# Alternatively, the quote delimiter can be designated using a backslash as a so-called escape character, as in \n",
    "\n",
    "my_str = 'Don\\'t stop.'\n",
    "print(my_str)"
   ]
  },
  {
   "cell_type": "markdown",
   "metadata": {},
   "source": [
    "Other commonly escaped characters are `\"\\n\"` for newline and `\"\\t\"` for tab. \n",
    "\n",
    "**Unicode characters** can be included, such as ``'20\\u20AC'`` for the string ``20€``."
   ]
  },
  {
   "cell_type": "code",
   "execution_count": 6,
   "metadata": {},
   "outputs": [
    {
     "name": "stdout",
     "output_type": "stream",
     "text": [
      "20 € ONLY!\n",
      "the escape room 'is real'\n",
      "'the numbers mason, what do they mean?'\n"
     ]
    }
   ],
   "source": [
    "print(\"20 \\u20AC ONLY!\") # 20 € ONLY!\n",
    "print(\"the escape room \\'is real\\'\")\n",
    "print(\"\\'the numbers mason, what do they mean?\\'\")"
   ]
  },
  {
   "cell_type": "markdown",
   "metadata": {},
   "source": [
    "There are `f-strings` and `r-strings` in python: `Formatted Strings` and `Raw Strings`"
   ]
  },
  {
   "cell_type": "code",
   "execution_count": 7,
   "metadata": {},
   "outputs": [
    {
     "name": "stdout",
     "output_type": "stream",
     "text": [
      "2 is not equal to 3 so the answer is: False\n"
     ]
    }
   ],
   "source": [
    "a , b = 2, 3\n",
    "print(f\"{a} is not equal to {b} so the answer is: {a == b}\")"
   ]
  },
  {
   "cell_type": "markdown",
   "metadata": {},
   "source": [
    "Python raw string treats the backslash character `\\` as a literal character. Raw string is useful when a string needs to contain a backslash, such as for a regular expression or Windows directory path, and you don’t want it to be treated as an escape character."
   ]
  },
  {
   "cell_type": "code",
   "execution_count": 1,
   "metadata": {},
   "outputs": [],
   "source": [
    "# Here is an example of an r-string, do not worry about the function\n",
    "\n",
    "def reset_accumulated_memory_stats(device: tuple[float, int] = None) -> None:\n",
    "    r\"\"\"Reset the \"accumulated\" (historical) stats tracked by the CUDA memory allocator.\n",
    "\n",
    "    See :func:`~torch.cuda.memory_stats` for details. Accumulated stats correspond to\n",
    "    the `\"allocated\"` and `\"freed\"` keys in each individual stat dict, as well as\n",
    "    `\"num_alloc_retries\"` and `\"num_ooms\"`.\n",
    "\n",
    "    Args:\n",
    "        device (torch.device or int, optional): selected device. Returns\n",
    "            statistic for the current device, given by :func:`~torch.cuda.current_device`,\n",
    "            if :attr:`device` is ``None`` (default).\n",
    "\n",
    "    .. note::\n",
    "        See :ref:`cuda-memory-management` for more details about GPU memory\n",
    "        management.\n",
    "    \"\"\"\n",
    "    device = _get_device_index(device, optional=True)\n",
    "    return torch._C._cuda_resetAccumulatedMemoryStats(device)"
   ]
  },
  {
   "cell_type": "markdown",
   "metadata": {},
   "source": [
    "### 4 different ways to concatenate Strings:"
   ]
  },
  {
   "cell_type": "code",
   "execution_count": 2,
   "metadata": {},
   "outputs": [],
   "source": [
    "def repeated_contatenation(n):\n",
    "\t# do not do this\n",
    "\tresult = \"\"\n",
    "\tfor i in range(n):\n",
    "\t\tresult += str(i)\n",
    "\treturn result\n",
    "\n",
    "def list_append_and_join(n):\n",
    "\ttemp = []\n",
    "\tfor i in range(n):\n",
    "\t\ttemp.append(str(i))\n",
    "\tresult = \"\".join(temp)\n",
    "\treturn result\n",
    "\n",
    "def list_comp(n):\n",
    "    # comprehensions are always good idea    \n",
    "\tresult = \"\".join([str(i) for i in range(n)])\n",
    "\treturn result\n",
    "\n",
    "\n",
    "def gen_comp(n):\n",
    "\t# no need for list anyway!\n",
    "\tresult = \"\".join(str(i) for i in range(n))\n",
    "\treturn result"
   ]
  },
  {
   "cell_type": "markdown",
   "metadata": {},
   "source": [
    "Here are the results:\n",
    "\n",
    "| Method | Time |\n",
    "| ---- | ---- |\n",
    "| `repeated_contatenation` | 0.1979 sec |\n",
    "| `list_append_and_join` | 0.1714 sec |\n",
    "| `list_comp` | 0.1514 sec |\n",
    "| `gen_comp` | 0.1434 sec |\n",
    "\n"
   ]
  },
  {
   "cell_type": "markdown",
   "metadata": {},
   "source": [
    "#### Composing Strings\n",
    "\n",
    "Doing repeated concatenation is terribly inefficient.\n",
    "\n",
    "##### WARNING: do not do this\n",
    "\n",
    "```python\n",
    "letters = \"\"\n",
    "for c in document:\n",
    "\tif c.isalpha():\n",
    "\t\tletters += c\n",
    "```\n",
    "\n",
    "Constructing the new string would require time proportional to its length. \n",
    "\n",
    "If the final result has n characters, the series of concatenations would take time proportional to the familiar sum $1 + 2 +3 + · · · + n$ , and therefore $O(n^{2})$ time.\n",
    "\n",
    "##### Instead - Use lists - strings with `split` and `join`\n",
    "\n",
    "Because appending to end of a list is $O(1)$. \n",
    "\n",
    "```python\n",
    "temp = []  # start with empty list\n",
    "for c in document:\n",
    "\tif c.isalpha():\n",
    "\t\ttemp.append(c)  # append alphabetic character\n",
    "letters = \"\".join(temp)  # compose overall result\n",
    "```\n",
    "\n",
    "##### Even better:\n",
    "\n",
    "```python\n",
    "letters = \"\".join([c for c in document if c.isalpha()])\n",
    "# not even a list is needed\n",
    "letters = \"\".join(c for c in document if c.isalpha())\n",
    "```"
   ]
  },
  {
   "cell_type": "code",
   "execution_count": 2,
   "metadata": {},
   "outputs": [
    {
     "data": {
      "text/plain": [
       "False"
      ]
     },
     "execution_count": 2,
     "metadata": {},
     "output_type": "execute_result"
    }
   ],
   "source": [
    "my_str = \"sezai\"\n",
    "my_str_slice = my_str[2:0]  # this is None\n",
    "bool(my_str_slice) # this is False"
   ]
  },
  {
   "cell_type": "code",
   "execution_count": 6,
   "metadata": {},
   "outputs": [
    {
     "name": "stdout",
     "output_type": "stream",
     "text": [
      "k\n",
      "True False False True\n"
     ]
    }
   ],
   "source": [
    "# a lot of string methods to use\n",
    "\n",
    "# they can change the strings\n",
    "print(\"K\".lower())\n",
    "\n",
    "# they can tell you things about them\n",
    "print(\"asd\".islower(), \"asdF\".islower(), \"asd12\".isalpha(), \"asd12\".isalnum())"
   ]
  },
  {
   "cell_type": "markdown",
   "metadata": {},
   "source": [
    "### Prefix and Suffix"
   ]
  },
  {
   "cell_type": "code",
   "execution_count": 4,
   "metadata": {},
   "outputs": [],
   "source": [
    "S = \"CGTAAACTGCTTTAATCAAACGC\"\n",
    "\n",
    "my_prefix = \"CGTAA\"\n",
    "\n",
    "my_suffix = \"CGC\"\n",
    "\n",
    "prefix_to_all = \"\" # null strings are prefixs for all strings.\n",
    "suffix_to_all = \"\" # null strings are suffixes for all strings."
   ]
  },
  {
   "cell_type": "markdown",
   "metadata": {},
   "source": [
    "### Searching for Substrings  \n",
    "\n",
    "The operator syntax, pattern in s, can be used to determine if the given pattern occurs as a substring of string s. Table A.1 describes several related methods that determine the number of such occurrences, and the index at which the leftmost or rightmost such occurrence begins. \n",
    "\n",
    "Each of the functions in this table accepts two optional parameters, start and end, which are indices that effectively restrict the search to the implicit slice `s[start:end]`. For example, the call `s.find(pattern, 5)` restricts the search to `s[5:]`.\n",
    "\n",
    "==Table A.1== \n",
    "\n",
    "| Calling Syntax |  Description  |\n",
    "|-|-|\n",
    "|`s.count(pattern)` | Return the number of non-overlapping occurrences of pattern  |\n",
    "|`s.find(pattern)` |Return the index starting the leftmost occurrence of pattern; else `-1`  |\n",
    "|`s.index(pattern)` |Similar to `find`, but raise `ValueError` if not found.  |\n",
    "|`s.rfind(pattern)` |Return the index starting the rightmost occurrence of pattern; else `-1`  |\n",
    "|`s.rindex(pattern)` |Similar to `rfind`, but raise `ValueError` if not found. |\n",
    "\n",
    "\n",
    "Using `find` might be safer, if you do not want to raise an `Exception`."
   ]
  },
  {
   "cell_type": "markdown",
   "metadata": {},
   "source": [
    "### Constructing Related Strings  \n",
    "\n",
    "Strings in Python are **immutable**, so none of their methods modify an existing string instance. \n",
    "\n",
    "However, many methods return a newly constructed string that is closely related to an existing one. \n",
    "\n",
    "Table A.2 provides a summary of such methods, including those that replace a given pattern with another, that vary the case of alphabetic characters, that produce a fixed-width string with desired justification, and that produce a copy of a string with extraneous characters stripped from either end.\n",
    "\n",
    "==Table A.2==\n",
    "\n",
    "|Calling Syntax |  Description  |\n",
    "|-|-|\n",
    "|`s.replace(old, new)` |Return a copy of s with all occurrences of old replaced by new  |\n",
    "|`s.capitalize()` |Return a copy of s with its first character having uppercase  |\n",
    "|`s.upper()` |Return a copy of s with all alphabetic characters in uppercase  |\n",
    "|`s.lower()` |Return a copy of s with all alphabetic characters in lowercase  |\n",
    "|`s.center(width)` |Return a copy of s, padded to width, centered among spaces  |\n",
    "|`s.ljust(width)` |Return a copy of s, padded to width with trailing spaces  |\n",
    "|`s.rjust(width)` |Return a copy of s, padded to width with leading spaces  |\n",
    "|`s.zfill(width)` |Return a copy of s, padded to width with leading zeros  |\n",
    "|`s.strip()` |Return a copy of s, with leading and trailing whitespace removed  |\n",
    "|`s.lstrip()`| Return a copy of s, with leading whitespace removed  |\n",
    "|`s.rstrip()` |Return a copy of s, with trailing whitespace removed|\n",
    "\n",
    "Several of these methods accept optional parameters not detailed in the table. \n",
    "\n",
    "For example, the `replace` method replaces all non overlapping occurrences of the old pattern by default, but an optional parameter can limit the number of replacements that are performed. "
   ]
  },
  {
   "cell_type": "markdown",
   "metadata": {},
   "source": [
    "### Testing Boolean Conditions  \n",
    "\n",
    "==Table A.3== includes methods that test for a Boolean property of a string, such as whether it begins or ends with a pattern, or whether its characters qualify as being alphabetic, numeric, whitespace, etc. \n",
    "\n",
    "For the standard ASCII character set, alphabetic characters are the uppercase A–Z, and lowercase a–z, numeric digits are 0–9, and whitespace includes the space character, tab character, newline, and carriage return.\n",
    "\n",
    "Conventions for what are considered alphabetic and numeric character codes are extended to more general Unicode character sets.\n",
    "\n",
    "|Calling Syntax |Description  |\n",
    "|-|-|\n",
    "|`s.startswith(pattern)` |Return `True` if `pattern` is a prefix of string s  |\n",
    "|`s.endswith(pattern)`| Return `True` if `pattern` is a suffix of string s  |\n",
    "|`s.isspace()` |Return `True` if all characters of nonempty string are whitespace  |\n",
    "|`s.isalpha()`| Return `True` if all characters of nonempty string are alphabetic  |\n",
    "|`s.islower()` |Return `True` if there are one or more alphabetic characters, all of which are lowercased  |\n",
    "|`s.isupper()`| Return `True` if there are one or more alphabetic characters, all of which are uppercased  |\n",
    "|`s.isdigit()`| Return `True` if all characters of nonempty string are in 0–9  |\n",
    "|`s.isdecimal()` |Return `True` if all characters of nonempty string represent digits 0–9, including Unicode equivalents  |\n",
    "|`s.isnumeric()` |Return `True` if all characters of nonempty string are numeric Unicode characters (e.g., 0–9, equivalents, fraction characters)  |\n",
    "| `s.isalnum()`| Return `True` if all characters of nonempty string are either alphabetic or numeric (as per above definitions) |\n"
   ]
  },
  {
   "cell_type": "markdown",
   "metadata": {},
   "source": [
    "### Splitting and Joining Strings  😎\n",
    "\n",
    "==Table A.4== describes several important methods of Python’s string class, used to compose a sequence of strings together using a delimiter to separate each pair, or to take an existing string and determine a decomposition of that string based upon existence of a given separating pattern.  \n",
    "\n",
    "This is important because you want to do operations on lists not repeatedly made strings:\n",
    "\n",
    "|Calling Syntax |Description  |\n",
    "|-|-|\n",
    "|`sep.join(strings)` |Return the composition of the given sequence of strings, inserting sep as delimiter between each pair  |\n",
    "|`s.splitlines()` |Return a `list` of substrings of s, as delimited by newlines  \n",
    "|`s.split(sep, count)`| Return a `list` of substrings of s, as delimited by the first count occurrences of sep. If count is not specified, split on all occurrences. If sep is not specified, use whitespace `\" \"` as delimiter.  |\n",
    "|`s.rsplit(sep, count)` |Similar to split, but using the rightmost occurrences of sep  |\n",
    "|`s.partition(sep) `|Return (head, sep, tail) such that s = head + sep + tail, using leftmost occurrence of sep, if any; else return (s, , )  |\n",
    "|`s.rpartition(sep)` |Return (head, sep, tail) such that s = head + sep + tail, using rightmost occurrence of sep, if any; else return ( , , s)|\n",
    "\n",
    "\n",
    "The `join` method is used to assemble a string from a series of pieces. "
   ]
  },
  {
   "cell_type": "code",
   "execution_count": 5,
   "metadata": {},
   "outputs": [
    {
     "name": "stdout",
     "output_type": "stream",
     "text": [
      "red and green and blue\n"
     ]
    }
   ],
   "source": [
    "sentence = ' and '.join([ \"red\" , \"green\" , \"blue\" ]) \n",
    "print(sentence) # \"red and green and blue\""
   ]
  },
  {
   "cell_type": "code",
   "execution_count": 6,
   "metadata": {},
   "outputs": [
    {
     "name": "stdout",
     "output_type": "stream",
     "text": [
      "['red', 'green', 'blue']\n"
     ]
    }
   ],
   "source": [
    "list_one = \"red and green and blue\".split(\" and \")\n",
    "print(list_one)  # [ \"red\" , \"green\" , \"blue\" ]"
   ]
  },
  {
   "cell_type": "code",
   "execution_count": 7,
   "metadata": {},
   "outputs": [
    {
     "name": "stdout",
     "output_type": "stream",
     "text": [
      "['red', 'and', 'green', 'and', 'blue']\n"
     ]
    }
   ],
   "source": [
    "list_two = \"red and green and blue\".split() # Uses whitespace as delimiter\n",
    "print(list_two) # [ \"red\" , \"and\" , \"green\" , \"and\" , \"blue\" ]."
   ]
  },
  {
   "cell_type": "markdown",
   "metadata": {},
   "source": [
    "## Pattern - Matching Algorithms\n",
    "\n",
    "\n",
    "In the classic pattern-matching problem, we are given a text string T of length n and a pattern string P of length m, and want to find whether P is a substring of T."
   ]
  },
  {
   "cell_type": "code",
   "execution_count": 8,
   "metadata": {},
   "outputs": [
    {
     "name": "stdout",
     "output_type": "stream",
     "text": [
      "where is underscore? 2\n",
      "where is l? 3\n",
      "where is next l? 8\n",
      "how many e's are in my_str?: 4\n",
      "('we_love_learning_it', ' ', 'makes us grow!')\n",
      "['we_love_learning_it', 'makes', 'us', 'grow!']\n",
      "we_love_learning_it helps us grow!\n"
     ]
    }
   ],
   "source": [
    "my_str = \"we_love_learning_it makes us grow!\"\n",
    "\n",
    "print(f\"where is underscore? {my_str.find('_')}\") # 2\n",
    "\n",
    "print(f\"where is l? {my_str.index('l')}\") # 3\n",
    "\n",
    "print(f\"where is next l? {my_str.index('l', 4)}\") # 8\n",
    "\n",
    "print(f\"how many e's are in my_str?: {my_str.count('e')}\") # 4\n",
    "\n",
    "# Partition the string into three parts using the given separator.\n",
    "print(my_str.partition(\" \"))\n",
    "\n",
    "# Return a list of the words in the string, using sep as the delimiter string.\n",
    "print(my_str.split())\n",
    "\n",
    "# Return a copy with all occurrences of substring old replaced by new.\n",
    "print(my_str.replace(\"makes\", \"helps\"))"
   ]
  },
  {
   "cell_type": "markdown",
   "metadata": {},
   "source": [
    "Here is another workout:"
   ]
  },
  {
   "cell_type": "code",
   "execution_count": 12,
   "metadata": {},
   "outputs": [
    {
     "name": "stdout",
     "output_type": "stream",
     "text": [
      "7\n",
      "4\n",
      "-1\n",
      "4\n",
      "substring not found\n",
      "9\n",
      "2\n",
      "at\n",
      "('Tuscan', ' ', 'Leather')\n"
     ]
    }
   ],
   "source": [
    "drake = \"Tuscan Leather\"\n",
    "\n",
    "print(drake.find(\"L\")) # 7\n",
    "\n",
    "# start, end\n",
    "print(drake.find(\"a\", 0, 6)) # 4\n",
    "\n",
    "print(drake.find(\"W\")) # -1\n",
    "\n",
    "print(drake.index(\"a\")) # 4\n",
    "\n",
    "try:\n",
    "    print(drake.index(\"W\")) # ValueError substring not found\n",
    "except Exception as e:\n",
    "    print(e)\n",
    "\n",
    "print(drake.index(\"a\", 5)) # 9\n",
    "\n",
    "print(drake.lower().count(\"t\")) # 2\n",
    "\n",
    "print(drake.split()[1][2:4]) # at\n",
    "\n",
    "print(drake.partition(\" \")) # ('Tuscan', ' ', 'Leather')"
   ]
  },
  {
   "cell_type": "markdown",
   "metadata": {},
   "source": []
  },
  {
   "cell_type": "markdown",
   "metadata": {},
   "source": [
    "## Example Questions Here:"
   ]
  },
  {
   "cell_type": "code",
   "execution_count": 5,
   "metadata": {},
   "outputs": [
    {
     "name": "stdout",
     "output_type": "stream",
     "text": [
      "False\n",
      "True\n"
     ]
    }
   ],
   "source": [
    "from collections import Counter\n",
    "\n",
    "def isAnagram(s: str, t: str) -> bool:\n",
    "    return Counter(s) == Counter(t) \n",
    "\n",
    "print(isAnagram(\"rat\", \"car\"))\n",
    "\n",
    "\n",
    "# or map approach\n",
    "def isAnagramTwo(s: str, t: str) -> bool:\n",
    "    \n",
    "    def make_counter_map(container: str) -> dict:\n",
    "        map = {}\n",
    "        for elem in container:\n",
    "            map[elem] = map.get(elem, 0) + 1\n",
    "        return map\n",
    "    \n",
    "    return make_counter_map(s) == make_counter_map(t)\n",
    "\n",
    "print(isAnagramTwo(\"car\", \"rac\"))"
   ]
  },
  {
   "cell_type": "code",
   "execution_count": 6,
   "metadata": {},
   "outputs": [
    {
     "name": "stdout",
     "output_type": "stream",
     "text": [
      "[['eat', 'tea', 'ate'], ['tan', 'nat'], ['bat']]\n"
     ]
    }
   ],
   "source": [
    "from collections import defaultdict\n",
    "\n",
    "def groupAnagrams(strs: list[str]) -> list[list[str]]:\n",
    "    \n",
    "    # every key has a empty list as default\n",
    "    res = defaultdict(list)\n",
    "    for s in strs:\n",
    "        # we can use a tuple for our dict keys\n",
    "        # sorted returns a list\n",
    "        # make it a tuple for it to be hashable\n",
    "        res[tuple(sorted(s))].append(s)\n",
    "\n",
    "    return list(res.values()) \n",
    "    \n",
    "print(groupAnagrams([\"eat\",\"tea\",\"tan\",\"ate\",\"nat\",\"bat\"]))"
   ]
  },
  {
   "cell_type": "code",
   "execution_count": 1,
   "metadata": {},
   "outputs": [
    {
     "name": "stdout",
     "output_type": "stream",
     "text": [
      "True\n",
      "False\n",
      "True\n",
      "False\n",
      "True\n",
      "False\n"
     ]
    }
   ],
   "source": [
    "\"\"\"\n",
    "Q: A phrase is a palindrome if, after converting all \n",
    "uppercase letters into lowercase letters and removing \n",
    "all non-alphanumeric characters, it reads the same \n",
    "forward and backward. \n",
    "\n",
    "Alphanumeric characters include letters and numbers.\n",
    "\n",
    "Given a string s, return true if it is a palindrome, or \n",
    "false otherwise.\n",
    "\n",
    "Example 1:\n",
    "\n",
    "    Input: s = \"A man, a plan, a canal: Panama\"\n",
    "    Output: true\n",
    "    \n",
    "    Explanation: \"amanaplanacanalpanama\" is a palindrome.\n",
    "\n",
    "Example 2:\n",
    "\n",
    "    Input: s = \"race a car\"\n",
    "    Output: false\n",
    "    \n",
    "    Explanation: \"raceacar\" is not a palindrome.\n",
    "\n",
    "Example 3:\n",
    "\n",
    "    Input: s = \" \"\n",
    "    Output: true\n",
    "    \n",
    "    Explanation: s is an empty string \"\" after removing \n",
    "        non-alphanumeric characters.\n",
    "        Since an empty string reads the same forward and \n",
    "        backward, it is a palindrome.\n",
    "\n",
    "\"\"\"\n",
    "\n",
    "class Solution:\n",
    "    def isPalindrome_(self, s:str):\n",
    "        # we can simply use string methods.\n",
    "\n",
    "        result_string = \"\"\n",
    "\n",
    "        for c in s:\n",
    "            if c.isalnum():\n",
    "                result_string += c.lower()\n",
    "\n",
    "        return result_string == result_string[::-1]\n",
    "\n",
    "\n",
    "    def isPalindrome(self, s: str):\n",
    "        # we can use two pointers and not worry about \n",
    "        # reversing the string\n",
    "        \n",
    "        l, r = 0 , len(s) - 1\n",
    "\n",
    "        while l < r:\n",
    "            # pass all non alphanumeric characters\n",
    "            while l < r and not s[l].isalpha():\n",
    "                l += 1\n",
    "            while r > l and not s[r].isalpha():\n",
    "                r -= 1\n",
    "            # check equality\n",
    "            if s[l].lower() != s[r].lower():\n",
    "                return False\n",
    "            l, r = l + 1, r - 1\n",
    "\n",
    "        # if all passed, we found a Palindrome\n",
    "        return True\n",
    "\n",
    "    def isPalindrome__(self, s: str):\n",
    "        \"\"\"You can write the alphanumeric function yourself.\n",
    "        Also you dont need to reverse the string. \n",
    "        You can compare the characters one by one\"\"\"\n",
    "\n",
    "        l, r = 0 , len(s) - 1\n",
    "\n",
    "        while l < r:\n",
    "            # pass all non alphanumeric characters\n",
    "            while l < r and not self.alphanumeric(s[l]):\n",
    "                l += 1\n",
    "            while r > l and not self.alphanumeric(s[r]):\n",
    "                r -= 1\n",
    "            # check equality\n",
    "            if s[l].lower() != s[r].lower():\n",
    "                return False\n",
    "            l, r = l + 1, r - 1\n",
    "\n",
    "        # if all passed, we found a Palindrome\n",
    "        return True\n",
    "\n",
    "    def alphanumeric(self, s):\n",
    "        return (ord(\"A\") <= ord(s) <= ord(\"Z\")) or \\\n",
    "            (ord(\"a\") <= ord(s) <= ord(\"z\")) or \\\n",
    "            (ord(\"0\") <= ord(s) <= ord(\"9\"))\n",
    "\n",
    "if __name__ == '__main__':\n",
    "    sol = Solution()\n",
    "\n",
    "    # best approach ?\n",
    "    print(sol.isPalindrome(s = \"A man, a plan, a canal: Panama\"))\n",
    "    print(sol.isPalindrome(s = \"race a car\"))\n",
    "\n",
    "    # second approach - string methods\n",
    "    print(sol.isPalindrome_(s = \"A man, a plan, a canal: Panama\"))\n",
    "    print(sol.isPalindrome_(s = \"race a car\"))\n",
    "\n",
    "    # third approach, our own alphanumeric function\n",
    "    print(sol.isPalindrome__(s = \"A man, a plan, a canal: Panama\"))\n",
    "    print(sol.isPalindrome__(s = \"race a car\"))"
   ]
  },
  {
   "cell_type": "code",
   "execution_count": null,
   "metadata": {},
   "outputs": [],
   "source": []
  }
 ],
 "metadata": {
  "kernelspec": {
   "display_name": "learn",
   "language": "python",
   "name": "python3"
  },
  "language_info": {
   "codemirror_mode": {
    "name": "ipython",
    "version": 3
   },
   "file_extension": ".py",
   "mimetype": "text/x-python",
   "name": "python",
   "nbconvert_exporter": "python",
   "pygments_lexer": "ipython3",
   "version": "3.12.0"
  }
 },
 "nbformat": 4,
 "nbformat_minor": 2
}
