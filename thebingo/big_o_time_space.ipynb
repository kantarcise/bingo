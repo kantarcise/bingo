{
 "cells": [
  {
   "cell_type": "markdown",
   "metadata": {},
   "source": [
    "## Big O - Time and Space Tradeoff\n",
    "\n",
    "We are interested in the design of “**good**” data structures and algorithms. "
   ]
  },
  {
   "cell_type": "markdown",
   "metadata": {},
   "source": [
    "### Why?\n",
    "\n",
    "Because experimental analysis is hard to make a baseline. Software and Hardware changes.\n",
    "\n",
    "Cannot really stretch the inputs size.\n",
    "\n",
    "Need full implementation."
   ]
  },
  {
   "cell_type": "markdown",
   "metadata": {},
   "source": [
    "\n",
    "Is there something independent of OS, takes into account of all possible inputs and with a high level description (without the need of implementation) ?\n",
    "\n",
    "#### Counting Primitive Operations\n",
    "\n",
    "To analyze the running time of an algorithm without performing experiments, we perform an analysis directly on a high-level description of the algorithm (either in the form of an actual code fragment, or language-independent pseudo-code). "
   ]
  },
  {
   "cell_type": "markdown",
   "metadata": {},
   "source": [
    "#### Measuring Operations as a Function of Input Size 🤔\n",
    "\n",
    "To capture the order of growth of an algorithm’s running time, we will associate,  with each algorithm, a function $f(n)$ that **characterizes the number of primitive operations** that are performed as a function of the input size $n$.\n",
    "\n",
    "So the $f(n)$ is to **characterize the number of primitive operations**. \n",
    "#### Focusing on the Worst Case Input\n",
    "\n",
    "An algorithm may run faster on some inputs than it does on others of the same size. Thus, we may wish to express the running time of an algorithm as the function of the input size obtained by taking the average over all possible inputs of the same size. Unfortunately, such an average-case analysis is typically quite challenging.\n",
    "\n",
    "Worst-case analysis is much easier than average-case analysis, as it requires only the ability to identify the worst-case input, which is often simple."
   ]
  },
  {
   "cell_type": "markdown",
   "metadata": {},
   "source": [
    "## Seven Functions - `the 7` 😉"
   ]
  },
  {
   "cell_type": "markdown",
   "metadata": {},
   "source": [
    "### The Constant Function - $f(n) = c$\n",
    "\n",
    "For any argument $n$, the constant function $f(n)$ assigns the value $c$. In other words, it does not matter what the value of n is; $f(n)$ will always be equal to the constant value c.\n",
    "$$f(n) = c$$\n",
    "\n",
    "```python\n",
    "a = 9\n",
    "my_str = \"e\"\n",
    "print(len([1,2,3]))\n",
    "```"
   ]
  },
  {
   "cell_type": "markdown",
   "metadata": {},
   "source": [
    "### The Logarithm Function - $log_b(n)$ \n",
    "\n",
    "One of the interesting and sometimes even surprising aspects of the analysis of data structures and algorithms is the ubiquitous presence of the logarithm function, \n",
    "$$f(n) = log_b(n)\n",
    "\n",
    "$$ for some constant $b > 1$. \n",
    "\n",
    "This function is defined as follows: $$x = log_b(n)$$ if and only if $$b^x = n$$\n",
    "```python\n",
    "def binary_search(collection: list, target: int) -> int:\n",
    "\t\"\"\"Return the index of a target number in \n",
    "\tnon decreasing collection. If target is not in the\n",
    "\tcollection, return -1\"\"\"\n",
    "\tlow, high = 0, len(collection) - 1\n",
    "\twhile low <= high:\n",
    "\t\tmiddle = low + ((high - low) // 2)\n",
    "\t\tif target == collection[middle]:\n",
    "\t\t\treturn middle\n",
    "\t\telif target < collection[middle]:\n",
    "\t\t\thigh = middle - 1\n",
    "\t\telse:\n",
    "\t\t\tlow = middle + 1\n",
    "\treturn -1\n",
    "```\n",
    "\n",
    "By definition, $log_b(1) = 0$. The value $b$ is known as the base of the logarithm.\n",
    "\n",
    "Here are some properties about $log$:\n",
    "\n",
    "Given real numbers $a > 0,  b > 1,  c > 0, d > 1$ , we have:\n",
    "\n",
    "1. $log_b(ac) = log_b(a) + log_b(c)$\n",
    "2. $log_b(a/c) = log_b(a) − log_b(c)$\n",
    "3. $log_b(a^c) = c * log_b(a)$\n",
    "4. $log_b a = log_d(a)/ log_d(b)$\n",
    "5. $b^{log_d(a)} = a^{log_d(b)}$"
   ]
  },
  {
   "cell_type": "markdown",
   "metadata": {},
   "source": [
    "### The Linear Function 😍 - $f(n) = n$\n",
    "\n",
    "Another simple yet important function is the linear function,\n",
    "$$f(n) = n$$\n",
    "\n",
    "That is, given an input value $n$, the linear function $f$ assigns the value $n$ itself.\n",
    "\n",
    "This function arises in algorithm analysis any time we have to do a single basic operation for each of $n$ elements. \n",
    "\n",
    "For example, comparing a number $x$ to each element of a sequence of size $n$ will require $n$ comparisons.\n",
    "\n",
    "```python\n",
    "seq = [\"1\", \"5\", \"9\"]\n",
    "x = 4\n",
    "for elem in seq:\n",
    "\tif (int(elem) > x) and elem.isprintable():\n",
    "\t\tprint(elem)\n",
    "\n",
    "# also just making a list is o(n) too\n",
    "my_list = [\"w\", \"w\", \"l\", \"w\", \"l\", \"l\"]\n",
    "```\n",
    "\n",
    "The linear function also represents the best running time we can hope to achieve for any algorithm that processes each of n objects that are not already in the computer’s memory, because reading in the n objects already requires n operations."
   ]
  },
  {
   "cell_type": "markdown",
   "metadata": {},
   "source": [
    "### The N-Log-N Function - `sorted(iterable)` or `my_list.sort()`\n",
    "\n",
    "The function that assigns to an input $n$ the value of $n$ times the logarithm base-two of $n$. \n",
    "$$f(n) = n * log(n)$$\n",
    "\n",
    "This function grows a **little more rapidly** than the linear function and **a lot less rapidly** than the quadratic function; therefore, we would ==greatly prefer== an algorithm with a running time that is proportional to $n*log (n)$, than one with quadratic running time.\n",
    "\n",
    "```python\n",
    "from heapq import heapify, heappop\n",
    "def heap_sort(seq):\n",
    "\theapify(seq)\n",
    "\tres = []\n",
    "\twhile seq:\n",
    "\t\tres.append(heappop(seq))\n",
    "\treturn res\n",
    "```"
   ]
  },
  {
   "cell_type": "markdown",
   "metadata": {},
   "source": [
    "### The Quadratic Function 😕\n",
    "\n",
    "Given an input value $n$, the function f assigns the product of $n$ with itself (in other words, “n squared”).\n",
    "$$f(n) = n ^ 2$$\n",
    "\n",
    "```python\n",
    "rows = 5\n",
    "# outer loop\n",
    "for i in range(1, rows + 1):\n",
    "\t# inner loop\n",
    "\tfor j in range(1, i + 1):\n",
    "\t\tprint(\"*\", end=\" \")\n",
    "\tprint('')\n",
    "# * \n",
    "# * * \n",
    "# * * * \n",
    "# * * * * \n",
    "# * * * * *\n",
    "```\n",
    "\n",
    "The main reason why the quadratic function appears in the analysis of algorithms is that there are many algorithms that have nested loops, where the inner loop performs a linear number of operations and the outer loop is performed a linear number of times. \n",
    "\n",
    "Thus, in such cases, the algorithm performs $n * n = n^2$ operations.\n",
    "\n",
    "The quadratic function can also arise in the context of nested loops where the first iteration of a loop uses one operation, the second uses two operations, the third uses three operations, and so on. That is, the number of operations is $$1 + 2 + 3 + · · · + (n − 2) + (n − 1) + n = \\frac{n * (n-1)}{2}$$"
   ]
  },
  {
   "cell_type": "markdown",
   "metadata": {},
   "source": [
    "### The Cubic Function and Other Polynomials 😮\n",
    "\n",
    "Continuing our discussion of functions that are powers of the input, we consider the cubic function,$$f(n) = n^3$$ which assigns to an input value $n$ the product of $n$ with itself three times."
   ]
  },
  {
   "cell_type": "markdown",
   "metadata": {},
   "source": [
    "### The Exponential Function  😦\n",
    "\n",
    "Another function used in the analysis of algorithms is the exponential function,\n",
    "\n",
    "$$f(n) = b^n$$\n",
    "\n",
    "where $b$ is a positive constant, called the base, and the argument $n$ is the exponent. That is, function $f(n)$ assigns to the input argument $n$ the value obtained by multiplying the base $b$ by itself $n$ times.\n",
    "\n",
    "If we have a loop that starts by performing one operation and then doubles the number of operations performed with each iteration, then the number of operations performed in the `nth` iteration is $2^n$ ."
   ]
  },
  {
   "cell_type": "markdown",
   "metadata": {},
   "source": [
    "- We generally use better data structures in our solutions to improve runtime.\n",
    "\n",
    "- We can use different tecniques to simply and/or improve the solutions, greedy or Dynamic Programming.\n",
    "\n",
    "- 1D-DP is a classic way to get to O(n) time complexity.\n",
    "\n",
    "- We can state the **Best Conceivable Runtime** in a question and attempt to achieve it as we optimize."
   ]
  },
  {
   "cell_type": "markdown",
   "metadata": {},
   "source": [
    "## Examples from the Cracking the Coding Interview! ✅"
   ]
  },
  {
   "cell_type": "code",
   "execution_count": 1,
   "metadata": {},
   "outputs": [],
   "source": [
    "# O(n) because the fact that we \n",
    "# iterate twice does not matter \n",
    "\n",
    "def foo(array):\n",
    "    sum_val = 0\n",
    "    product = 1\n",
    "    for i in range(len(array)):\n",
    "        sum_val += array[i]\n",
    "    for i in range(len(array)):\n",
    "        product *= array[i]\n",
    "    print(sum_val, product)"
   ]
  },
  {
   "cell_type": "code",
   "execution_count": 3,
   "metadata": {},
   "outputs": [],
   "source": [
    "# O(n^2) because there is a nested loop\n",
    "def printPairs(array):\n",
    "    for i in range(len(array)):\n",
    "        for j in range(len(array)):\n",
    "            print(array[i], \",\", array[j])"
   ]
  },
  {
   "cell_type": "markdown",
   "metadata": {},
   "source": [
    "The sum of $1$ through $N-1$ is $N*(N-1) / 2$ so tHe runtime will be $O(N^{2})$."
   ]
  },
  {
   "cell_type": "code",
   "execution_count": 5,
   "metadata": {},
   "outputs": [],
   "source": [
    "# O(A * B) becuase these are 2 different arrays\n",
    "\n",
    "# This is not O(n^2), this is extremely common mistake\n",
    "def printUnorderedPairs(arrayA, arrayB):\n",
    "    for i in range(len(arrayA)):\n",
    "        for j in range(len(arrayB)):\n",
    "            if arrayA[i] < arrayB[j]:\n",
    "                print(arrayA[i], \",\", arrayB[j])"
   ]
  },
  {
   "cell_type": "code",
   "execution_count": null,
   "metadata": {},
   "outputs": [],
   "source": [
    "# Still o(A*B) \n",
    "# the nested work does not matter.\n",
    "# Nothing has really changed here. 100,000 units of \n",
    "# work is still constant, so the runtime is o(A*B) . \n",
    "\n",
    "def printUnorderedPairs(arrayA, arrayB):\n",
    "    for i in range(len(arrayA)):\n",
    "        for j in range(len(arrayB)):\n",
    "            for k in range(100000):\n",
    "                print(arrayA[i], \",\", arrayB[j])"
   ]
  },
  {
   "cell_type": "code",
   "execution_count": 7,
   "metadata": {},
   "outputs": [
    {
     "name": "stdout",
     "output_type": "stream",
     "text": [
      "[4, 3, 2, 1, 0]\n",
      "[4, 3, 2, 1, 0]\n"
     ]
    }
   ],
   "source": [
    "# O(n) time \n",
    "# The fact that it only goes through half of the array \n",
    "# (in terms of iterations) does not impact the big O time. \n",
    "def reverse(array):\n",
    "    for i in range(len(array) // 2):\n",
    "        other = len(array) - i - 1\n",
    "        temp = array[i]\n",
    "        array[i] = array[other]\n",
    "        array[other] = temp\n",
    "\n",
    "    return array\n",
    "\n",
    "# you want to make your Python code look like \n",
    "# Python code to other Pythonistas\n",
    "def reverse_pythonic(array):\n",
    "    for i in range(len(array) // 2):\n",
    "        array[i], array[len(array) - 1 - i] = array[len(array) - 1 - i], array[i]\n",
    "    return array\n",
    "\n",
    "print(reverse([0,1,2,3,4]))\n",
    "print(reverse_pythonic([0,1,2,3,4]))"
   ]
  },
  {
   "cell_type": "markdown",
   "metadata": {},
   "source": [
    "Which of the following are equivalent to O(N)? Why?\n",
    "\n",
    "- $O(N + P)$, where $P < N/2$\n",
    "- $0(2N)$\n",
    "- $O(N + log N)$ \n",
    "- $O(N + M)$\n",
    "\n",
    "Let's go through them:\n",
    "\n",
    "- First one, because P is smaller.\n",
    "- Second one, because constant $2$ is a constant.\n",
    "- Third one, because $(logN)$ is dominated by $O(n)$\n",
    "- We do not know, cannot tell.\n",
    "\n",
    "All but the last one are equivalent to O(N). "
   ]
  },
  {
   "cell_type": "markdown",
   "metadata": {},
   "source": [
    "### Verbal Question\n",
    "\n",
    "Suppose we had an algorithm that took in an array of strings, sorted each string, and then sorted the full array. \n",
    "\n",
    "What would the runtime be?\n",
    "\n",
    "### Solution:\n",
    "\n",
    "Let s be the length of the longest string.\n",
    "\n",
    "Let a be the length of the array.\n",
    "\n",
    "Now we can work through this in parts:\n",
    "• Sorting each string is $0( s log s)$.\n",
    "• We have to do this for every string (and there are a strings), so that's $0( a* s log s)$.\n",
    "\n",
    "Now we have to sort all the strings. There are a strings, so you'll may be inclined to say that this takes $O ( a log a)$ time. This is what most candidates would say. You should also take into account that you need to compare the strings. Each string comparison takes $O(s)$ time. There are $O(a log a)$ comparisons, therefore this will take $0( a*s log a)$ time.\n",
    "\n",
    "If you add up these two parts, you get $0( a* s ( log a + log s))$.\n",
    "\n",
    "This is it. There is no way to reduce it further"
   ]
  },
  {
   "cell_type": "code",
   "execution_count": null,
   "metadata": {},
   "outputs": [],
   "source": [
    "# The following simple code sums the values of all \n",
    "# the nodes in a balanced binary search tree. \n",
    "# What is it's runtime? \n",
    "\n",
    "# O(n) - \n",
    "# Because that's how many times this method will run \n",
    "def sum_node(node):\n",
    "    if node is None:\n",
    "        return 0\n",
    "    return sum_node(node.left) + node.value + sum_node(node.right)"
   ]
  },
  {
   "cell_type": "markdown",
   "metadata": {},
   "source": [
    "We can also find this result with Recursive Pattern\n",
    "\n",
    "The runtime of a recursive function with multiple branches is typically $O(branches^{depth})$.\n",
    "\n",
    "There are two branches at each call, so we're looking at $0(2^{depth})$.\n",
    "\n",
    "Depth in a balanced binary search tree is $(logn)$\n",
    "\n",
    "So the time complexity is: $O(2^{logN})$ = $O(N)$"
   ]
  },
  {
   "cell_type": "code",
   "execution_count": 9,
   "metadata": {},
   "outputs": [
    {
     "name": "stdout",
     "output_type": "stream",
     "text": [
      "True\n",
      "False\n"
     ]
    }
   ],
   "source": [
    "# The following method checks if a number is prime \n",
    "# by checking for divisibility on numbers less than it. \n",
    "\n",
    "# It only needs to go up to the square root of n because \n",
    "# if n is divisible by a number greater than its square root then\n",
    "# it's divisible by something smaller than it.\n",
    "\n",
    "# Time complexity is: O( n ** (1/2)). \n",
    "\n",
    "def is_prime(n):\n",
    "    # iterate from 2 \n",
    "    # until square root of given number\n",
    "    for x in range(2, int(n**0.5) + 1):\n",
    "        if n % x == 0:\n",
    "            return False\n",
    "    return True\n",
    "\n",
    "print(is_prime(17))\n",
    "print(is_prime(15))"
   ]
  },
  {
   "cell_type": "code",
   "execution_count": 10,
   "metadata": {},
   "outputs": [
    {
     "data": {
      "text/plain": [
       "120"
      ]
     },
     "execution_count": 10,
     "metadata": {},
     "output_type": "execute_result"
    }
   ],
   "source": [
    "# Just straight up Factorial\n",
    "# Time Complexity is O(n)\n",
    "\n",
    "def factorial(n):\n",
    "    if n < 0:\n",
    "        return -1\n",
    "    elif n == 0:\n",
    "        return 1\n",
    "    else:\n",
    "        return n * factorial(n - 1)\n",
    "    \n",
    "factorial(5)"
   ]
  },
  {
   "cell_type": "code",
   "execution_count": 11,
   "metadata": {},
   "outputs": [
    {
     "name": "stdout",
     "output_type": "stream",
     "text": [
      "abc\n",
      "acb\n",
      "bac\n",
      "bca\n",
      "cab\n",
      "cba\n"
     ]
    }
   ],
   "source": [
    "# Count all permutations of a string.\n",
    "\n",
    "# This is O(N^2 * N!)\n",
    "\n",
    "def permutation(s):\n",
    "    permutation_helper(s, \"\")\n",
    "\n",
    "def permutation_helper(s, prefix):\n",
    "    if len(s) == 0:\n",
    "        print(prefix)\n",
    "    else:\n",
    "        for i in range(len(s)):\n",
    "            rem = s[:i] + s[i+1:]\n",
    "            permutation_helper(rem, prefix + s[i])\n",
    "\n",
    "permutation(\"abc\")"
   ]
  },
  {
   "cell_type": "markdown",
   "metadata": {},
   "source": [
    "#### How many times does permutation get called in its base case?\n",
    "\n",
    "If we were to generate a permutation, then we would need to pick characters for each \"slot:' \n",
    "\n",
    "Suppose we had `7` characters in the string. \n",
    "\n",
    "In the first slot, we have `7 choices`. Once we pick the letter there, we have **6 choices for the next slot**. (Note that this is 6 choices for each of the 7 choices earlier.) \n",
    "\n",
    "Then 5 choices for the next slot, and so on.\n",
    "\n",
    "Therefore, the total number of options is `7 * 6 * 5 * 4 * 3 * 2 * 1`, which is also expressed as $7!$ (7 factorial).\n",
    "\n",
    "This tells us that there are $n!$ permutations. \n",
    "\n",
    "Therefore, permutation is called $n!$ times in its base case (when prefix is the full permutation). \n",
    "\n",
    "#### How many times does permutation get called before its base case?\n",
    "\n",
    "Picture a large call tree representing all the calls. There are $n!$ leaves, as shown above. \n",
    "\n",
    "Each leaf is attached to a path of length n.\n",
    "\n",
    "Therefore, we know there will be no more than $n * n!$ nodes (function calls) in this tree. \n",
    "\n",
    "#### How long does each function call take?\n",
    "\n",
    "Due to string concatenation in `permutaion_helper` -> `else` case, it will take $O(N)$ time.\n",
    "\n",
    "Each node in our call tree therefore corresponds to $0(n)$ work.\n",
    "\n",
    "#### What is the total runtime?\n",
    "\n",
    "Since we are calling permutation $0(n * n!)$ times (as an upper bound), and each one takes $0(n)$ time,\n",
    "the total runtime will not exceed $O(n^2 * n!)$"
   ]
  },
  {
   "cell_type": "code",
   "execution_count": 18,
   "metadata": {},
   "outputs": [
    {
     "data": {
      "text/plain": [
       "2178309"
      ]
     },
     "execution_count": 18,
     "metadata": {},
     "output_type": "execute_result"
    }
   ],
   "source": [
    "# what about default just a normal fibonacci?\n",
    "\n",
    "# For recursive calls: O(branches^{depth}).\n",
    "\n",
    "# There are 2 branches per call, and we go as \n",
    "# deep as N, therefore the runtime is O(2^N).\n",
    "\n",
    "def fib(n):\n",
    "    if n <= 0:\n",
    "        return 0\n",
    "    elif n == 1:\n",
    "        return 1\n",
    "    else:\n",
    "        return fib(n-1) + fib(n-2)\n",
    "    \n",
    "fib(32)"
   ]
  },
  {
   "cell_type": "markdown",
   "metadata": {},
   "source": [
    "### Extra! - @cache\n",
    "\n",
    "In this code snippet down below, the @cache decorator is used to memoize the fib function. \n",
    "\n",
    "Memoization is a technique used to store the results of expensive function calls and return the cached result when the same inputs occur again."
   ]
  },
  {
   "cell_type": "code",
   "execution_count": 19,
   "metadata": {},
   "outputs": [
    {
     "data": {
      "text/plain": [
       "2178309"
      ]
     },
     "execution_count": 19,
     "metadata": {},
     "output_type": "execute_result"
    }
   ],
   "source": [
    "from functools import cache\n",
    "\n",
    "@cache\n",
    "def fib(n):\n",
    "    if n <= 0:\n",
    "        return 0\n",
    "    elif n == 1:\n",
    "        return 1\n",
    "    else:\n",
    "        return fib(n-1) + fib(n-2)\n",
    "    \n",
    "fib(32)"
   ]
  },
  {
   "cell_type": "code",
   "execution_count": 20,
   "metadata": {},
   "outputs": [
    {
     "name": "stdout",
     "output_type": "stream",
     "text": [
      "0: 0\n",
      "1: 1\n",
      "2: 1\n",
      "3: 2\n",
      "4: 3\n",
      "5: 5\n",
      "6: 8\n",
      "7: 13\n",
      "8: 21\n",
      "9: 34\n"
     ]
    }
   ],
   "source": [
    "# what about a method, printing all fibonacci numbers?\n",
    "\n",
    "def allFib(n):\n",
    "    for i in range(n):\n",
    "        print(f\"{i}: {fib(i)}\")\n",
    "\n",
    "def fib(n):\n",
    "    if n <= 0:\n",
    "        return 0\n",
    "    elif n == 1:\n",
    "        return 1\n",
    "    return fib(n - 1) + fib(n - 2)\n",
    "\n",
    "# Example usage\n",
    "allFib(10)"
   ]
  },
  {
   "cell_type": "markdown",
   "metadata": {},
   "source": [
    "Many people will rush to concluding that since `fib(n)` takes $0(2^N)$ time and it's called $n$ times, then it's $O(n*2^n)$.\n",
    "\n",
    "#### Not so fast.\n",
    "\n",
    "The error is that the n is changing. \n",
    "\n",
    "Yes, `fib(n)` takes $0(2^n)$ time, but it matters what that value of n is.\n",
    "\n",
    "Let's walk through each call.\n",
    "- `fib(1)` -> $2^1$ steps\n",
    "- `fib(2)` -> $2^2$ steps\n",
    "- `fib(3)` -> $2^3$ steps\n",
    "- `fib(4)` -> $2^4$ steps\n",
    "-  ...\n",
    "- `fib(n)` -> $2^N$ steps\n",
    "\n",
    "Therefore, the total amount of work is: $2^1 + 2^2 + 2^3 + 2^4 + ... + 2^N$.\n",
    "\n",
    "This is $2^{N+1}$ -> So the time complexity is still $O(2^n)$"
   ]
  },
  {
   "cell_type": "code",
   "execution_count": 21,
   "metadata": {},
   "outputs": [
    {
     "name": "stdout",
     "output_type": "stream",
     "text": [
      "0: 0\n",
      "1: 1\n",
      "2: 1\n",
      "3: 2\n",
      "4: 3\n",
      "5: 5\n",
      "6: 8\n",
      "7: 13\n",
      "8: 21\n",
      "9: 34\n"
     ]
    }
   ],
   "source": [
    "# THIS example, uses memoization to get rid \n",
    "# of redundant calculations\n",
    "\n",
    "# We're doing a constant amount of work N times, so this \n",
    "# is O (n) time\n",
    "\n",
    "#  Time complexity is: O(N)\n",
    "\n",
    "def allFib(n):\n",
    "    memo = [-1] * (n + 1)\n",
    "    for i in range(n):\n",
    "        print(f\"{i}: {fib(i, memo)}\")\n",
    "\n",
    "def fib(n, memo):\n",
    "    if n <= 0:\n",
    "        return 0\n",
    "    elif n == 1:\n",
    "        return 1\n",
    "    elif memo[n] > 0:\n",
    "        return memo[n]\n",
    "\n",
    "    memo[n] = fib(n - 1, memo) + fib(n - 2, memo)\n",
    "    return memo[n]\n",
    "\n",
    "# Example usage\n",
    "allFib(10)"
   ]
  },
  {
   "cell_type": "markdown",
   "metadata": {},
   "source": [
    "This technique, called `memoization`, is a very common one to optimize exponential time recursive algorithms."
   ]
  },
  {
   "cell_type": "code",
   "execution_count": 25,
   "metadata": {},
   "outputs": [
    {
     "name": "stdout",
     "output_type": "stream",
     "text": [
      "1\n",
      "2\n",
      "4\n",
      "8\n"
     ]
    },
    {
     "data": {
      "text/plain": [
       "8"
      ]
     },
     "execution_count": 25,
     "metadata": {},
     "output_type": "execute_result"
    }
   ],
   "source": [
    "# print the powers of 2 from 1 through n (inclusive).\n",
    "\n",
    "# How can we find time complexity?\n",
    "\n",
    "# Activation x Invocation\n",
    "\n",
    "# How much things the method will do?\n",
    "# Times\n",
    "# How many times will this method be called?\n",
    "\n",
    "# Time complexity is: O(1) * O(log(n))\n",
    "# O(log(n))\n",
    " \n",
    "def powersOf2(n):\n",
    "    if n < 1:\n",
    "        return 0\n",
    "    elif n == 1:\n",
    "        print(1)\n",
    "        return 1\n",
    "    else:\n",
    "        prev = powersOf2(n // 2)\n",
    "        curr = prev * 2\n",
    "        print(curr)\n",
    "        return curr\n",
    "\n",
    "# Example usage\n",
    "powersOf2(10)"
   ]
  },
  {
   "cell_type": "markdown",
   "metadata": {},
   "source": [
    "## Even More examples from the Cracking the Coding Interview! ✅ ✅ ✅"
   ]
  },
  {
   "cell_type": "code",
   "execution_count": 27,
   "metadata": {},
   "outputs": [
    {
     "name": "stdout",
     "output_type": "stream",
     "text": [
      "20\n"
     ]
    }
   ],
   "source": [
    "# compute product of a and b\n",
    "\n",
    "# Time complexity O(b)\n",
    "\n",
    "def product(a :int , b: int):\n",
    "    sum = 0\n",
    "    for i in range(b):\n",
    "        sum += a\n",
    "    return sum\n",
    "\n",
    "# Example usage\n",
    "print(product(4, 5))"
   ]
  },
  {
   "cell_type": "code",
   "execution_count": 31,
   "metadata": {},
   "outputs": [
    {
     "name": "stdout",
     "output_type": "stream",
     "text": [
      "8\n"
     ]
    }
   ],
   "source": [
    "# positive powers of numbers\n",
    "# a ^ b\n",
    "\n",
    "# Time complexity is  O(b)\n",
    "\n",
    "def power(a, b):\n",
    "    if b < 0:\n",
    "        # returning 0 is an error in the book\n",
    "        # ?\n",
    "        return 0\n",
    "    elif b == 0:\n",
    "        return 1\n",
    "    else:\n",
    "        return a * power(a, b - 1)\n",
    "\n",
    "# Example usage\n",
    "print(power(2, 3))"
   ]
  },
  {
   "cell_type": "code",
   "execution_count": 33,
   "metadata": {},
   "outputs": [
    {
     "name": "stdout",
     "output_type": "stream",
     "text": [
      "1\n",
      "3\n"
     ]
    }
   ],
   "source": [
    "# how about a modulo function?\n",
    "\n",
    "# O(1) - all contant operations\n",
    "def mod(a, b):\n",
    "    if b <= 0:\n",
    "        return -1\n",
    "    div = a // b\n",
    "    return a - (div * b)\n",
    "\n",
    "# Example usage\n",
    "print(mod(10, 3))\n",
    "print(mod(7, 4))"
   ]
  },
  {
   "cell_type": "code",
   "execution_count": 35,
   "metadata": {},
   "outputs": [
    {
     "name": "stdout",
     "output_type": "stream",
     "text": [
      "5\n",
      "3\n"
     ]
    }
   ],
   "source": [
    "# how about integer division?\n",
    "\n",
    "# Time complexity - O(a/b)\n",
    "# That is how many times it will run\n",
    "\n",
    "def div(a, b):\n",
    "    count = 0\n",
    "    # avoid conflict with built it sum()\n",
    "    sum_ = b\n",
    "    while sum_ <= a:\n",
    "        sum_ += b\n",
    "        count += 1\n",
    "    return count\n",
    "\n",
    "print(div(10,2))\n",
    "print(div(10,3))"
   ]
  },
  {
   "cell_type": "code",
   "execution_count": 38,
   "metadata": {},
   "outputs": [
    {
     "name": "stdout",
     "output_type": "stream",
     "text": [
      "-1\n",
      "5\n"
     ]
    }
   ],
   "source": [
    "# A square root method ?\n",
    "\n",
    "# it uses a binary search (recursively implemented)!\n",
    "\n",
    "# Time complexity is O(logN)\n",
    "\n",
    "def sqrt(n):\n",
    "    return sqrt_helper(n, 1, n)\n",
    "\n",
    "def sqrt_helper(n, min_, max_):\n",
    "    # base case\n",
    "    if max_ < min_:\n",
    "        return -1  # no square root\n",
    "    \n",
    "    guess = (min_ + max_) // 2\n",
    "    \n",
    "    if guess * guess == n:  # found it!\n",
    "        return guess\n",
    "    \n",
    "    elif guess * guess < n:  # too low\n",
    "        return sqrt_helper(n, guess + 1, max_)  # try higher\n",
    "    \n",
    "    else:  # too high\n",
    "        return sqrt_helper(n, min_, guess - 1)  # try lower\n",
    "    \n",
    "print(sqrt(15))\n",
    "print(sqrt(25))"
   ]
  },
  {
   "cell_type": "code",
   "execution_count": 49,
   "metadata": {},
   "outputs": [
    {
     "name": "stdout",
     "output_type": "stream",
     "text": [
      "-1\n",
      "5\n"
     ]
    }
   ],
   "source": [
    "# computes the [integer] square root of a number. \n",
    "# if the number is not a perfect square return -1\n",
    "\n",
    "# Time complexity is O(n ^ 1/2)\n",
    "\n",
    "def sqrt_(n):\n",
    "    for guess in range(1, int(n ** 0.5) + 1):\n",
    "        if guess * guess == n:\n",
    "            return guess\n",
    "    return -1\n",
    "\n",
    "print(sqrt_(15))\n",
    "print(sqrt_(25))"
   ]
  },
  {
   "cell_type": "markdown",
   "metadata": {},
   "source": [
    "**Question:**\n",
    "\n",
    "If a binary search tree is not balanced, how long might it take (worst case) to find an element in it? \n",
    "\n",
    "**Answer:**\n",
    "\n",
    "O(n). All stacked in one side\n",
    "\n",
    "Just like this:\n",
    "\n",
    "```\n",
    " 0\n",
    "  \\\n",
    "   1\n",
    "    \\\n",
    "     2\n",
    "      \\\n",
    "       3 \n",
    "```"
   ]
  },
  {
   "cell_type": "markdown",
   "metadata": {},
   "source": [
    "**Question:**\n",
    "\n",
    "You are looking for a specific value in a binary tree, but the tree is not a binary search tree.\n",
    "\n",
    "What is the time complexity of this?\n",
    "\n",
    "**Answer:**\n",
    "\n",
    "$O(n)$. We will have to check every single element.\n",
    "\n",
    "Without any ordering property on the nodes, we might have to search through all the nodes."
   ]
  },
  {
   "cell_type": "code",
   "execution_count": 51,
   "metadata": {},
   "outputs": [
    {
     "name": "stdout",
     "output_type": "stream",
     "text": [
      "[1, 2, 3]\n"
     ]
    }
   ],
   "source": [
    "# appends a value to an array by making a new, longer array and\n",
    "# returning this longer array\n",
    "\n",
    "# in Python, this clearly is simplified because of the syntax\n",
    "def copy_array(array):\n",
    "    copy = []\n",
    "    for value in array:\n",
    "        copy = append_to_new(copy, value)\n",
    "    return copy\n",
    "\n",
    "def append_to_new(array, value):\n",
    "    # Copy all elements over to new array\n",
    "    bigger = array.copy()\n",
    "    # Add new element\n",
    "    bigger.append(value)\n",
    "    return bigger\n",
    "\n",
    "print(copy_array([1,2,3]))\n",
    "\n",
    "# let's see the Java example"
   ]
  },
  {
   "cell_type": "markdown",
   "metadata": {},
   "source": [
    "### Java version:\n",
    "\n",
    "Appends a value to an array by making a new, longer array and returning this longer array.\n",
    "\n",
    "\n",
    "```java\n",
    "int[] copyArray(int[] array) {\n",
    "    int[] copy= new int[0];\n",
    "    for (int value : array) {\n",
    "        copy= appendToNew(copy, value);\n",
    "    }\n",
    "    return copy;\n",
    "}\n",
    "\n",
    "int[] appendToNew(int[] array, int value) {\n",
    "    // copy all elements over to new array\n",
    "    int[] bigger= new int[array.length + 1];\n",
    "    for (int i= 0; i < array.length; i++) {\n",
    "        bigger[i] = array[i];\n",
    "    }\n",
    "    // add new element\n",
    "    bigger[bigger.length - 1] = value;\n",
    "    return bigger;\n",
    "}\n",
    "```\n",
    "\n",
    "\n",
    "### Time Complexity:\n",
    "\n",
    "$O(n^2)$, where n is the number of elements in the array. \n",
    "\n",
    "The first call to `appendToNew` takes 1 copy. \n",
    "\n",
    "The second call takes 2 copies. \n",
    "\n",
    "The third call takes 3 copies. And so on. \n",
    "\n",
    "The total time will be the sum of 1 through n, which is $O(n^2)$.\n"
   ]
  },
  {
   "cell_type": "code",
   "execution_count": 52,
   "metadata": {},
   "outputs": [
    {
     "name": "stdout",
     "output_type": "stream",
     "text": [
      "6\n",
      "1\n"
     ]
    }
   ],
   "source": [
    "#  sums the digits in a number\n",
    "\n",
    "# Time complexity: O(logn)\n",
    "\n",
    "# The runtime will be the number of digits in the number. \n",
    "\n",
    "# A number with d digits can have a value up to 10^d\n",
    "\n",
    "# If n = 10^d, then d = log n. \n",
    "\n",
    "# Therefore, the runtime is 0(log n). \n",
    "\n",
    "def sum_digits(n):\n",
    "    \n",
    "    sum = 0\n",
    "\n",
    "    while n > 0:\n",
    "        # add remainder to the sum\n",
    "        # which is the digit on the right\n",
    "        sum += n % 10\n",
    "        # shrink n\n",
    "        n //= 10\n",
    "    \n",
    "    return sum\n",
    "\n",
    "print(sum_digits(123))\n",
    "print(sum_digits(100000))"
   ]
  },
  {
   "cell_type": "markdown",
   "metadata": {},
   "source": [
    "### Extra - About `log`\n",
    "\n",
    "```python\n",
    "from math import log10\n",
    "log10(100) # 2.0\n",
    "log2(8) # 3.0\n",
    "```"
   ]
  },
  {
   "cell_type": "code",
   "execution_count": 76,
   "metadata": {},
   "outputs": [
    {
     "name": "stdout",
     "output_type": "stream",
     "text": [
      "26\n",
      "abb\n",
      "abc\n",
      "abd\n",
      "abe\n",
      "abf\n",
      "abg\n",
      "abh\n",
      "abi\n",
      "abj\n",
      "abk\n",
      "abl\n",
      "abm\n",
      "abn\n",
      "abo\n",
      "abp\n",
      "abq\n",
      "abr\n",
      "abs\n",
      "abt\n",
      "abu\n",
      "abv\n",
      "abw\n",
      "abx\n",
      "aby\n",
      "abz\n"
     ]
    }
   ],
   "source": [
    "# Prints all strings of length k where the characters are in sorted order.\n",
    "\n",
    "# It does this by generating all strings of length k \n",
    "# and then checking if each is sorted\n",
    "\n",
    "from string import ascii_lowercase\n",
    "\n",
    "num_chars = len(ascii_lowercase)\n",
    "\n",
    "def print_sorted_strings(remaining, prefix=\"\"):\n",
    "    if remaining == 0:\n",
    "        if is_in_order(prefix):\n",
    "            print(prefix)\n",
    "    else:\n",
    "        for i in range(num_chars):\n",
    "            c = ith_letter(i)\n",
    "            print_sorted_strings(remaining - 1, prefix + c)\n",
    "\n",
    "def is_in_order(s):\n",
    "    for i in range(1, len(s)):\n",
    "        prev = s[i-1] \n",
    "        curr = s[i]\n",
    "        if prev > curr:\n",
    "            return False\n",
    "    return True\n",
    "\n",
    "def ith_letter(i):\n",
    "    return chr(ord('a') + i)\n",
    "\n",
    "print_sorted_strings(1, \"ab\")  # Example usage"
   ]
  },
  {
   "cell_type": "markdown",
   "metadata": {},
   "source": [
    "### What is the time complexity? \n",
    "\n",
    "Result is $0(k*c^{k})$, where k is the length of the string and c is the number of characters in the alphabet.\n",
    "\n",
    "It takes $0(c^k)$ time to generate each string. \n",
    "\n",
    "- The function makes a recursive call for each character in the alphabet (`num_chars`), so the number of recursive calls at depth remaining is $num_chars^{remaining}$.\n",
    "\n",
    "Then, we need to check that each of these is sorted, which takes O(k) time.\n",
    "\n",
    "- The `is_in_order` function is called for each completed string, which iterates over the string to check if it's in ascending order. This takes $O(remaining)$ time."
   ]
  },
  {
   "cell_type": "code",
   "execution_count": 77,
   "metadata": {},
   "outputs": [
    {
     "name": "stdout",
     "output_type": "stream",
     "text": [
      "3\n"
     ]
    }
   ],
   "source": [
    "# computes the intersection (the number of elements in common) of two arrays. \n",
    "\n",
    "# It assumes that neither array has duplicates. \n",
    "\n",
    "# It computes the intersection by sorting one array (array b) and then \n",
    "# iterating through array a checking (via binary search) if each\n",
    "# value is in b. \n",
    "\n",
    "# Time complexity is: 0(b log b + a log b).\n",
    "\n",
    "# First,we have to sort array b, which takes O(b log b) time.\n",
    "\n",
    "# Then,for each element in a, we do binary search in 0(log b) time. \n",
    "# The second part takes O(a log b) time. \n",
    "\n",
    "def intersection(a, b):\n",
    "    b.sort()  # Assuming mergesort is meant to be a sorting operation\n",
    "    intersect = 0\n",
    "    for x in a:\n",
    "        if binary_search(b, x):\n",
    "            intersect += 1\n",
    "    return intersect\n",
    "\n",
    "def binary_search(arr, target):\n",
    "    left, right = 0, len(arr) - 1\n",
    "    while left <= right:\n",
    "        mid = left + (right - left) // 2\n",
    "        if arr[mid] == target:\n",
    "            return True\n",
    "        elif arr[mid] < target:\n",
    "            left = mid + 1\n",
    "        else:\n",
    "            right = mid - 1\n",
    "    return False\n",
    "\n",
    "# Example usage\n",
    "a = [1, 2, 3, 4, 5]\n",
    "b = [3, 4, 5, 6, 7]\n",
    "print(intersection(a, b))  # Output: 3"
   ]
  },
  {
   "cell_type": "code",
   "execution_count": null,
   "metadata": {},
   "outputs": [],
   "source": []
  }
 ],
 "metadata": {
  "kernelspec": {
   "display_name": "learn",
   "language": "python",
   "name": "python3"
  },
  "language_info": {
   "codemirror_mode": {
    "name": "ipython",
    "version": 3
   },
   "file_extension": ".py",
   "mimetype": "text/x-python",
   "name": "python",
   "nbconvert_exporter": "python",
   "pygments_lexer": "ipython3",
   "version": "3.12.0"
  }
 },
 "nbformat": 4,
 "nbformat_minor": 2
}
