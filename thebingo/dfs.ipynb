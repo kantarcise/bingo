{
 "cells": [
  {
   "cell_type": "markdown",
   "metadata": {},
   "source": [
    "# Depth First Search 📏\n",
    "\n",
    "Depth-First Search (DFS) is another graph traversal algorithm, but it explores the graph by going as deep as possible along each branch before backtracking.\n",
    "\n",
    "Here's how the DFS algorithm works:\n",
    "\n",
    "- Start at a designated starting vertex (the \"source\" vertex).\n",
    "\n",
    "- Mark the source vertex as visited.\n",
    "\n",
    "- Push the source vertex onto a stack (or use recursion).\n",
    "\n",
    "- While the stack is not empty (or the recursion hasn't completed):\n",
    "    \n",
    "    a. Pop a vertex from the stack (or use the current vertex in the recursion).\n",
    "    \n",
    "    b. Process the popped vertex (e.g., print it, add it to a result list, etc.).\n",
    "    \n",
    "    c. Push all the unvisited neighbors of the popped vertex onto the stack (or make recursive calls for each unvisited neighbor).\n",
    "\n",
    "- Repeat step 4 until the stack is empty (or the recursion has completed).\n"
   ]
  },
  {
   "cell_type": "code",
   "execution_count": 2,
   "metadata": {},
   "outputs": [
    {
     "name": "stdout",
     "output_type": "stream",
     "text": [
      "A\n",
      "B\n",
      "D\n",
      "C\n",
      "E\n"
     ]
    }
   ],
   "source": [
    "# Here is a graph\n",
    "\n",
    "#    A\n",
    "#   / \\\n",
    "#  B   C\n",
    "#  |   |\n",
    "#  D   E\n",
    "\n",
    "# We can represent this graph using an adjacency list:\n",
    "\n",
    "graph = {\n",
    "    'A': ['B', 'C'],\n",
    "    'B': ['A', 'D'],\n",
    "    'C': ['A', 'E'],\n",
    "    'D': ['B'],\n",
    "    'E': ['C']\n",
    "}\n",
    "\n",
    "# Here's the Python code to perform a Depth-First Search on this graph:\n",
    "\n",
    "def dfs(graph, start, visited=None):\n",
    "    if visited is None:\n",
    "        visited = set()\n",
    "\n",
    "    visited.add(start)\n",
    "    print(start)\n",
    "\n",
    "    for neighbor in graph[start]:\n",
    "        if neighbor not in visited:\n",
    "            dfs(graph, neighbor, visited)\n",
    "\n",
    "# Example usage\n",
    "dfs(graph, 'A')"
   ]
  },
  {
   "cell_type": "markdown",
   "metadata": {},
   "source": [
    "In this example, we start the DFS from the vertex 'A'. \n",
    "\n",
    "We use a set to keep track of the visited vertices. We first mark the starting vertex 'A' as visited and print it. \n",
    "\n",
    "Then, we recursively call the dfs function for each unvisited neighbor of the current vertex.\n",
    "\n",
    "The key aspects of DFS are the use of a stack (or recursion) to maintain the order of exploration and the marking of visited vertices to avoid revisiting them. \n",
    "\n",
    "This ensures that the algorithm explores as deep as possible along each branch before backtracking to explore other branches, resulting in a depth-first traversal of the graph.\n",
    "\n",
    "The main difference between BFS and DFS is the order in which the vertices are visited. \n",
    "\n",
    "BFS explores the graph level by level, while DFS explores the graph as deeply as possible before backtracking."
   ]
  },
  {
   "cell_type": "markdown",
   "metadata": {},
   "source": []
  }
 ],
 "metadata": {
  "kernelspec": {
   "display_name": "learn",
   "language": "python",
   "name": "python3"
  },
  "language_info": {
   "codemirror_mode": {
    "name": "ipython",
    "version": 3
   },
   "file_extension": ".py",
   "mimetype": "text/x-python",
   "name": "python",
   "nbconvert_exporter": "python",
   "pygments_lexer": "ipython3",
   "version": "3.12.0"
  }
 },
 "nbformat": 4,
 "nbformat_minor": 2
}
