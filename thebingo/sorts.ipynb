{
 "cells": [
  {
   "cell_type": "markdown",
   "metadata": {},
   "source": [
    "# Sorts\n",
    "\n",
    "In this notebook, we will talk about all types of sorting, other than merge sort and quick sort.\n",
    "\n",
    "### Sorting a Sequence 💎\n",
    "\n",
    "Sorting is crucial. If something is sorted, it is really easier to index it."
   ]
  },
  {
   "cell_type": "markdown",
   "metadata": {},
   "source": [
    "## Heap Sort - `using heaps!`\n",
    "\n",
    "Here is an example with **heap sort** using the Standard Library:"
   ]
  },
  {
   "cell_type": "code",
   "execution_count": 1,
   "metadata": {},
   "outputs": [
    {
     "name": "stdout",
     "output_type": "stream",
     "text": [
      "Input Array:  [60, 20, 40, 70, 30, 10]\n",
      "Sorted Array:  [10, 20, 30, 40, 60, 70]\n"
     ]
    }
   ],
   "source": [
    "import heapq\n",
    "\n",
    "def heap_sort(my_list):\n",
    "\t\"\"\"Function to perform the sorting using heap sort\"\"\"\n",
    "\theapq.heapify(my_list)  # the list is now a heap - O(n) time\n",
    "\tresult = []\n",
    "\twhile my_list:\n",
    "\t\tresult.append(heapq.heappop(my_list)) # n times o(log(n))\n",
    "\treturn result\n",
    "\n",
    "col = [60, 20, 40, 70, 30, 10]\n",
    "print(\"Input Array: \", col) # Input list: [60, 20, 40, 70, 30, 10]\n",
    "print(\"Sorted Array: \", heap_sort(col)) # Sorted list: [10, 20, 30, 40, 60, 70]"
   ]
  },
  {
   "cell_type": "markdown",
   "metadata": {},
   "source": [
    "## Insertion Sort `start from 1 - slap city` 🎩\n",
    "\n",
    "We study several sorting algorithms in this book, most of which are described in Chapter 12. \n",
    "\n",
    "As a warm-up, in this section we describe a nice, simple sorting algorithm known as insertion-sort.\n",
    "\n",
    "- We start with the first element in the array. One element by itself is already sorted. \n",
    "\n",
    "- Then we consider the next element in the array. If it is smaller than the first, we swap them. \n",
    "\n",
    "- Next we consider the third element in the array. We swap it leftward until it is in its proper order with the first two elements. \n",
    "\n",
    "- We then consider the fourth element, and swap it leftward until it is in the proper order with the first three. \n",
    "\n",
    "- We continue in this manner with the fifth element, the sixth, and so on, until the whole array is sorted.\n",
    "\n",
    "**Insertion Sort:** Compare as you insert. Time complexity is $O(n^2)$."
   ]
  },
  {
   "cell_type": "code",
   "execution_count": 2,
   "metadata": {},
   "outputs": [
    {
     "name": "stdout",
     "output_type": "stream",
     "text": [
      "Sorted data: [1, 3, 4, 5, 9]\n"
     ]
    }
   ],
   "source": [
    "def insertionSort(array):\n",
    "\t\"\"\"Sort elements in a list in non decreasing order\"\"\"\n",
    "\tfor step in range(1, len(array)):\n",
    "\t\tkey = array[step]\n",
    "\t\t# index on left\n",
    "\t\tj = step - 1\n",
    "\t\t\n",
    "\t\t# Compare key with each element on the left of it\n",
    "\t\t# until an element smaller than it is found\n",
    "\t\t# For descending order, change key<array[j] to key>array[j].\n",
    "\t\twhile j >= 0 and key < array[j]:\n",
    "\t\t\t# slap the value on jth to right neighbour\n",
    "\t\t\tarray[j + 1] = array[j]\n",
    "\t\t\t# decrease j\n",
    "\t\t\tj = j - 1\n",
    "\t\t\t# run this until you get to the start of the list\n",
    "\t\t\t# or you find an element smaller than jth.\n",
    "\t\t\t# if the value is bigger just keep slapping.\n",
    "\t\t# Place key at after the element just smaller than it.\n",
    "\t\tarray[j + 1] = key\n",
    "\n",
    "data = [9, 5, 1, 4, 3]\n",
    "insertionSort(data)\n",
    "print(f'Sorted data: {data}') # Sorted data: [1, 3, 4, 5, 9]"
   ]
  },
  {
   "cell_type": "code",
   "execution_count": 3,
   "metadata": {},
   "outputs": [
    {
     "name": "stdout",
     "output_type": "stream",
     "text": [
      "[11, 12, 22, 25, 64]\n"
     ]
    }
   ],
   "source": [
    "# another implementation:\n",
    "def insertion_sort(A):\n",
    "    n = len(A)\n",
    "    \n",
    "    for i in range(1, n):\n",
    "        current_element = A[i]\n",
    "        j = i - 1\n",
    "\n",
    "        # Compare the current element with previous elements in the sorted portion\n",
    "        while j >= 0 and current_element < A[j]:\n",
    "            A[j + 1] = A[j]  # Shift the previous element to the right\n",
    "            j -= 1\n",
    "\n",
    "        # Place the current element at the correct position in the sorted portion\n",
    "        A[j + 1] = current_element\n",
    "\n",
    "# Example usage:\n",
    "arr = [64, 25, 12, 22, 11]\n",
    "insertion_sort(arr)\n",
    "print(arr)  # Output: [11, 12, 22, 25, 64]\n"
   ]
  },
  {
   "cell_type": "markdown",
   "metadata": {},
   "source": [
    "## Selection Sort ? - $O(n^2)$ not really used\n",
    "\n",
    "Selection sort is a simple sorting algorithm that works by repeatedly finding the minimum (or maximum, depending on sorting order) element from the unsorted part of the array and swapping it with the first unsorted element. \n",
    "\n",
    "The process is repeated until the entire array is sorted. \n",
    "\n",
    "It has a time complexity of O(n^2) for the worst-case scenario, making it inefficient for large lists, but it is easy to implement and understand."
   ]
  },
  {
   "cell_type": "code",
   "execution_count": 2,
   "metadata": {},
   "outputs": [
    {
     "name": "stdout",
     "output_type": "stream",
     "text": [
      "[11, 12, 22, 25, 64]\n"
     ]
    }
   ],
   "source": [
    "\"\"\"Important Idea\"\"\"\n",
    "\n",
    "# C-9.47 \n",
    "# Describe an in-place version of the selection-sort algorithm for an array\n",
    "# that uses only O(1) space for instance variables in addition to the array.\n",
    "\n",
    "\"\"\"Solution\"\"\"\n",
    "\n",
    "# Selection sort is typically not considered an in-place sorting algorithm because \n",
    "# it repeatedly selects the minimum (or maximum) element from the unsorted portion of\n",
    "#  the array and places it at the beginning of the sorted portion. This involves\n",
    "#  swapping elements, and in the worst case, it may require O(n) auxiliary space for the swaps.\n",
    "\n",
    "# However, you can implement a variation of selection sort that uses only O(1) additional\n",
    "#  space for instance variables by minimizing the number of swaps. Instead of swapping\n",
    "#  elements during each step, you can keep track of the index of the \n",
    "# minimum (or maximum) element and swap it with the first element of the unsorted\n",
    "#  portion at the end of each pass. This way, you perform fewer swaps and use \n",
    "# minimal additional space.\n",
    "\n",
    "def in_place_selection_sort(arr):\n",
    "    n = len(arr)\n",
    "\n",
    "    # one smaller than total length\n",
    "    for i in range(n - 1):\n",
    "        min_index = i\n",
    "\n",
    "        # Find the index of the minimum element in the unsorted portion\n",
    "        for j in range(i + 1, n):\n",
    "            if arr[j] < arr[min_index]:\n",
    "                min_index = j\n",
    "\n",
    "        # Swap the minimum element with the first element of the unsorted portion\n",
    "        arr[i], arr[min_index] = arr[min_index], arr[i]\n",
    "\n",
    "# Example usage:\n",
    "arr = [64, 25, 12, 22, 11]\n",
    "in_place_selection_sort(arr)\n",
    "print(arr)  # Output: [11, 12, 22, 25, 64]"
   ]
  },
  {
   "cell_type": "markdown",
   "metadata": {},
   "source": []
  },
  {
   "cell_type": "markdown",
   "metadata": {},
   "source": [
    "## Bubble Sort\n",
    "\n",
    "If you just compare every element within the array with others, you will implement bubble sort.\n",
    "\n",
    "It is O(n*2) and not really used."
   ]
  },
  {
   "cell_type": "code",
   "execution_count": 6,
   "metadata": {},
   "outputs": [
    {
     "name": "stdout",
     "output_type": "stream",
     "text": [
      "[1, 2, 3, 6, 7, 9]\n",
      "[1, 2, 3, 8, 9, 10, 34, 55, 56]\n"
     ]
    }
   ],
   "source": [
    "def bubble_sort(my_list : list):\n",
    "    for i in range(len(my_list) - 1):\n",
    "        for j in range(i, len(my_list)):\n",
    "            if my_list[i] > my_list[j]:\n",
    "                my_list[i], my_list[j] = \\\n",
    "                    my_list[j], my_list[i]\n",
    "    return my_list\n",
    "\n",
    "print(bubble_sort([1,6,9,3,7,2]))\n",
    "print(bubble_sort([1,34,3,2,56,8,9,55,10])) # [1, 2, 3, 8, 9, 10, 34, 55, 56])"
   ]
  },
  {
   "cell_type": "markdown",
   "metadata": {},
   "source": [
    "## Merge Sort\n",
    "\n",
    "It is using an algorithmic pattern called **Divide and Conquer**. This [wonderful source](https://www.youtube.com/watch?v=ib4BHvr5-Ao) explains how to approach divide and conquer.\n",
    "\n",
    "If an algorithm exhibit overlapping sub problems, you can use divide and conquer.\n",
    "\n",
    "###  **Divide:** \n",
    "If sequence has 0 or 1 element, return. If it has at least 2 elements, divide it into 2.\n",
    "\n",
    "### **Conquer:** \n",
    "\n",
    "Recursively sort sequences that you have as a result of dividing.\n",
    "\n",
    "### **Combine:** \n",
    "\n",
    "Put back sorted elements into S by merging the sorted sequences into one.\n"
   ]
  },
  {
   "cell_type": "code",
   "execution_count": 9,
   "metadata": {},
   "outputs": [
    {
     "name": "stdout",
     "output_type": "stream",
     "text": [
      "Sorted Array: [3, 9, 27, 38, 43, 82]\n"
     ]
    }
   ],
   "source": [
    "def merge_sort(seq):\n",
    "    \n",
    "    if len(seq) <= 1:\n",
    "        return seq\n",
    "    mid = len(seq) // 2\n",
    "\t# divide and conquer\n",
    "    left = merge_sort(seq[:mid])\n",
    "    right = merge_sort(seq[mid:])\n",
    "    # combine\n",
    "    return merge(left, right)\n",
    "\n",
    "def merge(left, right):\n",
    "    result = []\n",
    "    i = j = 0\n",
    "    while i < len(left) and j < len(right):\n",
    "        if left[i] < right[j]:\n",
    "            result.append(left[i])\n",
    "            i += 1\n",
    "        else:\n",
    "            result.append(right[j])\n",
    "            j += 1\n",
    "    # why do we do this ?\n",
    "    result.extend(left[i:])\n",
    "    result.extend(right[j:])\n",
    "    return result\n",
    "\n",
    "array = [38, 27, 43, 3, 9, 82]\n",
    "print(\"Sorted Array:\", merge_sort(array)) # Sorted Array: [3, 9, 27, 38, 43, 82]"
   ]
  },
  {
   "cell_type": "markdown",
   "metadata": {},
   "source": [
    "### The running time of MergeSort - `o(n(log(n))`\n",
    "\n",
    "**Merge method** : $O(n_1+ n_2)$ - The merge function iterates through both left and right arrays exactly once, which takes $O(n)$ time in total, where $n$ is the combined length of left and right.\n",
    "\n",
    "**Merge Sort Method:** $log(n)$ is the height of the tree, for each division we get that. To divide every node on a tree for merge sort will be proportional to $log(n)$ time and we have $o(n)$ time complexity for n elements in seq."
   ]
  },
  {
   "cell_type": "markdown",
   "metadata": {},
   "source": [
    "## Quick Sort 🧠 - the pivot\n",
    "\n",
    "Quick sort is also based on **Divide and Conquer** algorithm.\n",
    "\n",
    "### **Divide:** \n",
    "\n",
    "If S has at least two elements (nothing needs to be done if S has zero or one element), select a specific element x from S, which is called the ==pivot==. As is common practice, choose the pivot x to be the last element in S.  \n",
    "\n",
    "Remove all the elements from S and put them into three sequences:  \n",
    "\t• L, storing the elements in S less than x  \n",
    "\t• E, storing the elements in S equal to x  \n",
    "\t• G, storing the elements in S greater than x  \n",
    "\n",
    "Of course, if the elements of S are distinct, then E holds just one element - the pivot itself.  \n",
    "\n",
    "### **Conquer:** \n",
    "\n",
    "Recursively sort sequences L and G.  \n",
    "\n",
    "### **Combine:**\n",
    "\n",
    "Put back the elements into S in order by first inserting the elements of L, then those of E, and finally those of G."
   ]
  },
  {
   "cell_type": "markdown",
   "metadata": {},
   "source": [
    "### Running time of Quick Sort\n",
    "\n",
    "Worst case $o(n^2)$. The height of the tree on quick sort is worst case $o(n - 1)$ NOT $o(logn)$ like it was on merge sort.\n",
    "\n",
    "This is because the splitting while comparing to pivot is not guaranteed to be half-half. "
   ]
  },
  {
   "cell_type": "markdown",
   "metadata": {},
   "source": [
    "## In Place Quick Sort\n",
    "\n",
    "An algorithm is in-place if it uses only a small amount of memory in addition to that needed for the original input. Our implementation of heap-sort, from Chapter 9.4.2, is an example of such an in-place sorting algorithm. \n",
    "\n",
    "Quick-sort of an array-based sequence can be adapted to be in-place, and such an optimization is used in most deployed implementations.\n",
    "\n",
    "Here is In place Quick Sort:\n",
    "\n",
    "The main idea behind quick sort is that, we select a pivot, we select two pointers that we are interested in. We keep comparing the values in those pointers and swap when needed. At last, put the pivot just before the right pointer as it should be there."
   ]
  },
  {
   "cell_type": "code",
   "execution_count": 10,
   "metadata": {},
   "outputs": [
    {
     "name": "stdout",
     "output_type": "stream",
     "text": [
      "[2, 4, 5, 123, 324, 621, 45324]\n"
     ]
    }
   ],
   "source": [
    "def inplace_quick_sort(S, a, b):\n",
    "    \"\"\"Sort the list from S[a] to S[b] inclusive using the quick-sort algorithm.\"\"\"\n",
    "    if a >= b: return # range is trivially sorted\n",
    "    pivot = S[b] # last element of range is pivot\n",
    "    left = a # will scan rightward\n",
    "    right = b-1 # will scan leftward\n",
    "    while left <= right: \n",
    "        # scan until reaching value equal or larger than pivot (or right marker)\n",
    "        while left <= right and S[left] < pivot:\n",
    "            left += 1\n",
    "        # scan until reaching value equal or smaller than pivot (or left marker)\n",
    "        while left <= right and pivot < S[right]:\n",
    "            right -= 1 \n",
    "        if left <= right: # scans did not strictly cross\n",
    "            S[left], S[right] = S[right], S[left] # swap values \n",
    "            left, right = left + 1, right - 1 # shrink range\n",
    "    # put pivot into its final place (currently marked by left index)\n",
    "    S[left], S[b] = S[b], S[left]\n",
    "    # make recursive calls\n",
    "    inplace_quick_sort(S, a, left - 1)\n",
    "    inplace_quick_sort(S, left + 1, b)\n",
    "\n",
    "\n",
    "seq = [2,4,5,621,324,123,45324]\n",
    "inplace_quick_sort(seq, 0, len(seq)-1)\n",
    "print(seq) # [2, 4, 123, 324, 621, 45324]"
   ]
  },
  {
   "cell_type": "markdown",
   "metadata": {},
   "source": [
    "## Pythons Built in Sorting\n",
    "\n",
    "We can use a key to sort sequences with the built in method. This works with **decorate-sort-undecorate** pattern.\n"
   ]
  },
  {
   "cell_type": "code",
   "execution_count": 11,
   "metadata": {},
   "outputs": [
    {
     "data": {
      "text/plain": [
       "[4, 5, 7, 23]"
      ]
     },
     "execution_count": 11,
     "metadata": {},
     "output_type": "execute_result"
    }
   ],
   "source": [
    "seq = [5,7,4,23]\n",
    "seq.sort() # no new object, the seq is sorted\n",
    "\n",
    "sorted(seq) # makes a new list object"
   ]
  },
  {
   "cell_type": "code",
   "execution_count": 12,
   "metadata": {},
   "outputs": [
    {
     "name": "stdout",
     "output_type": "stream",
     "text": [
      "['red', 'cyan', 'white', 'black', 'magenta']\n",
      "Sorted based on first element: [(0, 5), (3, 4), (6, 3), (9, 2)]\n",
      "[4, 2, 0]\n"
     ]
    },
    {
     "data": {
      "text/plain": [
       "['a', 'Andrew', 'from', 'is', 'string', 'test', 'This']"
      ]
     },
     "execution_count": 12,
     "metadata": {},
     "output_type": "execute_result"
    }
   ],
   "source": [
    "colors = [\"cyan\", \"white\", \"black\", \"magenta\", \"red\"]\n",
    "print(sorted(colors, key = len)) \n",
    "# ['red', 'cyan', 'white', 'black', 'magenta']\n",
    "\n",
    "my_tuples_in_town = [(9,2), (6,3), (3,4), (0,5)]\n",
    "print(\"Sorted based on first element:\", sorted(my_tuples_in_town, key = lambda x : x[0]))\n",
    "# Sorted based on first element: [(0, 5), (3, 4), (6, 3), (9, 2)]\n",
    "  \n",
    "my_dict = { 4: \"asdf\", 2: \"asdz\", 0: \"seq\"}\n",
    "print(sorted(my_dict, key = my_dict.get)) # # [4, 2, 0]\n",
    "\n",
    "# For example, here’s a case-insensitive string comparison:\n",
    "sorted(\"This is a test string from Andrew\".split(), key=str.lower)\n",
    "# ['a', 'Andrew', 'from', 'is', 'string', 'test', 'This']"
   ]
  },
  {
   "cell_type": "markdown",
   "metadata": {},
   "source": [
    "## Comparing Sorting Algorithms - Efficiency - Memory Usage and Stability\n",
    "\n",
    "Wisdom: While selecting a sorting algorithm, there are trade offs involving efficiency, memory usage and stability.\n",
    "\n",
    "### TRADE OFFS - EFFICIENCY - MEMORY USAGE - STABILITY\n",
    "\n",
    "\n",
    "Tim-sort has also become the default algorithm for sorting arrays in Java7.\n",
    "\n",
    "| Name                                                                            | Best      | Average   | Worst     | Memory    | Stable | Method              | Other notes                                                                                                                                                                     |\n",
    "| ------------------------------------------------------------------------------- | --------- | --------- | --------- | --------- | ------ | ------------------- | ------------------------------------------------------------------------------------------------------------------------------------------------------------------------------- |\n",
    "| [Heapsort](https://en.wikipedia.org/wiki/Heapsort \"Heapsort\")                   | n log (n) | n log (n) | n log (n) | Selection | No     |                     |                                                                                                                                                                                 |\n",
    "| [Merge sort](https://en.wikipedia.org/wiki/Merge_sort \"Merge sort\")             | n log (n) | n log (n) | n log (n) | n         | Yes    | Merging             | [Highly parallelizable](https://en.wikipedia.org/wiki/Merge_sort#Parallel_merge_sort \"Merge sort\") (up to _O_(log _n_) using the Three Hungarians' Algorithm).                  |\n",
    "| [Timsort](https://en.wikipedia.org/wiki/Timsort \"Timsort\")                      | n         | n log (n) | n log (n) | n         | Yes    | Insertion & Merging | Makes _n-1_ comparisons when the data is already sorted or reverse sorted.                                                                                                      |\n",
    "| [Quicksort](https://en.wikipedia.org/wiki/Quicksort \"Quicksort\")                | n log (n) | n log (n) | n ^ 2     | log (n)   | No     | Partitioning        | Quicksort is usually done in-place with _O_(log _n_) stack space.                                                                                                               |\n",
    "| [Insertion sort](https://en.wikipedia.org/wiki/Insertion_sort \"Insertion sort\") | n         | n ^ 2     | n ^ 2     | 1         | Yes    | Insertion           | _O_(_n_ + _d_), in the worst case over sequences that have _d_ [inversions](https://en.wikipedia.org/wiki/Inversion_(discrete_mathematics) \"Inversion (discrete mathematics)\"). |\n",
    "| [Bubble sort](https://en.wikipedia.org/wiki/Bubble_sort \"Bubble sort\")          | n         | n ^ 2     | n ^ 2     | 1         | Yes    | Exchanging          | Tiny code size.                                                                                                                                                                 |\n",
    "| [Selection sort](https://en.wikipedia.org/wiki/Selection_sort \"Selection sort\") | n ^ 2     | n ^ 2     | n ^ 2     | 1         | No     | Selection           | Stable with O(n) extra space, when using linked lists, or when made as a variant of Insertion Sort instead of swapping the two items.                                           |\n",
    "| [Cycle sort](https://en.wikipedia.org/wiki/Cycle_sort \"Cycle sort\")             | n ^ 2     | n ^ 2     | n ^ 2     | 1         | No     | Selection           | In-place with theoretically optimal number of writes.                                                                                                                           |\n"
   ]
  },
  {
   "cell_type": "markdown",
   "metadata": {},
   "source": [
    "### Why is stable sorting important?\n",
    "\n",
    "Sorted is stable and indeed that it uses exactly the same algorithm as the sort method.\n",
    "\n",
    "A sort is stable if it guarantees not to change the relative order of elements that compare equal — this is helpful for sorting in multiple passes (for example, sort by department, then by salary grade).\n",
    "\n",
    "Imagine we have a list of people with their ages:\n",
    "\n",
    "```python\n",
    "people = [\n",
    "    {\"name\": \"Alice\", \"age\": 25},\n",
    "    {\"name\": \"Bob\", \"age\": 30},\n",
    "    {\"name\": \"Charlie\", \"age\": 25},\n",
    "    {\"name\": \"David\", \"age\": 20},\n",
    "    {\"name\": \"Eve\", \"age\": 30},\n",
    "]\n",
    "```\n",
    "Now, if we want to sort this list by age using a stable sort, the original order of people with the same age should be preserved. In this case, both Alice and Charlie are 25 years old, and Bob and Eve are 30 years old. If we use a stable sort, the sorted list would maintain the order of people with the same age as they appear in the original list.\n",
    "\n",
    "Here's how you can achieve this in Python using the sorted function with a custom key:\n",
    "\n",
    "```python\n",
    "# Define the list of people\n",
    "people = [\n",
    "    {\"name\": \"Alice\", \"age\": 25},\n",
    "    {\"name\": \"Bob\", \"age\": 30},\n",
    "    {\"name\": \"Charlie\", \"age\": 25},\n",
    "    {\"name\": \"David\", \"age\": 20},\n",
    "    {\"name\": \"Eve\", \"age\": 30},\n",
    "]\n",
    "\n",
    "# Sort the list of people by age using a stable sort\n",
    "sorted_people = sorted(people, key=lambda x: x[\"age\"])\n",
    "\n",
    "# Print the sorted list\n",
    "for person in sorted_people:\n",
    "    print(person[\"name\"], person[\"age\"])\n",
    "```\n",
    "\n",
    "The output of this code will be:\n",
    "\n",
    "```markdown\n",
    "David 20\n",
    "Alice 25\n",
    "Charlie 25\n",
    "Bob 30\n",
    "Eve 30\n",
    "```\n",
    "\n",
    "As you can see, Alice and Charlie, who are both 25 years old, appear in the sorted list in the same order as they appeared in the original list. This demonstrates the concept of stable sorting, where the relative order of equal elements is preserved."
   ]
  },
  {
   "cell_type": "markdown",
   "metadata": {},
   "source": []
  }
 ],
 "metadata": {
  "kernelspec": {
   "display_name": "learn",
   "language": "python",
   "name": "python3"
  },
  "language_info": {
   "codemirror_mode": {
    "name": "ipython",
    "version": 3
   },
   "file_extension": ".py",
   "mimetype": "text/x-python",
   "name": "python",
   "nbconvert_exporter": "python",
   "pygments_lexer": "ipython3",
   "version": "3.12.0"
  }
 },
 "nbformat": 4,
 "nbformat_minor": 2
}
