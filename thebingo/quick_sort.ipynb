{
 "cells": [
  {
   "cell_type": "markdown",
   "metadata": {},
   "source": [
    "# Quick Sort - Fast for Big Data 💖\n",
    "\n",
    "Quick sort is also based on Divide and Conquer algorithm.\n",
    "\n",
    "#### **Divide:** \n",
    "\n",
    "If S has at least two elements (nothing needs to be done if S has zero or one element), select a specific element x from S, which is called the pivot. As is common practice, choose the pivot x to be the last element in S.  \n",
    "\n",
    "Remove all the elements from S and put them into three sequences:  \n",
    "\t•L, storing the elements in S less than x  \n",
    "\t•E, storing the elements in S equal to x  \n",
    "\t•G, storing the elements in S greater than x  \n",
    "\n",
    "Of course, if the elements of S are distinct, then E holds just one element—  \n",
    "the pivot itself.  \n",
    "\n",
    "#### **Conquer:** \n",
    "\n",
    "Recursively sort sequences L and G.  \n",
    "\n",
    "#### **Combine:** \n",
    "\n",
    "Put back the elements into S in order by first inserting the elements  \n",
    "of L, then those of E, and finally those of G.\n",
    "\n",
    "Here is how it works:\n",
    "\n",
    "![[fig12.10.png]]\n",
    "\n",
    "After all the left side is done, we move on to the right side.\n",
    "\n",
    "### Running time of Quick Sort\n",
    "\n",
    "Worst case o(n^2). \n",
    "\n",
    "The height of the tree on quick sort is worst case o(n - 1) NOT o(logn) like it was on merge sort.\n",
    "\n",
    "This is because the splitting while comparing to pivot is not guaranteed to be half-half. \n",
    "\n",
    "There is **randomized quick sort** where we select the pivot randomly from the sequence."
   ]
  },
  {
   "cell_type": "markdown",
   "metadata": {},
   "source": [
    "\n",
    "The main idea behind quick sort is that, we select a pivot, we select two pointers that we are interested in. We keep comparing the values in those pointers and swap when needed. At last, put the pivot just before the right pointer as it should be there.\n",
    "\n",
    "![[fig12.14.png]]\n",
    "\n",
    "Just a heads up: There is also another method for selecting the pivot, median of three.\n",
    "\n",
    "Wisdom: Quick sort has very good performance on large datasets, it is not good for small datasets. In small datasets, insertion sort might be just way faster.\n",
    "\n",
    "It is therefore common, in optimized sorting implementations, to use a hybrid  \n",
    "approach, with a divide-and-conquer algorithm used until the size of a subsequence  \n",
    "falls below some threshold (perhaps 50 elements); insertion-sort can be directly  \n",
    "invoked upon portions with length below the threshold."
   ]
  },
  {
   "cell_type": "code",
   "execution_count": null,
   "metadata": {},
   "outputs": [],
   "source": []
  },
  {
   "cell_type": "code",
   "execution_count": null,
   "metadata": {},
   "outputs": [],
   "source": []
  },
  {
   "cell_type": "code",
   "execution_count": null,
   "metadata": {},
   "outputs": [],
   "source": [
    "def inplace_quick_sort(S, a, b):\n",
    "    \"\"\"Sort the list from S[a] to S[b] inclusive using the quick-sort algorithm.\"\"\"\n",
    "    if a >= b: return # range is trivially sorted\n",
    "    pivot = S[b] # last element of range is pivot\n",
    "    left = a # will scan rightward\n",
    "    right = b-1 # will scan leftward\n",
    "    while left <= right: \n",
    "        # scan until reaching value equal or larger than pivot (or right marker)\n",
    "        while left <= right and S[left] < pivot:\n",
    "            left += 1\n",
    "        # scan until reaching value equal or smaller than pivot (or left marker)\n",
    "        while left <= right and pivot < S[right]:\n",
    "            right -= 1 \n",
    "        if left <= right: # scans did not strictly cross\n",
    "            S[left], S[right] = S[right], S[left] # swap values \n",
    "            left, right = left + 1, right - 1 # shrink range\n",
    "    # put pivot into its final place (currently marked by left index)\n",
    "    S[left], S[b] = S[b], S[left]\n",
    "    # make recursive calls\n",
    "    inplace_quick_sort(S, a, left - 1)\n",
    "    inplace_quick_sort(S, left + 1, b)\n",
    "\n",
    "seq = [2,4,621,324,123,45324]\n",
    "inplace_quick_sort(seq, 0, len(seq)-1)\n",
    "print(seq)"
   ]
  }
 ],
 "metadata": {
  "language_info": {
   "name": "python"
  }
 },
 "nbformat": 4,
 "nbformat_minor": 2
}
