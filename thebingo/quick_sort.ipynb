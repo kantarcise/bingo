{
 "cells": [
  {
   "cell_type": "markdown",
   "metadata": {},
   "source": [
    "# Quick Sort - Fast for Big Data 💖\n",
    "\n",
    "Quick sort is also based on Divide and Conquer algorithm.\n",
    "\n",
    "### **Divide:** \n",
    "\n",
    "If S has at least two elements (nothing needs to be done if S has zero or one element), select a specific element x from S, which is called the `pivot`. \n",
    "\n",
    "As is common practice, choose the pivot x to be the `last element in S`.  \n",
    "\n",
    "Remove all the elements from S and put them into three sequences:  \n",
    "\t\n",
    "\t• L, storing the elements in S less than x\n",
    "\n",
    "\t• E, storing the elements in S equal to x\n",
    "\t\n",
    "\t• G, storing the elements in S greater than x\n",
    "\n",
    "Of course, if the elements of S are distinct, then E holds just one element—  \n",
    "the pivot itself.  \n",
    "\n",
    "### **Conquer:** \n",
    "\n",
    "Recursively sort sequences L and G.  \n",
    "\n",
    "### **Combine:** \n",
    "\n",
    "Put back the elements into S in order by first inserting the elements  \n",
    "of L, then those of E, and finally those of G.\n",
    "\n",
    "Here is how it works:\n",
    "\n",
    "https://prepinsta.com/data-structures-and-algorithms-in-python/quick-sort-in-python/\n",
    "\n",
    "After all the left side is done, we move on to the right side.\n",
    "\n",
    "### Running time of Quick Sort\n",
    "\n",
    "Worst case o(n^2). \n",
    "\n",
    "The height of the tree on quick sort is worst case o(n - 1) NOT o(logn) like it was on merge sort.\n",
    "\n",
    "This is because the splitting while comparing to pivot is not guaranteed to be half-half. \n",
    "\n",
    "There is **randomized quick sort** where we select the pivot randomly from the sequence."
   ]
  },
  {
   "cell_type": "markdown",
   "metadata": {},
   "source": [
    "The main idea behind quick sort is that, we select a pivot, we select two pointers that we are interested in. \n",
    "\n",
    "We keep comparing the values in those pointers and swap when needed. At last, put the pivot just before the right pointer as it should be there.\n",
    "\n",
    "Just a heads up: There is also another method for selecting the pivot, median of three.\n",
    "\n",
    "Wisdom: Quick sort has very good performance on large datasets, it is not good for small datasets. In small datasets, insertion sort might be just way faster.\n",
    "\n",
    "It is therefore common, in optimized sorting implementations, to use a hybrid approach, with a divide-and-conquer algorithm used until the size of a subsequence falls below some threshold (perhaps 50 elements); insertion-sort can be directly invoked upon portions with length below the threshold."
   ]
  },
  {
   "cell_type": "code",
   "execution_count": 2,
   "metadata": {},
   "outputs": [
    {
     "name": "stdout",
     "output_type": "stream",
     "text": [
      "[2, 4, 123, 324, 621, 45324]\n"
     ]
    }
   ],
   "source": [
    "def inplace_quick_sort(S, a, b):\n",
    "    \"\"\"Sort the list from S[a] to S[b] inclusive using the quick-sort algorithm.\"\"\"\n",
    "    # range is trivially sorted\n",
    "    if a >= b: \n",
    "        return \n",
    "\n",
    "    # last element of range is pivot\n",
    "    pivot = S[b] \n",
    "    \n",
    "    # will scan rightward\n",
    "    left = a \n",
    "\n",
    "    # will scan leftward\n",
    "    right = b - 1\n",
    "    \n",
    "    while left <= right: \n",
    "        # scan until reaching value equal or larger than pivot (or right marker)\n",
    "        while left <= right and S[left] < pivot:\n",
    "            left += 1\n",
    "        # scan until reaching value equal or smaller than pivot (or left marker)\n",
    "        while left <= right and pivot < S[right]:\n",
    "            right -= 1 \n",
    "        if left <= right:\n",
    "            # scans did not strictly cross\n",
    "            \n",
    "            # swap values\n",
    "            S[left], S[right] = S[right], S[left] \n",
    "            \n",
    "            # shrink range\n",
    "            left, right = left + 1, right - 1\n",
    "    \n",
    "    # put pivot into its final place (currently marked by left index)\n",
    "    S[left], S[b] = S[b], S[left]\n",
    "    \n",
    "    # make recursive calls\n",
    "    inplace_quick_sort(S, a, left - 1)\n",
    "    inplace_quick_sort(S, left + 1, b)\n",
    "\n",
    "seq = [2,4,621,324,123,45324]\n",
    "inplace_quick_sort(seq, 0, len(seq)-1)\n",
    "print(seq)"
   ]
  },
  {
   "cell_type": "markdown",
   "metadata": {},
   "source": [
    "- Pivot Selection: Quick Sort begins by selecting a pivot element from the array.\n",
    "\n",
    "- Partitioning: The array is then partitioned so that elements smaller than the pivot are on the left, and elements greater than the pivot are on the right. The pivot itself is now in its final sorted position.\n",
    "\n",
    "- Recursive Sorting: Quick Sort is applied recursively to the left and right subarrays created during partitioning. This recursive process continues until all subarrays are sorted.\n",
    "\n",
    "- Combining Results: As recursion unwinds, the sorted subarrays are combined with the pivot to create the fully sorted array.\n",
    "\n",
    "- Base Case: The recursion stops when subarrays have one element or are empty, as they are considered sorted at this point. This divide-and-conquer approach efficiently sorts the entire array."
   ]
  },
  {
   "cell_type": "markdown",
   "metadata": {},
   "source": [
    "### Quicksort using list comprehension\n",
    "\n",
    "Quicksort using list comprehension is a recursive algorithm for sorting an array of elements. \n",
    "\n",
    "It works by selecting a pivot element and partitioning the array around the pivot, such that all elements less than the pivot are moved to its left and all elements greater than the pivot are moved to its right. \n",
    "\n",
    "Then, it recursively applies the same process to the left and right sub-arrays until the entire array is sorted.\n",
    "\n",
    "### Algorithm:\n",
    "\n",
    "1.If the input array has length 0 or 1, return the array as it is already sorted.\n",
    "\n",
    "2.Choose the first element of the array as the pivot element.\n",
    "\n",
    "3.Create two empty lists, left and right.\n",
    "\n",
    "4.For each element in the array except for the pivot:\n",
    "    \n",
    "- a. If the element is smaller than the pivot, add it to the left list.\n",
    "\n",
    "- b. If the element is greater than or equal to the pivot, add it to the right list.\n",
    "\n",
    "5.Recursively call quicksort on the left and right lists.\n",
    "\n",
    "6.Concatenate the sorted left list, the pivot element, and the sorted right list.\n",
    "\n",
    "7.Return the concatenated list."
   ]
  },
  {
   "cell_type": "code",
   "execution_count": 5,
   "metadata": {},
   "outputs": [
    {
     "name": "stdout",
     "output_type": "stream",
     "text": [
      "[-2, 1, 1, 4, 7, 9, 10]\n"
     ]
    }
   ],
   "source": [
    "# Approach 2: Quicksort using list comprehension\n",
    " \n",
    "def quicksort(arr):\n",
    "    if len(arr) <= 1:\n",
    "        return arr\n",
    "    else:\n",
    "        pivot = arr[0]\n",
    "        left = [x for x in arr[1:] if x < pivot]\n",
    "        right = [x for x in arr[1:] if x >= pivot]\n",
    "        return quicksort(left) + [pivot] + quicksort(right)\n",
    " \n",
    "# Example usage\n",
    "arr = [1, 7, 4, 1, 10, 9, -2]\n",
    "sorted_arr = quicksort(arr)\n",
    "print(sorted_arr)"
   ]
  },
  {
   "cell_type": "markdown",
   "metadata": {},
   "source": []
  }
 ],
 "metadata": {
  "kernelspec": {
   "display_name": "notebook",
   "language": "python",
   "name": "python3"
  },
  "language_info": {
   "codemirror_mode": {
    "name": "ipython",
    "version": 3
   },
   "file_extension": ".py",
   "mimetype": "text/x-python",
   "name": "python",
   "nbconvert_exporter": "python",
   "pygments_lexer": "ipython3",
   "version": "3.9.7"
  }
 },
 "nbformat": 4,
 "nbformat_minor": 2
}
