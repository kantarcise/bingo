{
 "cells": [
  {
   "cell_type": "markdown",
   "metadata": {},
   "source": [
    "# BFS - Breadth First Search 😉\n",
    "\n",
    "Breadth-First Search (BFS) is a graph traversal algorithm that explores all the vertices of a graph in breadth-first order, meaning it visits all the neighbors at the present depth before moving on to the neighbors at the next depth level.\n",
    "\n",
    "Here's how the BFS algorithm works:\n",
    "\n",
    "- Start at a designated starting vertex (the \"source\" vertex).\n",
    "\n",
    "- Mark the source vertex as visited and enqueue it into a queue.\n",
    "\n",
    "- While the queue is not empty:\n",
    "    \n",
    "    a. Dequeue a vertex from the queue.\n",
    "\n",
    "    b. Process the dequeued vertex (e.g., print it, add it to a result list, etc.).\n",
    "\n",
    "    c. Enqueue all the unvisited neighbors of the dequeued vertex.\n",
    "\n",
    "- Repeat steps 3 until the queue is empty."
   ]
  },
  {
   "cell_type": "code",
   "execution_count": 2,
   "metadata": {},
   "outputs": [
    {
     "name": "stdout",
     "output_type": "stream",
     "text": [
      "A\n",
      "B\n",
      "C\n",
      "D\n",
      "E\n"
     ]
    }
   ],
   "source": [
    "# Here is a graph\n",
    "\n",
    "#    A\n",
    "#   / \\\n",
    "#  B   C\n",
    "#  |   |\n",
    "#  D   E\n",
    "\n",
    "# We can represent this graph using an adjacency list:\n",
    "\n",
    "graph = {\n",
    "    'A': ['B', 'C'],\n",
    "    'B': ['A', 'D'],\n",
    "    'C': ['A', 'E'],\n",
    "    'D': ['B'],\n",
    "    'E': ['C']\n",
    "}\n",
    "\n",
    "# Here is BFS traversal\n",
    "\n",
    "from collections import deque\n",
    "\n",
    "def bfs(graph, start):\n",
    "    visited = set()\n",
    "    queue = deque([start])\n",
    "    visited.add(start)\n",
    "\n",
    "    while queue:\n",
    "        vertex = queue.popleft()\n",
    "        print(vertex)\n",
    "\n",
    "        for neighbor in graph[vertex]:\n",
    "            if neighbor not in visited:\n",
    "                visited.add(neighbor)\n",
    "                queue.append(neighbor)\n",
    "\n",
    "# Example usage\n",
    "bfs(graph, 'A')"
   ]
  },
  {
   "cell_type": "markdown",
   "metadata": {},
   "source": [
    "In this example, we start the BFS from the vertex 'A'. We use a queue to keep track of the vertices to be visited. \n",
    "\n",
    "We first enqueue the starting vertex 'A' and mark it as visited. \n",
    "\n",
    "Then, we repeatedly dequeue a vertex from the queue, print it, and enqueue all its unvisited neighbors. \n",
    "\n",
    "This process continues until the queue is empty, and we have visited all the vertices in the graph.\n",
    "\n",
    "The key aspects of BFS are the use of a queue to maintain the order of exploration and the marking of visited vertices to avoid revisiting them. \n",
    "\n",
    "This ensures that the algorithm explores all the vertices at the current depth level before moving on to the next level, resulting in a breadth-first traversal of the graph."
   ]
  },
  {
   "cell_type": "markdown",
   "metadata": {},
   "source": []
  }
 ],
 "metadata": {
  "kernelspec": {
   "display_name": "learn",
   "language": "python",
   "name": "python3"
  },
  "language_info": {
   "codemirror_mode": {
    "name": "ipython",
    "version": 3
   },
   "file_extension": ".py",
   "mimetype": "text/x-python",
   "name": "python",
   "nbconvert_exporter": "python",
   "pygments_lexer": "ipython3",
   "version": "3.12.0"
  }
 },
 "nbformat": 4,
 "nbformat_minor": 2
}
