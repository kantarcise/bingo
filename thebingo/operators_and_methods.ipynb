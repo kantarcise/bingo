{
 "cells": [
  {
   "cell_type": "markdown",
   "metadata": {},
   "source": [
    "# This is all about operators and methods in Python\n"
   ]
  },
  {
   "cell_type": "markdown",
   "metadata": {},
   "source": [
    "Existing values can be combined into larger syntactic expressions using a variety of special symbols and keywords known as **operators.**\n",
    "\n",
    "The semantics of an operator depends upon the type of its operands. \n",
    "\n",
    "For example, when `a` and `b` are numbers, the syntax `a + b` indicates addition, while if `a` and `b` are strings, the operator indicates concatenation. \n",
    "\n",
    "In this section, we describe Python’s operators in various contexts of the built-in types."
   ]
  },
  {
   "cell_type": "markdown",
   "metadata": {},
   "source": [
    "#### Logical Operators:  \n",
    "Python supports the following keyword operators for Boolean values:  \n",
    "\n",
    "| Operator | Meaning         |     |\n",
    "| -------- | --------------- | --- |\n",
    "| `not`    | unary negation  |     |\n",
    "| `and`    | conditional and |     |\n",
    "| `or`     | conditional or  |     |\n",
    "\n",
    "\n",
    "Wisdom: The `and` and `or` operators short-circuit, in that they do not evaluate the second operand if the result can be determined based on the value of the first operand"
   ]
  },
  {
   "cell_type": "code",
   "execution_count": 1,
   "metadata": {},
   "outputs": [
    {
     "name": "stdout",
     "output_type": "stream",
     "text": [
      "Either flag_1 is True or flag_2 is false or both\n"
     ]
    }
   ],
   "source": [
    "# All numbers evaluate to True\n",
    "# All non empty sequences are True\n",
    "\n",
    "# 0 and empty sequences are False\n",
    "flag_1 = 1\n",
    "flag_2 = 0\n",
    "\n",
    "if flag_1 and flag_2:\n",
    "\tprint(\"both are true.\")\n",
    "\n",
    "if flag_1 or not flag_2:\n",
    "\tprint(\"Either flag_1 is True or flag_2 is false or both\" )"
   ]
  },
  {
   "cell_type": "markdown",
   "metadata": {},
   "source": [
    "#### Equality Operators:\n",
    "Python supports the following operators to test two notions of equality:\n",
    "\n",
    "|Operator | Meaning|\n",
    "|-|-|\n",
    "|`is` | same identity|\n",
    "| `is not` | different identity|   \n",
    "| `==` | equivalent  |\n",
    "|`!=` | not equivalent|"
   ]
  },
  {
   "cell_type": "code",
   "execution_count": 4,
   "metadata": {},
   "outputs": [
    {
     "name": "stdout",
     "output_type": "stream",
     "text": [
      "True\n",
      "This is True because these strings considered equivalent, because they match character to character.\n"
     ]
    }
   ],
   "source": [
    "a = 2\n",
    "b = 2\n",
    "\n",
    "print(a is b) # This is True only when a and b are aliases to same object\n",
    "\n",
    "str_1 = \"abc\"\n",
    "str_2 = \"abc\"\n",
    "\n",
    "if str_1 == str_2:\n",
    "\tprint(\"This is True because these strings considered equivalent, because they match character to character.\")"
   ]
  },
  {
   "cell_type": "markdown",
   "metadata": {},
   "source": [
    "\n",
    "**Wisdom:** So in general, we use `==` or `!=` , not identity (Identical objects are also equal but we rarely compare identical objects)."
   ]
  },
  {
   "cell_type": "markdown",
   "metadata": {},
   "source": [
    "#### Comparison Operators:\n",
    "Comparison happens lexicographically - Like Oxford Dictionary.\n",
    "\n",
    "| Operator | Meaning                  |     |\n",
    "| -------- | ------------------------ | --- |\n",
    "| `<`      | less than                |     |\n",
    "| `<=`     | less than or equal to    |     |\n",
    "| `>`      | greater than             |     |\n",
    "| `>=`     | greater than or equal to |     |\n",
    "\n",
    "**Wisdom:** They should be between comparable operands."
   ]
  },
  {
   "cell_type": "code",
   "execution_count": 6,
   "metadata": {},
   "outputs": [
    {
     "name": "stdout",
     "output_type": "stream",
     "text": [
      "True\n",
      "False\n",
      "True\n"
     ]
    }
   ],
   "source": [
    "print('apple' >= 'apple') # True \n",
    "print('apple' >= 'orange') # False \n",
    "print('orange' >= 'apple') # True"
   ]
  },
  {
   "cell_type": "markdown",
   "metadata": {},
   "source": [
    "#### Arithmetic Operators:\n",
    "Python supports the following arithmetic operators:\n",
    "\n",
    "| operator | meaning |\n",
    "|-|-|\n",
    "|`+` |addition|  \n",
    "| `−` | subtraction|  \n",
    "| `*` | multiplication|  \n",
    "| `/` | true division|  \n",
    "| `//` |integer division  |\n",
    "| `%` | the modulo operator|\n",
    "| `**` | power operator |\n",
    "\n",
    "**Wisdom:** True division implicitly converts the data type to `float`."
   ]
  },
  {
   "cell_type": "code",
   "execution_count": 10,
   "metadata": {},
   "outputs": [
    {
     "name": "stdout",
     "output_type": "stream",
     "text": [
      "0\n",
      "2\n",
      "1\n",
      "0.75\n",
      "True\n",
      "0\n",
      "1.95\n"
     ]
    }
   ],
   "source": [
    "a = 3\n",
    "b = 4\n",
    "c = 7.8\n",
    "d = 12 * 10 ** 3\n",
    "f = 12\n",
    "g = ((3 ** 2) + (4 ** 2)) ** 0.5\n",
    "\n",
    "print(a // b) # 0 because it is rounded\n",
    "print(7 // 3) # 2\n",
    "print(7 // 4) # 1\n",
    "print(a / b) # 0.75 - result is a float\n",
    "print(isinstance((lambda x: x / 2)(2), float)) # True\n",
    "print(int(0.75)) # 0, as expected\n",
    "\n",
    "print(c / b) # 1.95, a float"
   ]
  },
  {
   "cell_type": "code",
   "execution_count": 12,
   "metadata": {},
   "outputs": [
    {
     "name": "stdout",
     "output_type": "stream",
     "text": [
      "6\n",
      "0\n",
      "[[10], [10], [10]]\n",
      "5.0\n"
     ]
    }
   ],
   "source": [
    "print(56 % 10) # 6\n",
    "print(d % f) # 0 because this is the remainder\n",
    "print([[(10 % 3) * 10] for _ in range(3)]) # [[10], [10], [10]]\n",
    "\n",
    "print(g) # 5.0 - the great triangle"
   ]
  },
  {
   "cell_type": "code",
   "execution_count": 13,
   "metadata": {},
   "outputs": [
    {
     "name": "stdout",
     "output_type": "stream",
     "text": [
      "625\n",
      "(1000, 0)\n",
      "(3, 1)\n",
      "(2, 0)\n"
     ]
    }
   ],
   "source": [
    "print(5 ** 2 ** 2) # 625\n",
    "\n",
    "print(divmod(d, f)) # (1000, 0) - tuple of (quotient, remainder)\n",
    "\n",
    "print(divmod(10,3)) # 3, 1\n",
    "print(divmod(10,5)) # 2, 0\n",
    "\n",
    "#\n",
    "# dividend | divisor\n",
    "#\t\t   |________\n",
    "# _________| quotient\n",
    "# remainder|\n",
    "#          |"
   ]
  },
  {
   "cell_type": "markdown",
   "metadata": {},
   "source": [
    "#### Bitwise Operators:  \n",
    "[This](https://realpython.com/python-bitwise-operators/) is a wonderful source on the topic. \n",
    "\n",
    "You can use bitwise operators to perform [Boolean logic](https://en.wikipedia.org/wiki/Boolean_algebra) on individual bits. \n",
    "\n",
    "That’s analogous to using logical operators such as `and`, `or`, and `not`, but on a bit level. "
   ]
  },
  {
   "cell_type": "markdown",
   "metadata": {},
   "source": [
    "Bitwise operators were used a lot more in programming when computers didn’t have as **much memory** in them as they do now. Bitwise operators are still used for those working on embedded devices that have ==memory limitations==.\n",
    "\n",
    "Python provides the following bitwise operators for integers: \n",
    "\n",
    "| operator | meaning | \n",
    "| - |- |\n",
    "| `∼`  | bitwise complement (prefix unary operator)  |\n",
    "| `&` | bitwise and  |\n",
    "| `pipe` | bitwise or  |\n",
    "|`ˆ`| bitwise exclusive-or  |\n",
    "| `<<` | shift bits left, filling in with zeros  |\n",
    "| `>>` |shift bits right, filling in with sign bit|\n",
    "\n",
    "**Bitwise And** - `x & 1 == x` for `x == 0 or x == 1` - *And with 1 is bit itself.*\n",
    "\n"
   ]
  },
  {
   "cell_type": "code",
   "execution_count": 14,
   "metadata": {},
   "outputs": [
    {
     "name": "stdout",
     "output_type": "stream",
     "text": [
      "0\n",
      "20\n"
     ]
    }
   ],
   "source": [
    "# Bitwise AND operator \n",
    "\n",
    "a = 10 # = 1010 (Binary)\n",
    "b = 4 # =  0100 (Binary)\n",
    "\n",
    "c = a & b #   1010 \n",
    "          #   0100\n",
    "          #  &____\n",
    "          #   0000\n",
    "          # 0 (Decimal)\n",
    "\n",
    "print(c) # 0\n",
    "\n",
    "d = 156 #  10011100\n",
    "f = 52  #  00110100\n",
    "        # &________\n",
    "        #  00010100\n",
    "        # which is 20 decimal\n",
    "\n",
    "g = d & f\n",
    "print(g) # 20"
   ]
  },
  {
   "cell_type": "markdown",
   "metadata": {},
   "source": [
    "**Bitwise Or** - `x | 0 = x` for `x == 0 or x == 1` - *Or with 0 is the number itself.*"
   ]
  },
  {
   "cell_type": "code",
   "execution_count": 15,
   "metadata": {},
   "outputs": [
    {
     "name": "stdout",
     "output_type": "stream",
     "text": [
      "45\n"
     ]
    }
   ],
   "source": [
    "# Bitwise OR operator\n",
    "\n",
    "k = 44  #  101100 \n",
    "l = 13  #  001101\n",
    "        # |______\n",
    "        #  101101\n",
    "        #  which is 45 decimal\n",
    "\n",
    "m = k | l\n",
    "\n",
    "print(m) # 45"
   ]
  },
  {
   "cell_type": "markdown",
   "metadata": {},
   "source": [
    "**Bitwise XOR** - Apple Operator. 🍎\n",
    "\n",
    "I call this the Apple operator because at Apple, people from diverse backgrounds do amazing things. \n",
    "\n",
    "Two of the same just makes `0`, nothing new.\n",
    "\n",
    "**XOR of a Number with Itself:** `number ^ number = 0` - number can be multiple digits:\n",
    "- This property is a fundamental characteristic of XOR. \n",
    "- If you XOR a value with itself, all corresponding bits will cancel each other out, resulting in zero.\n",
    "\n",
    "**XOR of a Number with 0:** `number ^ 0 = number` - number can be multiple digits:\n",
    "- XOR'ing any value with zero leaves the value unchanged. \n",
    "- This is because XOR compares corresponding bits, and if one of them is zero, the result will be the other bit."
   ]
  },
  {
   "cell_type": "code",
   "execution_count": 16,
   "metadata": {},
   "outputs": [
    {
     "name": "stdout",
     "output_type": "stream",
     "text": [
      "0\n",
      "7\n",
      "8\n"
     ]
    }
   ],
   "source": [
    "# Bitwise XOR - \n",
    "# same makes 0 different makes 1\n",
    "# if you xor a number with itself, the result will be 0\n",
    "ma = 7\n",
    "mb = ma ^ ma\n",
    "print(mb) # 0\n",
    "print(ma ^ 0) # 7 because eveything will be the same as the number.\n",
    "\n",
    "# if you xor a number with 0 the result will be number itself\n",
    "\n",
    "n = 11  #  1011    \n",
    "o = 3   #  0011\n",
    "        # ^____\n",
    "        #  1000\n",
    "        #  which is 8 in decimal   \n",
    "\n",
    "p = n ^ o\n",
    "\n",
    "print(p) # 8 "
   ]
  },
  {
   "cell_type": "markdown",
   "metadata": {},
   "source": [
    "### **Bitwise NOT**"
   ]
  },
  {
   "cell_type": "code",
   "execution_count": 17,
   "metadata": {},
   "outputs": [
    {
     "name": "stdout",
     "output_type": "stream",
     "text": [
      "-157\n",
      "99\n"
     ]
    }
   ],
   "source": [
    "# Bitwise NOT\n",
    "#  Performs A logical negation on a given number \n",
    "#  by flipping all of its bits.\n",
    "\n",
    "r = 156 # 10011100\n",
    "        #  ~ \n",
    "        # 01100011\n",
    "\n",
    "print(~r) # it says -157. hmmm\n",
    "\n",
    "# instead AND with 255\n",
    "s = ~r & 0b11111111\n",
    " \n",
    "print(s) # this will be 99. Which we originally expected."
   ]
  },
  {
   "cell_type": "markdown",
   "metadata": {},
   "source": [
    "### **Bitwise Shift**\n",
    "\n",
    "**Left Shift**"
   ]
  },
  {
   "cell_type": "code",
   "execution_count": 18,
   "metadata": {},
   "outputs": [
    {
     "name": "stdout",
     "output_type": "stream",
     "text": [
      "78\n",
      "156\n",
      "312\n"
     ]
    }
   ],
   "source": [
    "# Bitwise Shift\n",
    "\n",
    "# Left Shift\n",
    "# Moves the bits to left, filling with zero:\n",
    "\n",
    "a = 39        # 39  000100111\n",
    "print(a << 1) # 78  001001110\n",
    "print(a << 2) # 156 010011100\n",
    "print(a << 3) # 312 100111000"
   ]
  },
  {
   "cell_type": "markdown",
   "metadata": {},
   "source": [
    "##### *Bit masks ?*\n",
    "\n",
    "On paper, the bit pattern resulting from a left shift becomes longer by as many places as you shift it. That’s also true for Python in general because of how it handles integers. However, in most practical cases, you’ll want to constrain the length of a bit pattern to be a multiple of eight, which is the **standard byte length**.\n",
    "\n",
    "For example, if you’re working with a single byte, then shifting it to the left should discard all the bits that go beyond its left boundary:\n",
    "\n",
    "It’s sort of like looking at an unbounded stream of bits through a fixed-length window. There are a few tricks that let you do this in Python. \n",
    "\n",
    "For example, you can apply a **bitmask** with the bitwise AND operator:"
   ]
  },
  {
   "cell_type": "code",
   "execution_count": 19,
   "metadata": {},
   "outputs": [
    {
     "name": "stdout",
     "output_type": "stream",
     "text": [
      "312\n",
      "56\n"
     ]
    }
   ],
   "source": [
    "print(39 << 3) # 312 - over 1 byte\n",
    "print((39 << 3) & 255) # 56 - bitmaskedded"
   ]
  },
  {
   "cell_type": "markdown",
   "metadata": {},
   "source": [
    "Shifting 39 by three places to the left returns a number higher than the maximum value that you can store on a single byte. It takes ==nine== bits, whereas a byte has only ==eight==. \n",
    "\n",
    "To chop off that one extra bit on the left, you can apply a bitmask with the appropriate value. If you’d like to keep more or fewer bits, then you’ll need to modify the mask value accordingly.\n",
    "\n",
    "**Right Shift**"
   ]
  },
  {
   "cell_type": "code",
   "execution_count": 20,
   "metadata": {},
   "outputs": [
    {
     "name": "stdout",
     "output_type": "stream",
     "text": [
      "78\n",
      "39\n",
      "19\n"
     ]
    }
   ],
   "source": [
    "# Bitwise Right Shift\n",
    "\n",
    "# Pushes bits to right, rightmost bit drops\n",
    "\n",
    "a = 157       # 10011101 -  157\n",
    "print(a >> 1) # 01001110    78\n",
    "print(a >> 2) # 00100111    39\n",
    "print(a >> 3) # 00010011    19"
   ]
  },
  {
   "cell_type": "markdown",
   "metadata": {},
   "source": [
    "**Wisdom:** \n",
    "You can further categorize the bitwise shift operators as arithmetic and logical shift operators. \n",
    "\n",
    "While Python only lets you do the arithmetic shift, it’s worthwhile to know how other programming languages implement the bitwise shift operators to avoid confusion and surprises.\n",
    "\n",
    "This distinction comes from the way they handle the **sign bit**, which ordinarily lies at the far left edge of a signed binary sequence. In practice, it’s relevant only to the right shift operator, which can cause a number to flip its sign, leading to [integer overflow](https://en.wikipedia.org/wiki/Integer_overflow)."
   ]
  },
  {
   "cell_type": "markdown",
   "metadata": {},
   "source": [
    "#### Sequence Operators: \n",
    "\n",
    "Each of Python’s built-in sequence types (`str`, `tuple`, and `list`) support the following operator syntaxes:  \n",
    "\n",
    "|operator|meaning|\n",
    "|-|-|\n",
    "|`s[j]`| element at index j|  \n",
    "|`s[start:stop]`| slice including indices `[start,stop)` |\n",
    "| `s[start:stop:step]` | slice starting from start with step, not equal to stop |\n",
    "| `s + t` | concatenation of sequences  |\n",
    "| `k * s` | shorthand for s + s + s + ... (k times)  |\n",
    "| `val in  s` | containment check  |\n",
    "| `val not in s` | non-containment check |\n",
    "\n"
   ]
  },
  {
   "cell_type": "code",
   "execution_count": 21,
   "metadata": {},
   "outputs": [
    {
     "name": "stdout",
     "output_type": "stream",
     "text": [
      "[8]\n",
      "[7, 9]\n",
      "[7, 8, 9, 'a', 'b', 'c']\n",
      "[7, 8, 9, 'c']\n",
      "True\n"
     ]
    }
   ],
   "source": [
    "my_seq = [7, 8, 9]\n",
    "\n",
    "print(my_seq[1:2]) # 8\n",
    "\n",
    "print(my_seq[0:3:2]) # [7, 9]\n",
    "\n",
    "print(my_seq + [\"a\", \"b\", \"c\"]) # [7, 8, 9, 'a', 'b', 'c']\n",
    "\n",
    "print(my_seq + [[\"a\", \"b\", \"c\"][-1]]) # [7, 8, 9, 'c']\n",
    "\n",
    "result = [0] * 4 # [0, 0, 0, 0]\n",
    "\n",
    "print(0 in result) # True"
   ]
  },
  {
   "cell_type": "markdown",
   "metadata": {},
   "source": [
    "Python uses zero indexing in sequences. Also we can access elements with negative indexes. Index `-1` denotes the last element in a sequence. 🥰\n",
    "\n",
    "Sequences define comparison operations based on lexicographic order, performing an element by element comparison until the first difference is found.\n",
    "\n",
    "| operator | meaning |\n",
    "| - | - |\n",
    "| `s == t` | equivalent (element by element) |\n",
    "| `s != t` | not equivalent |\n",
    "| `s < t` | lexicographically less than |\n",
    "| `s <= t` | lexicographically less than or equal to |\n",
    "| `s > t` | lexicographically greater than |\n",
    "| `s >= t` | lexicographically greater than or equal to |\n"
   ]
  },
  {
   "cell_type": "markdown",
   "metadata": {},
   "source": [
    "#### Operators for Sets and Dictionaries: \n",
    "\n",
    "##### Sets:\n",
    "\n",
    "They do not provide order between elements, so comparison is not lexicographic. **No orders here**. Also there is no slicing for `[]` sets. `Sets` and `frozensets` support the following operators:  \n",
    "\n",
    "|operator|meaning|\n",
    "|-|-|\n",
    "|`key in s` |containment check  |\n",
    "|`key not in s` | non-containment check|  \n",
    "|`s1 == s2` |s1 is equivalent to s2  |\n",
    "|`s1 != s2` |s1 is not equivalent to s2|  \n",
    "|`s1 <= s2` |s1 is subset of s2  |\n",
    "|`s1 < s2` |s1 is proper subset of s2  |\n",
    "|`s1 >= s2`| s1 is superset of s2  |\n",
    "|`s1 > s2` | s1 is proper superset of s2  |\n",
    "|`s1 pipe s2` |the union of s1 and s2  |\n",
    "|`s1 & s2` |the intersection of s1 and s2  |\n",
    "|`s1 − s2`  |the set of elements in s1 but not s2  |\n",
    "|`s1 ˆ s2` |the set of elements in precisely one of s1 or s|\n"
   ]
  },
  {
   "cell_type": "code",
   "execution_count": 22,
   "metadata": {},
   "outputs": [
    {
     "name": "stdout",
     "output_type": "stream",
     "text": [
      " is 2 in the hset: True\n",
      " is 7 in the hset: False\n",
      "are these equal: False\n",
      " smaller or equal ? : False\n",
      "False\n",
      "True\n",
      "True\n",
      "{1, 2, 3, 4, 6, 7, 9}\n",
      "{4}\n",
      "The difference between big number set and small number set: {9, 6, 7}\n",
      "{1, 2, 3, 6, 7, 9}\n"
     ]
    }
   ],
   "source": [
    "hset = {1 , 2 , 3, 4}\n",
    "hset_2 = {6, 7, 9, 4}\n",
    "hset_3 = {1, 2, 3}\n",
    "\n",
    "print(f\" is {2} in the hset: {2 in hset}\") # True\n",
    "# is 2 in the hset: True\n",
    "\n",
    "# print([] in hset) # unhashable type: 'list'\n",
    "\n",
    "print(f\" is {7} in the hset: {7 in hset}\") # False\n",
    "# is 7 in the hset: False\n",
    "\n",
    "print(f\"are these equal: {hset == hset_2}\" ) # False\n",
    "# are these equal: False\n",
    "\n",
    "print( f\" smaller or equal ? : {hset <= hset_2}\") # False\n",
    "# smaller or equal ? : False\n",
    "\n",
    "print( hset < hset_2 ) # False\n",
    "print( hset >= hset_3) # True\n",
    "print( hset > hset_3 ) # True\n",
    "\n",
    "print( hset | hset_2) # {1, 2, 3, 4, 6, 7, 9}\n",
    "\n",
    "print( hset & hset_2) # {4}\n",
    "\n",
    "print(f\"The difference between big number set and small number set: {hset_2 - hset}\")\n",
    "# The difference between big number set and small number set: {9, 6, 7}\n",
    "\n",
    "# only in set 1 OR set 2\n",
    "print(hset ^ hset_2) # {1, 2, 3, 6, 7, 9}\n",
    "\n",
    "hset.add(12)\n",
    "hset.remove(12)\n",
    "hset.discard(7) # does not give an error even though 7 is not in the set"
   ]
  },
  {
   "cell_type": "markdown",
   "metadata": {},
   "source": [
    "##### Dictionaries:\n",
    "\n",
    "Do not maintain a well defined order on their elements. $O(1)$ access to elements. 😍\n",
    "\n",
    "|operator|meaning|\n",
    "|-|-|\n",
    "|`d[key]` | value associated with given key | \n",
    "|`d[key]` = value | set (or reset) the value associated with given key  |\n",
    "|`del d[key]` | remove key and its associated value from dictionary|  \n",
    "|`key in d`  | containment check  |\n",
    "|`key not in d` | non-containment check  |\n",
    "|`d1 == d2` | d1 is equivalent to d2  |\n",
    "|`d1 != d2` | d1 is not equivalent to d2|\n"
   ]
  },
  {
   "cell_type": "markdown",
   "metadata": {},
   "source": []
  },
  {
   "cell_type": "code",
   "execution_count": 23,
   "metadata": {},
   "outputs": [
    {
     "name": "stdout",
     "output_type": "stream",
     "text": [
      "1\n",
      "100\n",
      "True\n",
      "False\n",
      "greg\n",
      "andrej\n"
     ]
    }
   ],
   "source": [
    "hmap = {\"gary\" : 1, \"alex\": 3, \"artour\" : 7, \"greg\": 10, \"andrej\": 20}\n",
    "\n",
    "print(hmap[\"gary\"]) # 1\n",
    "\n",
    "print(hmap.get(\"alexx\", 100)) # 100\n",
    "\n",
    "print(\"artour\" in hmap) # True\n",
    "\n",
    "print(hmap == {True: 1}) # False\n",
    "\n",
    "print(max(hmap)) # \"greg\" - biggest key, literally\n",
    "\n",
    "print(max(hmap, key=hmap.get)) # andrej - key for max changed"
   ]
  },
  {
   "cell_type": "markdown",
   "metadata": {},
   "source": [
    "##### Extended Assignment Operators : \n",
    "\n",
    "For an immutable type, such as a number or a string, one should not presume that this syntax changes the value of the existing object, but instead that it will reassign the identifier to a newly constructed value.\n",
    "\n",
    "==Immutables will be made as new objects!==\n",
    "\n",
    "However, it is possible for a type to redefine such semantics to mutate the object, as the `list` class does for the `+=` operator."
   ]
  },
  {
   "cell_type": "code",
   "execution_count": 24,
   "metadata": {},
   "outputs": [
    {
     "name": "stdout",
     "output_type": "stream",
     "text": [
      "[1, 2, 3, 4, 5]\n",
      "[1, 2, 3, 4, 5, 6, 7]\n"
     ]
    }
   ],
   "source": [
    "\"\"\"\n",
    "We can do the following to all mutable values - list - set - dict\n",
    "\"\"\"\n",
    "\n",
    "alpha = [1, 2, 3]  \n",
    "beta = alpha # an alias for alpha  \n",
    "beta += [4, 5] # extends the original list with two more elements  \n",
    "beta = beta + [6, 7] # reassigns beta to a new list [1, 2, 3, 4, 5, 6, 7]  \n",
    "print(alpha) # will be [1, 2, 3, 4, 5]\n",
    "print(beta) # [1, 2, 3, 4, 5, 6, 7]"
   ]
  },
  {
   "cell_type": "markdown",
   "metadata": {},
   "source": [
    "##### Operator Precedence\n",
    "\n",
    "Programming languages must have clear rules for the order in which compound expressions, such as $5 + 2 * 3$, are evaluated.\n",
    "\n",
    "Higher precedence will be executed first.\n",
    "\n",
    "|Precedence |Type |Symbols  |\n",
    "|-|-|-|\n",
    "|1 |member access |expr.member  |\n",
    "|2 |function/method calls| expr(...)  |\n",
    "|2 |container subscripts/slices| expr[...]  |\n",
    "|3 |exponentiation  | ** |\n",
    "|4| unary operators |+expr, −expr, ̃expr  |\n",
    "|5|multiplication, division | star, /, //, %  |\n",
    "|6| addition, subtraction | +, −  |\n",
    "|7| bitwise shifting| <<, >>  |\n",
    "|8 |bitwise-and |&  |\n",
    "|9| bitwise-xor |ˆ  |\n",
    "|10| bitwise-or | pipe |  \n",
    "|11| comparisons |is, is not, `==`, !=, <, <=, >, >=  |\n",
    "|11| containment| in, not in  |\n",
    "|12 |logical-not |not expr  |\n",
    "|13| logical-and |and  |\n",
    "|14| logical-or| or  |\n",
    "|15| conditional|val1 if cond else val2  |\n",
    "|16 |assignments| =, +=, −=, =, etc|\n"
   ]
  },
  {
   "cell_type": "markdown",
   "metadata": {},
   "source": [
    "## Control Flow 🌠\n",
    "\n",
    "### Conditionals\n",
    "\n",
    "Most fundamental control structures are conditional statements and loops. The colon character `:` is used to delimit the beginning of a block of code that acts as a body for a control structure. \n",
    "\n",
    "If the body can be stated as a single executable statement, it can **technically be placed on the same line**, to the right of the colon."
   ]
  },
  {
   "cell_type": "markdown",
   "metadata": {},
   "source": [
    "```python\n",
    "if condition:\n",
    "\tfirst_body:\n",
    "elif second_condition:\n",
    "\tsecond_body:\n",
    "else:\n",
    "\tlast_body\n",
    "\n",
    "if seq:\n",
    "\tprint(\"This means seq is not Empty\")\n",
    "\n",
    "# we can do nested\n",
    "if door_is_closed:\n",
    "\tif door_is_locked:\n",
    "\t\tunlock()\n",
    "\topen_door()\n",
    "move()\n",
    "```"
   ]
  },
  {
   "cell_type": "markdown",
   "metadata": {},
   "source": [
    "### Loops\n",
    "\n",
    "Python offers two distinct looping constructs. \n",
    "\n",
    "A ==`while`==  loop allows general repetition based upon the repeated testing of a Boolean condition. \n",
    "\n",
    "A ==`for`==  loop provides convenient iteration of values from a defined series (such as characters of a string, elements of a list, or numbers within a given range).\n",
    "\n",
    "#### While loops - Use when not sure of the loop count\n",
    "\n",
    "```python\n",
    "while condition:\n",
    "\tbody\n",
    "```"
   ]
  },
  {
   "cell_type": "code",
   "execution_count": 29,
   "metadata": {},
   "outputs": [
    {
     "name": "stdout",
     "output_type": "stream",
     "text": [
      "l is decreasing, be careful. Current Value 2\n",
      "l is decreasing, be careful. Current Value 1\n",
      "l is decreasing, be careful. Current Value 0\n",
      "1\n",
      "3\n",
      "5\n"
     ]
    }
   ],
   "source": [
    "l = 2\n",
    "while l >= 0:\n",
    "\tprint(f\"l is decreasing, be careful. Current Value {l}\")\n",
    "\tl -= 1\n",
    "\n",
    "# another example\n",
    "from collections import deque\n",
    "\n",
    "j  = deque()\n",
    "\n",
    "for i in range(1,6,2):\n",
    "\tj.append(i)\n",
    "\n",
    "while j:\n",
    "\t# empty the queue \n",
    "    print(j.popleft())"
   ]
  },
  {
   "cell_type": "markdown",
   "metadata": {},
   "source": [
    "The execution of a while loop begins with a test of the Boolean condition. If that condition evaluates to `True`, the body of the loop is performed.\n",
    "\n",
    "After each execution of the body, the loop condition is retested, and if it evaluates to `True`, another iteration of the body is performed.\n",
    "\n",
    "When the conditional test evaluates to `False` (assuming it ever does), the loop is exited and the flow of control continues just beyond the body of the loop.\n",
    "#### For loops - Use when a specific limit is apparent\n",
    "\n",
    "Python’s for-loop syntax is a more convenient alternative to a while loop when iterating through a series of elements.\n",
    "\n",
    "The for-loop syntax can be used on any type of **iterable** structure, such as a `list`, `tuple`, `str`, `set`, `dict`, or `file` (we will discuss iterators more formally in Chapter 1.8). \n",
    "\n",
    "Its general syntax appears as follows.\n",
    "\n",
    "```python\n",
    "# for each loop\n",
    "for element in iterable:\n",
    "\tbody\n",
    "```\n",
    "\n",
    "```python \n",
    "# for loop\n",
    "for j in range(len(data)):  \n",
    "\tprint(j)\n",
    "```"
   ]
  },
  {
   "cell_type": "markdown",
   "metadata": {},
   "source": [
    "## Functions\n",
    "\n",
    "There are functions and methods. We begin with an example to demonstrate the syntax for defining functions in Python.\n",
    "\n",
    "The following function counts the number of occurrences of a given target value within any form of iterable data set.\n"
   ]
  },
  {
   "cell_type": "code",
   "execution_count": 34,
   "metadata": {},
   "outputs": [],
   "source": [
    "def count(data, target):  # function signature\n",
    "\t\"\"\"Count the occurance of target in data\"\"\"\n",
    "\t# body of the function\n",
    "\tn = 0  \n",
    "\tfor item in data:  \n",
    "\t\tif item == target: # found a match  \n",
    "\t\t\tn += 1\n",
    "\treturn n  "
   ]
  },
  {
   "cell_type": "markdown",
   "metadata": {},
   "source": [
    "Each time a function is called, Python creates a dedicated **activation record** that stores information relevant to the current call. This activation record includes what is known as a namespace to manage all identifiers that have local scope within the current call.  \n",
    "\n",
    "The namespace includes the function’s parameters and any other identifiers that are defined locally within the body of the function. \n",
    "\n",
    "An identifier in the local scope of the function caller has no relation to any identifier with the same name in the caller’s scope (although identifiers in different scopes may be aliases to the same object). \n",
    "\n",
    "In our first example, the identifier $n$ has scope that is local to the function call, as does the identifier item, which is established as the loop variable.\n",
    "### Return Statement\n",
    "\n",
    "A `return` statement is used within the body of a function to indicate that the function should immediately cease execution, and that an expressed value should be returned to the caller. \n",
    "\n",
    "If a `return` statement is executed without an explicit argument, the `None` value is automatically returned. Likewise, `None` will be returned if the flow of control ever reaches the end of a function body without having executed a `return` statement."
   ]
  },
  {
   "cell_type": "markdown",
   "metadata": {},
   "source": [
    "#### Pass By Value or Pass By Reference? \n",
    "\n",
    "It depends on the object that is being used"
   ]
  },
  {
   "cell_type": "markdown",
   "metadata": {},
   "source": [
    "### Python’s Built-In Functions\n",
    "\n",
    "Here are -almost- all the built in functions in Python."
   ]
  },
  {
   "cell_type": "markdown",
   "metadata": {},
   "source": [
    "\n",
    "| Common Built-In Functions        |                                                                                                                                                         |\n",
    "| -------------------------------- | ------------------------------------------------------------------------------------------------------------------------------------------------------- |\n",
    "| **Calling Syntax**               | **Description**                                                                                                                                         |\n",
    "| `abs(x)`                         | Return the absolute value of a number.                                                                                                                  |\n",
    "| `all(iterable)`                  | Return `True` if `bool(e)` is True for each element e.                                                                                                  |\n",
    "| `any(iterable)`                  | Return `True` if `bool(e)` is True for at least one element e.                                                                                          |\n",
    "| `bin(integer)`                   | Convert an integer number to a binary `string` prefixed with `“0b”`                                                                                     |\n",
    "| `callable(object)`               | Return `True` if the object argument appears callable, `False` if not.                                                                                  |\n",
    "| `chr(integer)`                   | Return a one-character string with the given Unicode code point.                                                                                        |\n",
    "| `dir(object)`                    | Without arguments, return the list of names in the current local scope. With an argument, attempt to return a list of valid attributes for that object. |\n",
    "| `divmod(x, y)`                   | Return `(x // y, x % y)` as tuple, if `x` and `y` are integers.                                                                                         |\n",
    "| `enumerate(iterable, start=0)`   | Return an enumerate object. iterable must be a sequence, an iterator, or some other object which supports iteration.                                    |\n",
    "| `filter(function, iterable)`     | Returns an iterator where the items are filtered through a function to test if the item is accepted or not.                                             |\n",
    "| `hash(obj)`                      | Return an integer hash value for the object (see Chapter 10).                                                                                           |\n",
    "| `hex(number)`                    | Return the hexadecimal representation string of a given number, prefixed with `\"0x\"`                                                                    |\n",
    "| `id(obj)`                        | Return the unique integer serving as an “identity” for the object.                                                                                      |\n",
    "| `input(prompt)`                  | Return a string from standard input; the prompt is optional.                                                                                            |\n",
    "| `isinstance(obj, cls)`           | Determine if obj is an instance of the class (or a subclass).                                                                                           |\n",
    "| `iter(iterable)`                 | Return a new iterator object for the parameter (see Chapter 1.8).                                                                                       |\n",
    "| `len(iterable)`                  | Return the number of elements in the given iteration.                                                                                                   |\n",
    "| `map(f, iter1, iter2, ...)`      | Return an iterator yielding the result of function calls $f(e1, e2, ...)$ for respective elements $e1 ∈ iter1$, $e2 ∈ iter2$, ...                       |\n",
    "| `max(iterable)`                  | Return the largest element of the given iteration.                                                                                                      |\n",
    "| `max(a, b, c, ...)`              | Return the largest of the arguments.                                                                                                                    |\n",
    "| `min(iterable)`                  | Return the smallest element of the given iteration.                                                                                                     |\n",
    "| `min(a, b, c, ...)`              | Return the smallest of the arguments.                                                                                                                   |\n",
    "| `next(iterator)`                 | Return the next element reported by the iterator (see Chapter 1.8).                                                                                     |\n",
    "| `oct(x)`                         | Convert an integer number to an octal string prefixed with `“0o”`.                                                                                      |\n",
    "| `open(ﬁlename, mode)`            | Open a ﬁle with the given name and access mode.                                                                                                         |\n",
    "| `ord(char)`                      | Return the Unicode code point of the given character (length = 1 string).                                                                               |\n",
    "| `pow(x, y)`                      | Return the value x^y (as an integer if x and y are integers), equivalent to x ** y.                                                                     |\n",
    "| `pow(x, y, z)`                   | Return the value `(x^y mod z)` as an integer.                                                                                                           |\n",
    "| `print(obj1, obj2, ...)`         | Print the arguments, with separating spaces and trailing newline.                                                                                       |\n",
    "| `range(stop)`                    | Construct an iteration of values $0, 1, . . . , stop − 1$.                                                                                              |\n",
    "| `range(start, stop)`             | Construct an iteration of values $start, start + 1, . . . , stop − 1$.                                                                                  |\n",
    "| `range(start, stop, step)`       | Construct an iteration of values $start, start + step, start + 2 * step$, . . .                                                                         |\n",
    "| `reversed(sequence)`             | Return an iteration of the sequence in reverse.                                                                                                         |\n",
    "| `round(x)`                       | Return the nearest `int` value (a tie is broken toward the even value).                                                                                 |\n",
    "| `round(x, k)`                    | Return the value rounded to the nearest $10^{−k}$ (return-type matches x).                                                                              |\n",
    "| `sorted(iterable)`               | Return a `list` containing elements of the iterable in sorted order.                                                                                    |\n",
    "| `sum(iterable)`                  | Return the sum of the elements in the iterable (must be numeric).                                                                                       |\n",
    "| `type(obj)`                      | Return the `class` to which the instance obj belongs.                                                                                                   |\n",
    "| `vars(object)`                   | Return the `__dict__` attribute for a module, class, instance, or any other object with a `__dict__` attribute.                                         |\n",
    "| `zip(iterables, strict = False)` | Iterate over several iterables in parallel, producing tuples with an item from each one.                                                                |\n"
   ]
  },
  {
   "cell_type": "code",
   "execution_count": 37,
   "metadata": {},
   "outputs": [
    {
     "name": "stdout",
     "output_type": "stream",
     "text": [
      "76.98\n",
      "True\n",
      "False\n",
      "True\n",
      "0b1100\n",
      "0o14\n",
      "0xc\n"
     ]
    }
   ],
   "source": [
    "print(abs(-76.98)) # 76.98\n",
    "\n",
    "print(all([ (1>0), (2< 4), (10>8)])) # True - all(iterable)\n",
    "\n",
    "print(any({})) # False\n",
    "print(any({0: 0 , \"a\": 4, \"b\": 8})) # True\n",
    "\n",
    "print(bin(12)) # \"0b1100\"\n",
    "print(oct(12)) # \"0o14\"\n",
    "print(hex(12)) # \"0xc\""
   ]
  },
  {
   "cell_type": "code",
   "execution_count": 2,
   "metadata": {},
   "outputs": [
    {
     "name": "stdout",
     "output_type": "stream",
     "text": [
      "False\n",
      "True\n"
     ]
    }
   ],
   "source": [
    "# Here is a cool way to use all()\n",
    "\n",
    "# use a comprehension with a method! Could be lambda\n",
    "\n",
    "carz = [1,2,3,4]\n",
    "\n",
    "print(all((lambda x: x>1)(elem) for elem in carz)) # False\n",
    "\n",
    "print(all((lambda x: x>0)(elem) for elem in carz)) # True"
   ]
  },
  {
   "cell_type": "code",
   "execution_count": 38,
   "metadata": {},
   "outputs": [
    {
     "name": "stdout",
     "output_type": "stream",
     "text": [
      "True\n",
      "A\n",
      "[\n",
      "a\n",
      "{\n",
      "(3, 1)\n",
      "(2, 0)\n"
     ]
    }
   ],
   "source": [
    "print(callable(print)) # True\n",
    "\n",
    "print(chr(65)) # A\n",
    "print(chr(91)) # Z\n",
    "\n",
    "print(chr(97)) # a\n",
    "print(chr(123)) # z\n",
    "\n",
    "print(divmod(10,3)) # (3, 1) tuple - (x // y , x % y)\n",
    "print(divmod(4,2)) # (2, 0) tuple - (x // y , x % y)"
   ]
  },
  {
   "cell_type": "code",
   "execution_count": 39,
   "metadata": {},
   "outputs": [
    {
     "name": "stdout",
     "output_type": "stream",
     "text": [
      "['In', 'Out', '_', '_5', '__', '___', '__builtin__', '__builtins__', '__doc__', '__loader__', '__name__', '__package__', '__spec__', '__vsc_ipynb_file__', '_dh', '_i', '_i1', '_i10', '_i11', '_i12', '_i13', '_i14', '_i15', '_i16', '_i17', '_i18', '_i19', '_i2', '_i20', '_i21', '_i22', '_i23', '_i24', '_i25', '_i26', '_i27', '_i28', '_i29', '_i3', '_i30', '_i31', '_i32', '_i33', '_i34', '_i35', '_i36', '_i37', '_i38', '_i39', '_i4', '_i5', '_i6', '_i7', '_i8', '_i9', '_ih', '_ii', '_iii', '_oh', 'a', 'alpha', 'b', 'beta', 'c', 'count', 'd', 'deque', 'exit', 'f', 'flag_1', 'flag_2', 'g', 'get_ipython', 'hmap', 'hset', 'hset_2', 'hset_3', 'i', 'j', 'k', 'l', 'm', 'ma', 'mb', 'my_seq', 'n', 'o', 'open', 'p', 'quit', 'r', 'result', 's', 'str_1', 'str_2']\n",
      "unhashable type: 'list'\n",
      "-1983186591225632936\n"
     ]
    }
   ],
   "source": [
    "print(dir())\n",
    "\n",
    "# ['__builtin__', '__builtins__', '__doc__', '__loader__', '__name__', '__package__',\n",
    "# '__spec__', '_dh', '_i', '_i1', '_i10', '_i11', '_i12', '_i13', '_i14', '_i15', '_i16',\n",
    "# '_i17', '_i18', '_i19', '_i2', '_i20', '_i21', '_i22', '_i3', '_i4', '_i5', '_i6', '_i7',\n",
    "# '_i8', '_i9', '_ih', '_ii', '_iii', '_oh', 'a', 'b', 'deque', 'exit', 'get_ipython', \n",
    "# 'heapq', 'i', 'myc', 'n', 'open', 'os', 'q', 'quit', 'sys']\n",
    "\n",
    "seasons = ['Spring', 'Summer', 'Fall', 'Winter']\n",
    "\n",
    "list(enumerate(seasons)) # [(0, 'Spring'), (1, 'Summer'), (2, 'Fall'), (3, 'Winter')]\n",
    "\n",
    "# start parameter changes the index of start\n",
    "list(enumerate(seasons, start=1)) # [(1, 'Spring'), (2, 'Summer'), (3, 'Fall'), (4, 'Winter')]\n",
    "\n",
    "try:\n",
    "\tprint(hash([1,2,3]))\n",
    "except TypeError as e:\n",
    "\tprint(e) # unhashable type: 'list'\n",
    "\t\n",
    "print(hash(\"fatmanurisawesome!\")) # -3340125189854980177"
   ]
  },
  {
   "cell_type": "code",
   "execution_count": 40,
   "metadata": {},
   "outputs": [
    {
     "name": "stdout",
     "output_type": "stream",
     "text": [
      "124353870138592\n",
      "<class 'str'>\n",
      "True\n",
      "1\n",
      "2\n",
      "7\n"
     ]
    }
   ],
   "source": [
    "\n",
    "class Metro:\n",
    "\tdef __init__(self) -> None:\n",
    "\t\tself.wagons = [1, 2, 7]\n",
    "\t\tself.speed = 45\n",
    "\n",
    "\tdef __iter__(self,):\n",
    "\t\treturn iter(self.wagons)\n",
    "\n",
    "train = Metro()\n",
    "\n",
    "print(id(train)) # 140105525318992 - always changing on runtime\n",
    "\n",
    "value = input()\n",
    "print(type(value)) # string\n",
    "\n",
    "print(isinstance(train, Metro)) # True \n",
    "\n",
    "for elem in train:\n",
    "\t# will iterate over wagon numbers\n",
    "\tprint(elem)\n",
    "# 1\n",
    "# 2\n",
    "# 7\n"
   ]
  },
  {
   "cell_type": "code",
   "execution_count": 41,
   "metadata": {},
   "outputs": [
    {
     "name": "stdout",
     "output_type": "stream",
     "text": [
      "apple\n",
      "banana\n",
      "cherry\n"
     ]
    }
   ],
   "source": [
    "# another iter usage\n",
    "\n",
    "# Lists, tuples, dictionaries, and sets are all iterable\n",
    "# objects. They are iterable containers which you\n",
    "# can get an iterator from.\n",
    "\n",
    "# All these objects have a iter() method which is used to get an iterator:\n",
    "mytuple = (\"apple\", \"banana\", \"cherry\") # this is an ITERABLE.\n",
    "myiterator = iter(mytuple) # This is an iterator\n",
    "\n",
    "print(next(myiterator)) # apple  \n",
    "print(next(myiterator)) # banana\n",
    "print(next(myiterator)) # cherry\n"
   ]
  },
  {
   "cell_type": "code",
   "execution_count": 42,
   "metadata": {},
   "outputs": [
    {
     "name": "stdout",
     "output_type": "stream",
     "text": [
      "Length of set is 3\n",
      "0\n",
      "1\n",
      "2\n",
      "{24, 68, 112}\n"
     ]
    }
   ],
   "source": [
    "\n",
    "my_seq = { \"2\", \"5\", \"7\"}\n",
    "print(f\"Length of set is {len(my_seq)}\") # Length of set is 3\n",
    "\n",
    "for i in range(len(my_seq)):\n",
    "\tprint(i)\n",
    "# 0 1 2\n",
    "\n",
    "my_seq = [12,34,56]\n",
    "# normally map returns a map object\n",
    "# you can make a set again\n",
    "print(set(map(lambda X: X * 2, my_seq))) # print(set(map(lambda X: X * 2, my_seq)))\n",
    "# {24, 68, 112}\n"
   ]
  },
  {
   "cell_type": "code",
   "execution_count": 1,
   "metadata": {},
   "outputs": [
    {
     "name": "stdout",
     "output_type": "stream",
     "text": [
      "8.0\n",
      "8.0\n",
      "27.0\n"
     ]
    }
   ],
   "source": [
    "# what does map do again??\n",
    "\n",
    "# mapping a function onto an iterable\n",
    "my_map = map(lambda x: x**3, [2.0, 2.0, 3.0])\n",
    "\n",
    "for element in my_map:\n",
    "\tprint(element) # 8. 8. 27."
   ]
  },
  {
   "cell_type": "code",
   "execution_count": 43,
   "metadata": {},
   "outputs": [
    {
     "name": "stdout",
     "output_type": "stream",
     "text": [
      "8.0 8.0 27.0 56\n",
      "kzla\n"
     ]
    },
    {
     "data": {
      "text/plain": [
       "'9.11'"
      ]
     },
     "execution_count": 43,
     "metadata": {},
     "output_type": "execute_result"
    }
   ],
   "source": [
    "\n",
    "# or you can traverse inside a map\n",
    "my_map = map(lambda x: x**3, [2.0, 2.0, 3.0])\n",
    "\n",
    "for element in my_map:\n",
    "\tprint(element, end = \" \") \n",
    "\n",
    "# 8.0 8.0 27.0\n",
    "\n",
    "print(max(my_seq)) # 56 - it would work even if they were strings\n",
    "\n",
    "list2 = [\"kaula\", \"kzla\", \"kayla\", \"kwala\"]\n",
    "print(max(list2)) # \"kzla\"\n",
    "\n",
    "b=['79.68', '9.11', '5.75']\n",
    "max(b) # \"9.11\" because char by char 9 is bigger than 5 and 7"
   ]
  },
  {
   "cell_type": "code",
   "execution_count": 44,
   "metadata": {},
   "outputs": [
    {
     "name": "stdout",
     "output_type": "stream",
     "text": [
      "sevde\n",
      "sevde\n",
      "12\n"
     ]
    },
    {
     "data": {
      "text/plain": [
       "'f'"
      ]
     },
     "execution_count": 44,
     "metadata": {},
     "output_type": "execute_result"
    }
   ],
   "source": [
    "b=['79.68', '9.11', '5.75']\n",
    "max(b, key = float) # \"79.68\" because it is comparing based on the float value\n",
    "\n",
    "# max with a key for a dictionary\n",
    "my_dict = {\"sezai\": 220, \"sevde\": 22000}\n",
    "\n",
    "print(max(my_dict, key = my_dict.get)) # sevde\n",
    "\n",
    "print(max(my_dict, key = lambda x : my_dict[x])) # sevde\n",
    "\n",
    "print(min(my_seq)) # \"2\"\n",
    "list_of_strings = [\"aaaaaa\", \"bbbbb\", \"cccc\", \"ddd\", \"ee\", \"f\"]\n",
    "min(list_of_strings, key = len) # f"
   ]
  },
  {
   "cell_type": "code",
   "execution_count": 49,
   "metadata": {},
   "outputs": [
    {
     "name": "stdout",
     "output_type": "stream",
     "text": [
      "1\n",
      "3\n",
      "5\n",
      "\n"
     ]
    }
   ],
   "source": [
    "# next(_iterable_, _default_)\n",
    "\n",
    "# this is an iterator\n",
    "my_iter = iter([1, 3, 5])\n",
    "\n",
    "print(next(my_iter))  # 1\n",
    "print(next(my_iter))  # 3 \n",
    "print(next(my_iter))  # 5\n",
    "try:\n",
    "    print(next(my_iter))  # StopIteration\n",
    "except Exception as e:\n",
    "    print(e)\n",
    "# open stuff\n",
    "\n",
    "# if used this way, you need to close it\n",
    "try:\n",
    "    # this will work\n",
    "    # my_file = open(\"sezai.txt\", \"w\")\n",
    "    # my_file.write(\"writing to a file\")\n",
    "    # my_file.close()\n",
    "    pass\n",
    "except:\n",
    "    pass\n",
    "\n",
    "#let's read the contents of the file now\n",
    "try:\n",
    "    my_file = open(\"sezai.txt\",\"r\")\n",
    "    print(my_file.read()) # writing to a file\n",
    "except:\n",
    "    pass"
   ]
  },
  {
   "cell_type": "code",
   "execution_count": 50,
   "metadata": {},
   "outputs": [],
   "source": [
    "# using with\n",
    "\n",
    "#   with open(\"hello.txt\", \"w\") as my_file:\n",
    "#   \tmy_file.write(\"Hello world \\n\")\n",
    "#   \tmy_file.write(\"I hope you're doing well today \\n\")\n",
    "#   \tmy_file.write(\"This is a text file \\n\")\n",
    "#   \tmy_file.write(\"Have a nice time \\n\")\n",
    "\n",
    "#   with open(\"hello.txt\") as my_file:\n",
    "#   \tfor line in my_file:\n",
    "#   \tprint(line)"
   ]
  },
  {
   "cell_type": "code",
   "execution_count": 53,
   "metadata": {},
   "outputs": [
    {
     "name": "stdout",
     "output_type": "stream",
     "text": [
      "49\n",
      "97\n",
      "122\n",
      "65\n",
      "8\n",
      "8\n",
      "a__b***0\n",
      "1\n",
      "2\n",
      "3\n",
      "4\n"
     ]
    }
   ],
   "source": [
    "\"\"\"\n",
    "ord(char) # Return the Unicode code point of the given character.\n",
    "\"\"\"\n",
    "print(ord(\"1\")) # 49\n",
    "print(ord(\"a\")) # 97\n",
    "print(ord(\"z\")) # 122\n",
    "\n",
    "print(ord(\"A\")) # 65\n",
    "print(pow(2,3)) # 8\n",
    "\n",
    "# (x^y mod z) as an integer.\n",
    "print(pow(2, 3, 16)) # 8\n",
    "\n",
    "print(\"a\", \"b\", sep = \"__\", end = \"***\")  # a__b***\n",
    "\n",
    "for i in range(5):\n",
    "\tprint(i) # 0 1 2 3 4\n",
    "\n"
   ]
  },
  {
   "cell_type": "code",
   "execution_count": 54,
   "metadata": {},
   "outputs": [
    {
     "name": "stdout",
     "output_type": "stream",
     "text": [
      "4\n",
      "4\n",
      "4\n",
      "4\n",
      "1\n",
      "3\n",
      "<list_reverseiterator object at 0x711964263ca0>\n",
      "8\n",
      "7.5\n",
      "0.0\n",
      "[5, 8.2, 9]\n",
      "22.2\n",
      "<class 'list'>\n"
     ]
    }
   ],
   "source": [
    "for j in range(1, 5):\n",
    "\tprint(i) # 1 2 3 4\n",
    "\n",
    "for k in range(1, 5, 2):\n",
    "\tprint(k) # 1 3\n",
    "\n",
    "my_list = [9, 8.2, 5]\n",
    "\n",
    "print(reversed(my_list)) # [5, 8.2, 9]\n",
    "print(round(7.5))\n",
    "\n",
    "# Return the value rounded to the nearest 10^−k (return-type matches x)\n",
    "print(round(7.5, 1)) # 7.5\n",
    "print(round(7.5, -3)) # 80\n",
    "# ???\n",
    " \n",
    "print(sorted(my_list)) # [5, 8.2, 9]\n",
    "\n",
    "print(sum(my_list)) # 22.2\n",
    "\n",
    "print(type(my_list)) # <class 'list'>"
   ]
  },
  {
   "cell_type": "code",
   "execution_count": 55,
   "metadata": {},
   "outputs": [
    {
     "name": "stdout",
     "output_type": "stream",
     "text": [
      "{'_x': None, '_C__y': 2}\n"
     ]
    }
   ],
   "source": [
    "class C:\n",
    "    def __init__(self):\n",
    "        self._x = None\n",
    "        self.__y = 2\n",
    "\n",
    "    def getx(self):\n",
    "        return self._x\n",
    "\n",
    "    def setx(self, value):\n",
    "        self._x = value\n",
    "\n",
    "    def delx(self):\n",
    "        del self._x\n",
    "\n",
    "    x = property(getx, setx, delx, \"I'm the 'x' property.\")\n",
    "\n",
    "myc = C()\n",
    "print(vars(myc)) # {'_x': None, '_C__y': 2}"
   ]
  },
  {
   "cell_type": "markdown",
   "metadata": {},
   "source": [
    "## Examples are here"
   ]
  },
  {
   "cell_type": "code",
   "execution_count": 6,
   "metadata": {},
   "outputs": [
    {
     "name": "stdout",
     "output_type": "stream",
     "text": [
      "Secret is : ΢ ΔΘΧ΢Φ ΘΜΠΔΜ ΦΧ΢ ΣΔΜΒΠΜΗΜ, ΦΨΠΔΠΧΚΛΘΜΧΘ ΦΧ΢Π ΧΙ΢ΘΦ\n",
      "Message is : ΢ ΑΕΤ΢Σ ΕΙΝΑΙ ΣΤ΢ ΠΑΙΧΝΙΔΙ, ΣΥΝΑΝΤΗΘΕΙΤΕ ΣΤ΢Ν ΤΖ΢ΕΣ\n"
     ]
    }
   ],
   "source": [
    "# R-5.9\n",
    "#  Explain the changes that would have to be made to the program of Code\n",
    "# Fragment 5.11 so that it could perform the Caesar cipher for messages\n",
    "# that are written in an alphabet-based language other than English, such as\n",
    "# Greek, Russian, or Hebrew.\n",
    "\n",
    "# Greek Ceaser Cipher\n",
    "\n",
    "class GreekCeaserCipher():\n",
    "    \"\"\"Class for doing encryption and decryption using CaesarCipher\n",
    "    In Greek\"\"\"\n",
    "\n",
    "    # 24 letters, in between 128 and 151 in ascii \n",
    "    # 128 is upper case alpha, and 151 is upper case omega\n",
    "    def __init__(self, shift):\n",
    "        \"\"\"Construct CeaserCipher using given integer shift for rotation\"\"\"\n",
    "        encoder = [None] * 24\n",
    "        decoder = [None] * 24\n",
    "        for k in range(24):\n",
    "            encoder[k] = chr((k+shift) % 24 + ord(\"Α\"))\n",
    "            decoder[k] = chr((k-shift) % 24 + ord(\"Α\"))\n",
    "        self._forward = \"\".join(encoder)\n",
    "        self._backward = \"\".join(decoder)\n",
    "\n",
    "    def _encrypt(self, message):\n",
    "        \"\"\"Return string encrypted by CaesarCipher\"\"\"\n",
    "        return self._transform(message, self._forward)\n",
    "\n",
    "    def _decrypt(self, secret):\n",
    "        \"\"\"Return string decrypted by CaesarCipher\"\"\"\n",
    "        return self._transform(secret, self._backward)\n",
    "\n",
    "    def _transform(self, original, code):\n",
    "        \"\"\"Utility to perform transformation based on given code string.\"\"\"\n",
    "        msg = list(original)\n",
    "        for k in range(len(msg)):\n",
    "            if msg[k].isupper():\n",
    "                j = ord(msg[k]) - ord(\"Α\")\n",
    "                msg[k] = code[j]\n",
    "        return \"\".join(msg)\n",
    "\n",
    "if __name__ == \"__main__\":\n",
    "    cipher = GreekCeaserCipher(shift=3)\n",
    "    message = \"Ο ΑΕΤΟΣ ΕΙΝΑΙ ΣΤΟ ΠΑΙΧΝΙΔΙ, ΣΥΝΑΝΤΗΘΕΙΤΕ ΣΤΟΝ ΤΖΟΕΣ\"\n",
    "    coded = cipher._encrypt(message)\n",
    "    print(f\"Secret is : {coded}\")\n",
    "    answer = cipher._decrypt(coded)\n",
    "    print(f\"Message is : {answer}\")"
   ]
  },
  {
   "cell_type": "code",
   "execution_count": null,
   "metadata": {},
   "outputs": [],
   "source": [
    "## A small extra:\n",
    "\n",
    "# Bridges and Cows 🐮\n",
    "\n",
    "# C-6.31 Suppose Bob has four cows that he wants to take across a bridge, but only\n",
    "# one yoke, which can hold up to two cows, side by side, tied to the yoke.\n",
    "# The yoke is too heavy for him to carry across the bridge, but he can tie\n",
    "# (and untie) cows to it in no time at all. Of his four cows, Mazie can cross\n",
    "# the bridge in 2 minutes, Daisy can cross it in 4 minutes, Crazy can cross\n",
    "# it in 10 minutes, and Lazy can cross it in 20 minutes. Of course, when\n",
    "# two cows are tied to the yoke, they must go at the speed of the slower cow.\n",
    "# Describe how Bob can get all his cows across the bridge in 34 minutes.\n",
    "\n",
    "# 4 cows. \n",
    "# mazie 2 mins - daisy 4 mins - crazy 10 mins - lazy 20 mins\n",
    "\n",
    "# he ties mazie and daisy together - 4\n",
    "# comes back with mazie - 2\n",
    "# he ties crazy and lazy together - 20\n",
    "# comes back with daisy - 4\n",
    "# he ties mazie and daisy together - 4\n",
    "\n",
    "# total time - 34 mins"
   ]
  },
  {
   "cell_type": "markdown",
   "metadata": {},
   "source": [
    "## Iterators and Generators\n",
    "\n",
    "### Iterables and Iterators\n",
    "\n",
    "Basic container types, such as **`list`, `tuple`, and `set`, qualify as iterable** types.\n",
    "\n",
    "```python\n",
    "for element in iterable:\n",
    "\tpass\n",
    "```\n",
    "\n",
    "- An iterator is an object that manages an iteration through a series of values. If variable, `i`, identifies an iterator object, then each call to the built-in function, `next(i)`, produces a subsequent element from the underlying series, with a `StopIteration` exception raised to indicate that there are no further elements.\n",
    "- An iterable is an object, obj, that produces an iterator via the syntax `iter(obj)`.\n",
    "\n",
    "By these definitions, an instance of a list is an iterable, but not itself an iterator."
   ]
  },
  {
   "cell_type": "markdown",
   "metadata": {},
   "source": [
    "## Additional Python Conveniences 🥰\n",
    "\n",
    "### Conditional Expressions - Tenary\n",
    "\n",
    "```python\n",
    "test if a else test_2 # tenary operator\n",
    "\n",
    "# In C++. \n",
    "\"\"\"\n",
    "condition ? expr1 : expr2\n",
    "\"\"\"\n",
    "```\n",
    "### Comprehensions 💯\n",
    "\n",
    "```python\n",
    "[ expression for value in iterable if condition ]\n",
    "\n",
    "# example\n",
    "factors = [k for k in range(1,n+1) if n % k == 0]\n",
    "\n",
    "[ k*k for k in range(1, n+1) ] # list comprehension\n",
    "{ k*k for k in range(1, n+1) } # set comprehension\n",
    "( k*k for k in range(1, n+1) ) # generator comprehension\n",
    "{ k : k*k for k in range(1, n+1) } # dictionary comprehension\n",
    "```"
   ]
  },
  {
   "cell_type": "markdown",
   "metadata": {},
   "source": [
    "\n",
    "### Packing and Unpacking Sequences\n",
    "\n",
    "```python\n",
    "data = 2, 4, 6, 8\n",
    "print(data) # (2, 4, 6, 8) \n",
    "print(type(data))# <class 'tuple'>\n",
    "```\n",
    "\n",
    "As a dual to the packing behavior, Python can automatically unpack a sequence, allowing one to assign a series of individual identifiers to the elements of sequence. As an example, we can write \n",
    "`a, b, c, d = range(7, 11)`\n",
    "\n",
    "which has the effect of assigning `a=7, b=8, c=9, and d=10`, as those are the four values in the sequence returned by the call to `range`. \n",
    "\n",
    "Classic:\n",
    "\n",
    "```python\n",
    "quotient, remainder = divmod(a, b)\n",
    "\n",
    "mapping = {\"a\": 2, \"b\": 3}\n",
    "#  for a dict\n",
    "for k, v in mapping.items():\n",
    "\tprint(k) # a  b\n",
    "\tprint(v) # 2  3\n",
    "\n",
    "# dict.items() returns a tuple. Classic\n",
    "for elem in mapping.items():\n",
    "\tprint(elem) # ('a', 2)\n",
    "\tprint(type(elem)) # <class 'tuple'>\n",
    "```"
   ]
  },
  {
   "cell_type": "markdown",
   "metadata": {},
   "source": [
    "\n",
    "### Simultaneous **Assignments**\n",
    "\n",
    "```python\n",
    "x, y, z = 6, 2, 5\n",
    "\n",
    "# This will swap values\n",
    "j, k = k, j\n",
    "\n",
    "# This is the classic way\n",
    "temp = j\n",
    "j = k\n",
    "k = temp\n",
    "```\n",
    "\n",
    "The unnamed tuple representing the packed values on the right-hand side implicitly serves as the temporary variable when performing such a swap. 😌"
   ]
  },
  {
   "cell_type": "code",
   "execution_count": null,
   "metadata": {},
   "outputs": [],
   "source": []
  },
  {
   "cell_type": "code",
   "execution_count": null,
   "metadata": {},
   "outputs": [],
   "source": []
  },
  {
   "cell_type": "markdown",
   "metadata": {},
   "source": [
    "## `itertools` ??\n",
    "\n",
    "They are really helpful for permutations and combinations:\n",
    "\n",
    "Permutations is just things changing their places.\n",
    "\n",
    "Combinations is a selection of things, based on how much we want them."
   ]
  },
  {
   "cell_type": "code",
   "execution_count": 4,
   "metadata": {},
   "outputs": [
    {
     "name": "stdout",
     "output_type": "stream",
     "text": [
      "Permutations are just switches in seats:\n",
      "Perms for [1, 2, 3]: [(1, 2, 3), (1, 3, 2), (2, 1, 3), (2, 3, 1), (3, 1, 2), (3, 2, 1)]\n"
     ]
    }
   ],
   "source": [
    "from itertools import permutations, combinations\n",
    "\n",
    "perms = permutations([1,2,3])\n",
    "print(\"Permutations are just switches in seats:\")\n",
    "print(f\"Perms for {[1,2,3]}:\",[elem for elem in perms])\n",
    "# Perms for [1, 2, 3]: [(1, 2, 3), (1, 3, 2), (2, 1, 3), (2, 3, 1), (3, 1, 2), (3, 2, 1)]"
   ]
  },
  {
   "cell_type": "code",
   "execution_count": 5,
   "metadata": {},
   "outputs": [
    {
     "name": "stdout",
     "output_type": "stream",
     "text": [
      "combinations are set of elements from a collection\n",
      "2's combs for [1, 2, 3]: [(1, 2), (1, 3), (2, 3)]\n"
     ]
    }
   ],
   "source": [
    "combs = combinations([1,2,3], 2)\n",
    "print(\"combinations are set of elements from a collection\")\n",
    "print(f\"2's combs for {[1,2,3]}:\",[elem for elem in combs])\n",
    "# 2's combs for [1, 2, 3]: [(1, 2), (1, 3), (2, 3)]"
   ]
  },
  {
   "cell_type": "code",
   "execution_count": 1,
   "metadata": {},
   "outputs": [
    {
     "name": "stdout",
     "output_type": "stream",
     "text": [
      "[[4], [4, 7], [4, 7, 10], [7], [7, 10], [10]]\n"
     ]
    }
   ],
   "source": [
    "# remember from the `vectors_arraylists.ipynb`\n",
    "# we learned how to make a sublists.\n",
    "\n",
    "# this was like partitions, it was continuous\n",
    "\n",
    "def all_sublists_consecutive(collection):\n",
    "    \"\"\"Return all sublists for a given list\n",
    "    Sublists are continuous\n",
    "    \"\"\"\n",
    "    subs = []\n",
    "    for i in range(len(collection)):\n",
    "        for j in range(i + 1, len(collection) + 1):\n",
    "            subs.append(collection[i:j])\n",
    "\n",
    "    return subs\n",
    "\n",
    "print(all_sublists_consecutive([4,7,10])) \n",
    "# [[4], [4, 7], [4, 7, 10], [7], [7, 10], [10]]"
   ]
  },
  {
   "cell_type": "code",
   "execution_count": 4,
   "metadata": {},
   "outputs": [
    {
     "name": "stdout",
     "output_type": "stream",
     "text": [
      "[[], [4], [7], [10], [4, 7], [4, 10], [7, 10], [4, 7, 10]]\n"
     ]
    }
   ],
   "source": [
    "# now we can use combinations for that!\n",
    "\n",
    "# NOT REALLY NO\n",
    "# but this is a cool example\n",
    "# not sublists but subsets.\n",
    "\n",
    "from itertools import combinations\n",
    "\n",
    "def find_subset_lists(sequence):\n",
    "    \"\"\"return all the sublists of a given list\"\"\"\n",
    "    if len(sequence) == 1:\n",
    "        return [[], [sequence[0]]]\n",
    "    subs = []\n",
    "    for i in range(len(sequence) + 1):\n",
    "        temp = [list(i) for i in combinations(sequence, i)]\n",
    "        subs.extend(temp)\n",
    "\n",
    "    return subs\n",
    "\n",
    "print(find_subset_lists([4,7,10]))"
   ]
  },
  {
   "cell_type": "code",
   "execution_count": null,
   "metadata": {},
   "outputs": [],
   "source": []
  },
  {
   "cell_type": "markdown",
   "metadata": {},
   "source": [
    "## `math` ? \n",
    "\n",
    "math has cool methods that you can use.\n",
    "\n",
    "For simple things really, because we have numpy too!"
   ]
  },
  {
   "cell_type": "code",
   "execution_count": 5,
   "metadata": {},
   "outputs": [
    {
     "name": "stdout",
     "output_type": "stream",
     "text": [
      "All bottles: ['000', '001', '010', '011', '100', '101', '110', '111']\n",
      "Poisoned bottle:  100\n"
     ]
    },
    {
     "data": {
      "text/plain": [
       "4"
      ]
     },
     "execution_count": 5,
     "metadata": {},
     "output_type": "execute_result"
    }
   ],
   "source": [
    "# evil king has n bottles of wine.\n",
    "# design a scheme to find the poison in log(n) time\n",
    "\n",
    "import random\n",
    "import math\n",
    "\n",
    "def evil_king(num_of_bottles):\n",
    "    number_of_testers = math.ceil(math.log2(num_of_bottles))\n",
    "\n",
    "    # binary representation of bottles\n",
    "    bottles = []\n",
    "\n",
    "    # each tester will test wine based on binary number\n",
    "    for i in range(num_of_bottles):\n",
    "\n",
    "        # convert the bottle number to binary\n",
    "        # cannot do this with f strings\n",
    "        binary_num = format(i, \"b\").zfill(number_of_testers)\n",
    "        bottles.append(binary_num)\n",
    "    poisioned_bottle = random.choice(bottles)\n",
    "    print(\"All bottles:\", bottles)\n",
    "    print(\"Poisoned bottle: \",poisioned_bottle)\n",
    "    \n",
    "    \n",
    "    # who is the man that has the number of poisoned bottle? \n",
    "    return int(poisioned_bottle, 2)\n",
    "\n",
    "evil_king(8)"
   ]
  },
  {
   "cell_type": "markdown",
   "metadata": {},
   "source": []
  }
 ],
 "metadata": {
  "kernelspec": {
   "display_name": "learn",
   "language": "python",
   "name": "python3"
  },
  "language_info": {
   "codemirror_mode": {
    "name": "ipython",
    "version": 3
   },
   "file_extension": ".py",
   "mimetype": "text/x-python",
   "name": "python",
   "nbconvert_exporter": "python",
   "pygments_lexer": "ipython3",
   "version": "3.12.0"
  }
 },
 "nbformat": 4,
 "nbformat_minor": 2
}
