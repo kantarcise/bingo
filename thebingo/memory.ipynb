{
 "cells": [
  {
   "cell_type": "markdown",
   "metadata": {},
   "source": [
    "# Memory Hierarchies and Caching\n",
    "\n",
    "With the increased use of computing in society, software applications must manage extremely large data sets. \n",
    "\n",
    "Such applications include the processing of online financial transactions, the organization and maintenance of databases, and analyses of customers’ purchasing histories and preferences. \n",
    "\n",
    "The amount of data can be so large that the overall performance of algorithms and data structures sometimes depends more on the time to access the data than on the speed of the CPU.\n",
    "\n",
    "## Memory Systems\n",
    "\n",
    "Memory is in a hierarchy.\n",
    "\n",
    "Closest to the CPU are the internal **registers** that the CPU itself uses. Access to such locations is very fast, but there are relatively few such locations.\n",
    "\n",
    "At the second level in the hierarchy are one or more memory **caches**. This memory is considerably larger than the register set of a CPU, but accessing it takes longer. \n",
    "\n",
    "At the third level in the hierarchy is the **internal memory**, which is also known as main memory or core memory. The internal memory is considerably larger than the cache memory, but also requires more time to access. \n",
    "\n",
    "Another level in the hierarchy is the **external memory**, which usually consists of disks, CD drives, DVD drives, and/or tapes. This memory is very large, but it is also very slow. \n",
    "\n",
    "Data stored through an **external network** can be viewed as yet another level in this hierarchy, with even greater storage capacity, but even slower access."
   ]
  },
  {
   "cell_type": "markdown",
   "metadata": {},
   "source": []
  },
  {
   "cell_type": "markdown",
   "metadata": {},
   "source": []
  }
 ],
 "metadata": {
  "language_info": {
   "name": "python"
  }
 },
 "nbformat": 4,
 "nbformat_minor": 2
}
