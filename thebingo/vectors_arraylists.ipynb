{
 "cells": [
  {
   "cell_type": "markdown",
   "metadata": {},
   "source": [
    "# Vectors / ArrayLists\n",
    "\n",
    "This is pretty much a Java thing.\n",
    "\n",
    "They both implement the List interface, both use dynamic arrays.\n",
    "\n",
    "For Python Equivalent, we will use `Lists`\n",
    "\n",
    "---\n",
    "\n",
    "This is the starting point in our journey. \n",
    "\n",
    "Buckle up! 🏂\n",
    "\n",
    "We will see about `list`, `tuple` and `array.array` from Python standart library.\n",
    "\n",
    "---\n",
    "\n",
    "Incredibly important:\n",
    "\n",
    "```markdown\n",
    "Parantheses - ()\n",
    "Braces - {}\n",
    "Brackets - []\n",
    "```"
   ]
  },
  {
   "cell_type": "markdown",
   "metadata": {},
   "source": [
    "## Python Lists 🤔\n",
    "\n",
    "Lists are a container data structure where we can store any element we like.\n",
    "\n",
    "Lists are mutable, do not be scared. That just means you can change it's value on the fly.\n",
    "\n",
    "We define lists with brackets `[]`\n",
    "\n",
    "Although a `list` has a particular length when constructed, the class allows us to add elements to the `list`, with no apparent limit on the overall capacity of the `list`. \n",
    "\n",
    "To provide this abstraction, Python relies on an algorithmic sleight of hand known as a **dynamic array.**"
   ]
  },
  {
   "cell_type": "code",
   "execution_count": 1,
   "metadata": {},
   "outputs": [
    {
     "name": "stdout",
     "output_type": "stream",
     "text": [
      "[1, 2, 3, 4]\n",
      "[1, 2, 3, 4, 5, 2]\n"
     ]
    }
   ],
   "source": [
    "my_list = [1,2,3,4]\n",
    "print(my_list)\n",
    "\n",
    "# you can add items to a list.\n",
    "my_list.append(5) # this is O(1)\n",
    "my_list.append(2) # this is O(1)\n",
    "\n",
    "print(my_list)"
   ]
  },
  {
   "cell_type": "code",
   "execution_count": 2,
   "metadata": {},
   "outputs": [
    {
     "name": "stdout",
     "output_type": "stream",
     "text": [
      "[]\n"
     ]
    }
   ],
   "source": [
    "# The `list()` constructor produces an **empty list** by default.\n",
    "print(list())"
   ]
  },
  {
   "cell_type": "code",
   "execution_count": 3,
   "metadata": {},
   "outputs": [
    {
     "name": "stdout",
     "output_type": "stream",
     "text": [
      "Length of list 6\n",
      "Count of 2's:  2\n",
      "index of first 2 : 1\n",
      "index of second 2 : 5\n"
     ]
    }
   ],
   "source": [
    "# you can check the length of a list\n",
    "print(\"Length of list\", len(my_list))\n",
    "\n",
    "# you can count how many values in a list\n",
    "print(\"Count of 2's: \", my_list.count(2))\n",
    "\n",
    "# you can check the index of a value\n",
    "print(\"index of first 2 :\", my_list.index(2))\n",
    "\n",
    "# you can check the second index - the parameter will give us the first index always\n",
    "print(\"index of second 2 :\", my_list.index(2, my_list.index(2) + 1))"
   ]
  },
  {
   "cell_type": "code",
   "execution_count": 4,
   "metadata": {},
   "outputs": [
    {
     "name": "stdout",
     "output_type": "stream",
     "text": [
      "My_list is currently [1, 2, 3, 4, 5, 2]\n",
      "5 is in my list ? True\n",
      "is my_list bigger than [1,2,3] ?  True\n",
      "sliced my_list [2, 3]\n",
      "[1, 2, 3, 99, 4, 5, 2]\n"
     ]
    }
   ],
   "source": [
    "print(f\"My_list is currently {my_list}\")\n",
    "\n",
    "# you can check containtment\n",
    "# this is linear time\n",
    "print(\"5 is in my list ?\", 5 in my_list) # expecting True\n",
    "\n",
    "# you can compare lists\n",
    "# lists will be compared lexicographically\n",
    "print(\"is my_list bigger than [1,2,3] ? \", my_list > [1,2,3])\n",
    "\n",
    "# you can slice em\n",
    "# slicing makes a new list\n",
    "print(\"sliced my_list\", my_list[1:3])\n",
    "\n",
    "# SCARY but you can insert values\n",
    "# This is O(n) time\n",
    "my_list.insert(3, 99)\n",
    "print(my_list)"
   ]
  },
  {
   "cell_type": "code",
   "execution_count": 6,
   "metadata": {},
   "outputs": [
    {
     "name": "stdout",
     "output_type": "stream",
     "text": [
      "sorted my list: [5, 4, 3, 2, 2, 1]\n",
      "pop one element from my_list [5, 4, 3, 2, 2]\n",
      "pop from arbitrary position: [5, 4, 2, 2]\n"
     ]
    }
   ],
   "source": [
    "# refresh my_list\n",
    "my_list = [1, 2, 3, 4, 5, 2]\n",
    "\n",
    "# sort them based on a key\n",
    "# chr(number : int) -> str\n",
    "my_list.sort(key = chr, reverse= True) # n log n\n",
    "print(f\"sorted my list: {my_list}\")\n",
    "\n",
    "# pop the last element (just like stacks shhhhh be quiet)\n",
    "# we are not there yet\n",
    "# o(1) - amortized\n",
    "my_list.pop() \n",
    "print(f\"pop one element from my_list {my_list}\")\n",
    "\n",
    "# o(n) because of the dynamic array shifting\n",
    "my_list.pop(2)\n",
    "print(f\"pop from arbitrary position: {my_list}\")"
   ]
  },
  {
   "cell_type": "code",
   "execution_count": 7,
   "metadata": {},
   "outputs": [
    {
     "name": "stdout",
     "output_type": "stream",
     "text": [
      "[5, 4, 2, 2]\n",
      "[5, 4, 2, 2, 77, 76, 75]\n"
     ]
    }
   ],
   "source": [
    "# make sure 99 is in the list:\n",
    "if 99 not in my_list:\n",
    "    my_list.append(99)\n",
    "\n",
    "# you can remove a single element\n",
    "# o(n) worst\n",
    "my_list.remove(99)\n",
    "print(my_list)\n",
    "\n",
    "# you can extend a list with another one\n",
    "# this is just like repeated appends\n",
    "my_list.extend([77,76,75])\n",
    "print(my_list)"
   ]
  },
  {
   "cell_type": "code",
   "execution_count": 8,
   "metadata": {},
   "outputs": [
    {
     "name": "stdout",
     "output_type": "stream",
     "text": [
      "cleared the list: []\n",
      "List changed! : [0, 0, 3]\n",
      "[0, 5, 3]\n"
     ]
    }
   ],
   "source": [
    "# clear em\n",
    "my_list.clear()\n",
    "print(\"cleared the list:\", my_list)\n",
    "\n",
    "# a new list\n",
    "# this initialization will come in handy later\n",
    "my_list = [0] * 3\n",
    "\n",
    "# lists are mutable\n",
    "# we can change it's values\n",
    "my_list[2] = 3\n",
    "print(f\"List changed! : {my_list}\")\n",
    "\n",
    "# lists are mutable, meaning you can \n",
    "# use __setitem__ on them\n",
    "my_list.__setitem__(1, 5)\n",
    "print(my_list)"
   ]
  },
  {
   "cell_type": "code",
   "execution_count": 9,
   "metadata": {},
   "outputs": [
    {
     "name": "stdout",
     "output_type": "stream",
     "text": [
      "[('black', 'S'), ('black', 'M'), ('black', 'L'), ('white', 'S'), ('white', 'M'), ('white', 'L')]\n"
     ]
    }
   ],
   "source": [
    "# Comprehensions are so FUN 🥳\n",
    "\n",
    "# basically a better way of constructing lists\n",
    "\n",
    "colors = ['black', 'white']\n",
    "sizes = ['S', 'M', 'L']\n",
    "\n",
    "# arrange by color then size\n",
    "# the value inside will move slower\n",
    "\n",
    "# meaning, we will get all sizes of a color first\n",
    "# before we get to the next color\n",
    "\n",
    "# this is just like \n",
    "# starting from outer loop\n",
    "# to inner loop\n",
    "tshirts = [(color, size) for color in colors for size in sizes]\n",
    "print(tshirts)\n",
    "\n",
    "# [('black', 'S'), ('black', 'M'), ('black', 'L'),\n",
    "# ('white', 'S'), ('white', 'M'), ('white', 'L')]"
   ]
  },
  {
   "cell_type": "code",
   "execution_count": 48,
   "metadata": {},
   "outputs": [
    {
     "name": "stdout",
     "output_type": "stream",
     "text": [
      "[162, 163, 165, 8364, 164]\n"
     ]
    }
   ],
   "source": [
    "# Comprehensions with Functions\n",
    "\n",
    "# ord returns the unicode points \n",
    "# for a single character string\n",
    "# ord(char : str) -> int\n",
    "# ord(\"a\") -> 97\n",
    "\n",
    "# here are some unusual symbols\n",
    "symbols = '$¢£¥€¤'\n",
    "beyond_ascii = [ord(s) for s in symbols if ord(s) > 127]\n",
    "print(beyond_ascii)"
   ]
  },
  {
   "cell_type": "code",
   "execution_count": 49,
   "metadata": {},
   "outputs": [
    {
     "name": "stdout",
     "output_type": "stream",
     "text": [
      "[162, 163, 165, 8364, 164]\n"
     ]
    }
   ],
   "source": [
    "# Is there any other way to do this? \n",
    "\n",
    "# sure!\n",
    "\n",
    "# we will learn about map and filter later\n",
    "# but they have basically the same concept:\n",
    "\n",
    "# map(hammer, sword)\n",
    "# filter(hammer, sword)\n",
    "\n",
    "# hammer is your function that you want to apply\n",
    "# sword is your iterable\n",
    "beyond_ascii_two = list(filter(lambda c: c > 127, map(ord, symbols)))\n",
    "print(beyond_ascii_two)"
   ]
  },
  {
   "cell_type": "code",
   "execution_count": 50,
   "metadata": {},
   "outputs": [
    {
     "name": "stdout",
     "output_type": "stream",
     "text": [
      "0\n",
      "1\n",
      "[2, 3, 4]\n",
      "<class 'list'>\n"
     ]
    }
   ],
   "source": [
    "# lists and * usage 🤔\n",
    "\n",
    "# you can use * to grab excess items\n",
    "a, b, *c = range(5)\n",
    "print(a) # 0\n",
    "print(b) # 1\n",
    "print(c) # [2, 3, 4]\n",
    "print(type(c))"
   ]
  },
  {
   "cell_type": "markdown",
   "metadata": {},
   "source": [
    "### Sorting and Reversing stuff ? 🎩\n",
    "\n",
    "Because when things are sorted, they are possibly really faster to work with afterwards."
   ]
  },
  {
   "cell_type": "code",
   "execution_count": 14,
   "metadata": {},
   "outputs": [
    {
     "name": "stdout",
     "output_type": "stream",
     "text": [
      "list, pre sort : [123, 22, 423, 51, 1, 93, 43]\n",
      "None\n",
      "[1, 22, 43, 51, 93, 123, 423]\n",
      "None\n",
      "[93, 123, 51, 43, 22, 1, 423]\n"
     ]
    }
   ],
   "source": [
    "# Here is sort stuff\n",
    "\n",
    "# lists has .sort() in them to be used - in place!\n",
    "# without returning anything!\n",
    "to_be_sorted = [123, 22, 423, 51, 1, 93, 43]\n",
    "\n",
    "print(f\"list, pre sort : {to_be_sorted}\")\n",
    "\n",
    "# this sorts in place, does not return anything.\n",
    "print(to_be_sorted.sort()) # None\n",
    "print(to_be_sorted) \n",
    "# [1, 22, 43, 51, 93, 123, 423]\n",
    "\n",
    "# you can sort based on other keys.\n",
    "# how close are we to 100 ?\n",
    "print(to_be_sorted.sort(key = lambda x: abs(x - 100)))\n",
    "print(to_be_sorted) #"
   ]
  },
  {
   "cell_type": "code",
   "execution_count": 72,
   "metadata": {},
   "outputs": [
    {
     "name": "stdout",
     "output_type": "stream",
     "text": [
      "['apple', 'banana', 'grap', 'raspberry']\n",
      "['raspberry', 'grap', 'banana', 'apple']\n",
      "\n",
      "can we sort based of lenght? YEAH BABY!\n",
      "\n",
      "Sorted based on word lenght ['grap', 'apple', 'banana', 'raspberry']\n",
      "Sorted based on word lenght, in reverse ['raspberry', 'banana', 'apple', 'grap']\n",
      "\n",
      "['grap', 'raspberry', 'apple', 'banana']\n"
     ]
    }
   ],
   "source": [
    "fruits = ['grap', 'raspberry', 'apple', 'banana']\n",
    "\n",
    "# sorted by the first charactor ascii value of a word\n",
    "\n",
    "print(sorted(fruits))\n",
    "# output => ['apple', 'banana', 'grape', 'raspberry']\n",
    "\n",
    "print(sorted(fruits, reverse = True))\n",
    "# output => ['raspberry', 'grape', 'banana', 'apple']\n",
    "\n",
    "print(\"\\ncan we sort based of lenght? YEAH BABY!\\n\")\n",
    "\n",
    "# sorted by the length of each world\n",
    "print(\"Sorted based on word lenght\",sorted(fruits, key = len))\n",
    "# output => ['grape', 'apple', 'banana', 'raspberry']\n",
    "\n",
    "# and reverse\n",
    "print(\"Sorted based on word lenght, in reverse\", sorted(fruits, key = len, reverse = True)) \n",
    "# out => ['raspberry', 'banana', 'grape', 'apple']\n",
    "\n",
    "# finally, the order in fruits is not changed\n",
    "# because all we did was making new objects\n",
    "print()\n",
    "print(fruits) # output => ['grap', 'raspberry', 'apple', 'banana'] "
   ]
  },
  {
   "cell_type": "code",
   "execution_count": 74,
   "metadata": {},
   "outputs": [
    {
     "name": "stdout",
     "output_type": "stream",
     "text": [
      "['apple', 'banana', 'grap', 'raspberry']\n",
      "\n",
      "['raspberry', 'banana', 'apple', 'grap']\n"
     ]
    }
   ],
   "source": [
    "# Examples of `list.sort()`\n",
    "fruits = ['grap', 'raspberry', 'apple', 'banana']\n",
    "\n",
    "# examples of list.sort\n",
    "fruits.sort() # output None\n",
    "\n",
    "# order in fruits is changed!\n",
    "print(fruits)\n",
    "# output => ['apple', 'banana', 'grape', 'raspberry']\n",
    "\n",
    "print()\n",
    "\n",
    "# key is lenght\n",
    "fruits.sort(key=len, reverse=True)\n",
    "# output None\n",
    "\n",
    "# order in fruits is changed AGAIN!\n",
    "print(fruits)\n",
    "# output => ['raspberry', 'banana', 'grape', 'apple']"
   ]
  },
  {
   "cell_type": "code",
   "execution_count": 52,
   "metadata": {},
   "outputs": [
    {
     "name": "stdout",
     "output_type": "stream",
     "text": [
      "<class 'list'>\n",
      "125658540450816\n",
      "125658540380288\n"
     ]
    }
   ],
   "source": [
    "# Sorted method\n",
    "# you can make a new list object with this method!\n",
    "\n",
    "t_b_s = [1,4,5,2,77,32,41]\n",
    "\n",
    "# this is a NEW OBJECT ! \n",
    "sorted_t_b_s = sorted(t_b_s)\n",
    "print(type(sorted(t_b_s))) # <class 'list'>\n",
    "\n",
    "print(id(t_b_s)) # 140416472649344\n",
    "print(id(sorted_t_b_s)) # 140416472648896"
   ]
  },
  {
   "cell_type": "code",
   "execution_count": 53,
   "metadata": {},
   "outputs": [
    {
     "name": "stdout",
     "output_type": "stream",
     "text": [
      "[3, 2, 1]\n"
     ]
    }
   ],
   "source": [
    "# there is also a reverse method - in place\n",
    "# reverses lists in place\n",
    "\n",
    "f = [1,2,3]\n",
    "f.reverse()\n",
    "print(f) # [3, 2, 1]"
   ]
  },
  {
   "cell_type": "code",
   "execution_count": 54,
   "metadata": {},
   "outputs": [
    {
     "name": "stdout",
     "output_type": "stream",
     "text": [
      "<list_reverseiterator object at 0x724928e2dc30>\n",
      "<class 'list_reverseiterator'>\n",
      "[6, 5, 4, 3, 2, 1]\n"
     ]
    }
   ],
   "source": [
    "# there is also a reversed method, \n",
    "# but that returns a iterator\n",
    "j = [1,2,3,4,5,6]\n",
    "rev_j = reversed(j)\n",
    "\n",
    "# this is the iterator\n",
    "print(rev_j) \n",
    "# you can see the type\n",
    "print(type(rev_j)) \n",
    "\n",
    "# we have to call `next` on it to make a list\n",
    "# luckily, we have comprehensions just to do that\n",
    "\n",
    "# this will be the reversed list\n",
    "print([elem for elem in rev_j])\n",
    "\n",
    "# but know that, we could have used a simple loop too"
   ]
  },
  {
   "cell_type": "code",
   "execution_count": 55,
   "metadata": {},
   "outputs": [
    {
     "name": "stdout",
     "output_type": "stream",
     "text": [
      "e d c b a "
     ]
    }
   ],
   "source": [
    "# you can also reverse a list like this:\n",
    "# which you will use a lot\n",
    "\n",
    "a = [\"a\", \"b\", \"c\", \"d\" , \"e\"]\n",
    "\n",
    "for i in range(len(a) - 1, -1 , -1):\n",
    "    print(a[i], end = \" \") # e d c b a "
   ]
  },
  {
   "cell_type": "code",
   "execution_count": 15,
   "metadata": {},
   "outputs": [
    {
     "name": "stdout",
     "output_type": "stream",
     "text": [
      "A slice on s:  [1, 2, 3, 4]\n",
      "Reversed s:  [7, 6, 5, 4, 3, 2, 1]\n"
     ]
    }
   ],
   "source": [
    "# more on slicing \n",
    "s = [1, 2, 3, 4, 5, 6, 7]\n",
    "print(\"A slice on s: \", s[0:4:1]) # [1, 2, 3, 4]\n",
    "\n",
    "print(\"Reversed s: \", s[::-1]) # reverses the list\n",
    "\n",
    "# how come this reverses a string ?\n",
    "\n",
    "# because it is just simply doing:\n",
    "# s[start:stop:step] - step is -1\n",
    "# so go backwards"
   ]
  },
  {
   "cell_type": "code",
   "execution_count": 16,
   "metadata": {},
   "outputs": [
    {
     "name": "stdout",
     "output_type": "stream",
     "text": [
      "[2, 3, 4, 5, 6, 7]\n"
     ]
    }
   ],
   "source": [
    "# how do we delete stuff ?\n",
    "del s[0] # 1 at 'index 0' is a goner.\n",
    "# it will be gone when next gc.collect() triggers\n",
    "\n",
    "print(s)"
   ]
  },
  {
   "cell_type": "markdown",
   "metadata": {},
   "source": [
    "### Here are all you need to know about slicing:\n",
    "\n",
    "In Python, slicing a list or other mutable sequence makes a new object that contains a copy of the specified elements. \n",
    "\n",
    "For example, given a list a, slicing it like b = a[2:5] creates a new list b that contains a copy of the elements at indices 2, 3, and 4 of list a.\n",
    "\n",
    "However, it's important to note that the new list created by slicing is a ```shallow copy.``` \n",
    "\n",
    "This means that while the elements themselves are new objects, they are references to the same objects as the original list if the elements are mutable. \n",
    "\n",
    "Changing a mutable element in the sliced list will also change the corresponding element in the original list, as they are pointing to the same object.\n",
    "\n",
    "Here's a simple example to illustrate this behavior:"
   ]
  },
  {
   "cell_type": "code",
   "execution_count": 58,
   "metadata": {},
   "outputs": [
    {
     "name": "stdout",
     "output_type": "stream",
     "text": [
      "Original list: [1, 2, [3, 4], 5]\n",
      "Sliced list: [10, [3, 4]]\n",
      "Original list: [1, 2, [30, 4], 5]\n",
      "Sliced list: [10, [30, 4]]\n"
     ]
    }
   ],
   "source": [
    "a = [1, 2, [3, 4], 5]\n",
    "b = a[1:3]\n",
    "\n",
    "# Modify an element in the sliced list\n",
    "b[0] = 10\n",
    "\n",
    "print(\"Original list:\", a) \n",
    "# Output: [1, 2, [3, 4], 5]\n",
    "\n",
    "print(\"Sliced list:\", b)\n",
    "# Output: [10, [3, 4]]\n",
    "\n",
    "# Modify a nested element in the sliced list\n",
    "b[1][0] = 30\n",
    "\n",
    "print(\"Original list:\", a)\n",
    "# Output: [1, 2, [30, 4], 5]\n",
    "\n",
    "print(\"Sliced list:\", b)\n",
    "# Output: [10, [30, 4]]"
   ]
  },
  {
   "cell_type": "markdown",
   "metadata": {},
   "source": [
    "In this example, modifying an element in the sliced list b does not affect the corresponding element in the original list a. \n",
    "\n",
    "However, modifying a nested element (list) in the sliced list b also affects the original list a, as both are references to the same nested list [3, 4]."
   ]
  },
  {
   "cell_type": "markdown",
   "metadata": {},
   "source": [
    "### Constructing a Multidimensional List 🤔\n",
    "\n",
    "The correct way: **LIST COMPREHENSIONS** FOR THE RESCUE.\n",
    "\n",
    "```python\n",
    "data = [ [0] * c for i in range(r)]\n",
    "```\n",
    "\n",
    "By using list comprehension, the expression `[0] * c` is reevaluated for each pass of the embedded for loop. \n",
    "\n",
    "Therefore, we get `r` distinct secondary lists, as desired. \n",
    "\n",
    "We note that the variable `i` in that command is irrelevant; we simply need a for loop that iterates `r` times."
   ]
  },
  {
   "cell_type": "code",
   "execution_count": 61,
   "metadata": {},
   "outputs": [
    {
     "name": "stdout",
     "output_type": "stream",
     "text": [
      "[[0, 0, 0], [0, 0, 0], [0, 0, 0], [0, 0, 0], [0, 0, 0]]\n"
     ]
    }
   ],
   "source": [
    "# These multidimentional lists will come in handy later.\n",
    "\n",
    "# hint, why is it called dp ?\n",
    "n, m = 3, 5\n",
    "dp = [[0] * n for _ in range(m)]\n",
    "\n",
    "print(dp)"
   ]
  },
  {
   "cell_type": "markdown",
   "metadata": {},
   "source": [
    "## Example Questions Here:"
   ]
  },
  {
   "cell_type": "code",
   "execution_count": 17,
   "metadata": {},
   "outputs": [
    {
     "data": {
      "text/plain": [
       "True"
      ]
     },
     "execution_count": 17,
     "metadata": {},
     "output_type": "execute_result"
    }
   ],
   "source": [
    "def containsDuplicate(nums: list[int]) -> bool:\n",
    "    my_set = set()\n",
    "    for elem in nums:\n",
    "        if not elem in my_set:\n",
    "            my_set.add(elem)\n",
    "        else:\n",
    "            return True\n",
    "    return False\n",
    "\n",
    "containsDuplicate([1,2,3,1])"
   ]
  },
  {
   "cell_type": "code",
   "execution_count": 18,
   "metadata": {},
   "outputs": [
    {
     "data": {
      "text/plain": [
       "[1.0, 1.5, 2.0, 2.5, 3.0]"
      ]
     },
     "execution_count": 18,
     "metadata": {},
     "output_type": "execute_result"
    }
   ],
   "source": [
    "def prefix_average_three(collection: list) -> list:\n",
    "    \"\"\"A pretty smart way to calculate prefix average.\"\"\"\n",
    "    a = [0] * len(collection)\n",
    "\n",
    "    total = 0\n",
    "    \n",
    "    for i in range(len(collection)):\n",
    "        # add to the total\n",
    "        total += collection[i]\n",
    "        # current average\n",
    "        a[i] = total / (i + 1)\n",
    "    \n",
    "    return a\n",
    "\n",
    "prefix_average_three([1,2,3,4,5])"
   ]
  },
  {
   "cell_type": "code",
   "execution_count": 19,
   "metadata": {},
   "outputs": [
    {
     "name": "stdout",
     "output_type": "stream",
     "text": [
      "Is all the elements of [3, 4, 5, 6, 7, 7] bigger than 1?: True\n",
      "All bigger than 1 ?  True\n"
     ]
    }
   ],
   "source": [
    "# How to check if elements in a list are over a number?\n",
    "bigger_than_1_list = [3,4,5,6,7,7]\n",
    "\n",
    "result = True\n",
    "\n",
    "# most manual way\n",
    "for elem in bigger_than_1_list:\n",
    "    if not elem > 1:\n",
    "        result = False\n",
    "\n",
    "print(f\"Is all the elements of {bigger_than_1_list} bigger than 1?: {result}\") # True\n",
    "\n",
    "print(\"All bigger than 1 ? \",(all(x > 1 for x in bigger_than_1_list))) # True"
   ]
  },
  {
   "cell_type": "code",
   "execution_count": 20,
   "metadata": {},
   "outputs": [
    {
     "data": {
      "text/plain": [
       "[1, 3, 5, 15]"
      ]
     },
     "execution_count": 20,
     "metadata": {},
     "output_type": "execute_result"
    }
   ],
   "source": [
    "def factors(n: int) -> list:\n",
    "\t\"\"\"Give all factors for a positive number n\"\"\"\n",
    "\tresult = []\n",
    "\tfor i in range(1, n + 1):\n",
    "\t\tif n % i == 0:\n",
    "\t\t\tresult.append(i)\n",
    "\treturn result\n",
    "\n",
    "factors(15)"
   ]
  },
  {
   "cell_type": "code",
   "execution_count": 21,
   "metadata": {},
   "outputs": [
    {
     "data": {
      "text/plain": [
       "[1, 2, 6, 2, 6, 3]"
      ]
     },
     "execution_count": 21,
     "metadata": {},
     "output_type": "execute_result"
    }
   ],
   "source": [
    "def slice_product(collection):\n",
    "    \"\"\"This method returns the product of \n",
    "    subarrays in the given collection\"\"\"\n",
    "    # [1,2,3]\n",
    "    result = []\n",
    "    for i in range(len(collection)):\n",
    "        for j in range(i+1, len(collection) + 1):\n",
    "            temp = 1\n",
    "            for elem in collection[i:j]:\n",
    "                temp *= elem\n",
    "            result.append(temp)\n",
    "    return result\n",
    "\n",
    "slice_product([1,2,3]) # [1, 2, 6, 2, 6, 3]"
   ]
  },
  {
   "cell_type": "code",
   "execution_count": 24,
   "metadata": {},
   "outputs": [
    {
     "name": "stdout",
     "output_type": "stream",
     "text": [
      "[[4], [4, 7], [4, 7, 10], [7], [7, 10], [10]]\n",
      "[[1], [1, 2], [1, 2, 3], [1, 2, 3, 4], [2], [2, 3], [2, 3, 4], [3], [3, 4], [4]]\n"
     ]
    }
   ],
   "source": [
    "def all_sublists_consecutive(collection):\n",
    "    \"\"\"Return all sublists for a given list\n",
    "    Sublists are continuous\n",
    "    \"\"\"\n",
    "    subs = []\n",
    "    for i in range(len(collection)):\n",
    "        for j in range(i + 1, len(collection) + 1):\n",
    "            subs.append(collection[i:j])\n",
    "\n",
    "    return subs\n",
    "\n",
    "print(all_sublists_consecutive([4,7,10])) \n",
    "# [[4], [4, 7], [4, 7, 10], [7], [7, 10], [10]]\n",
    "\n",
    "print(all_sublists_consecutive([1,2,3,4,])) \n",
    "# [[1], [1, 2], [1, 2, 3], [1, 2, 3, 4], [2], \n",
    "#   [2, 3], [2, 3, 4], [3], [3, 4], [4]]"
   ]
  },
  {
   "cell_type": "code",
   "execution_count": 25,
   "metadata": {},
   "outputs": [
    {
     "data": {
      "text/plain": [
       "6"
      ]
     },
     "execution_count": 25,
     "metadata": {},
     "output_type": "execute_result"
    }
   ],
   "source": [
    "def find_missing(seq)-> int:\n",
    "    \"\"\"Starting from 0\n",
    "    Find the missing integer in a given sequence\"\"\"\n",
    "    n = len(seq)\n",
    "    # a classic\n",
    "    expected_sum = (n * (n+1)) // 2\n",
    "    actual_sum = 0\n",
    "    \n",
    "    # iterate over it.\n",
    "    for elem in seq:\n",
    "        actual_sum += elem\n",
    "    \n",
    "    return expected_sum - actual_sum\n",
    "\n",
    "find_missing([0,1,2,3,4,5,7,8]) # 6"
   ]
  },
  {
   "cell_type": "code",
   "execution_count": 26,
   "metadata": {},
   "outputs": [
    {
     "name": "stdout",
     "output_type": "stream",
     "text": [
      "With built-in method [1, 4, 0, 2, 9, 6, 8, 3, 5, 7]\n",
      "My shuffle: [4, 9, 3, 6, 7, 1, 5, 2, 0]\n"
     ]
    }
   ],
   "source": [
    "from random import randrange, shuffle\n",
    "\n",
    "base_list = list(range(10)) \n",
    "\n",
    "shuffle(base_list)\n",
    "print(\"With built-in method\", base_list)\n",
    "\n",
    "# now my method \n",
    "base_list = list(range(10)) \n",
    "\n",
    "def my_shuffle(seq: list):\n",
    "\t\"\"\"Shuffle a given seq\"\"\"\n",
    "\tresult = [] \n",
    "\tfor _ in range(len(seq) - 1):\n",
    "\t\tresult.append(seq.pop(randrange(0, len(seq))))\n",
    "\treturn result\n",
    "\n",
    "print(\"My shuffle:\", my_shuffle(base_list))"
   ]
  },
  {
   "cell_type": "code",
   "execution_count": 28,
   "metadata": {},
   "outputs": [
    {
     "data": {
      "text/plain": [
       "[2, 3, 3]"
      ]
     },
     "execution_count": 28,
     "metadata": {},
     "output_type": "execute_result"
    }
   ],
   "source": [
    "# Remove all values equal to something from a list\n",
    "def remove_all(target, seq):\n",
    "\t# actually, make a new list \n",
    "\treturn [elem for elem in seq if elem != target]\n",
    "\n",
    "remove_all(1, [1,2,3,1,3])"
   ]
  },
  {
   "cell_type": "code",
   "execution_count": 100,
   "metadata": {},
   "outputs": [
    {
     "data": {
      "text/plain": [
       "[1, 4, 2, 5, 3, 6]"
      ]
     },
     "execution_count": 100,
     "metadata": {},
     "output_type": "execute_result"
    }
   ],
   "source": [
    "# Describe a method for performing a card shuffle of \n",
    "# a list of 2*n elements, by converting it into two lists. \n",
    "\n",
    "# A card shuffle is a permutation where a list L is cut into two lists,\n",
    "#  L1 and L2, where L1 is the first half of L and L2 is the\n",
    "# second half of L, and then these two lists are merged into one by taking\n",
    "# the first element in L1, then the first element in L2, followed by the second\n",
    "# element in L1, the second element in L2, and so on\n",
    "\n",
    "# This is madness at this point - But we do what's required.\n",
    "\n",
    "# l split into two lists l1, l2 \n",
    "\n",
    "def card_shuffle(seq):\n",
    "\n",
    "    n = len(seq)\n",
    "\n",
    "    middle = n // 2\n",
    "\t# halve the deck\n",
    "    l1 = seq[:middle]\n",
    "    l2 = seq[middle:]\n",
    "\n",
    "\t# for condition that there is imbalance\n",
    "    joker = \"NOTACARD\"\n",
    "    \n",
    "    if len(l1) < len(l2):\n",
    "        l1.append(joker)\n",
    "    elif len(l1) > len(l2):\n",
    "        l2.append(joker)\n",
    "    else:\n",
    "        pass\n",
    "\n",
    "    result = []\n",
    "    for i in range(len(l1)):\n",
    "        #append 1 by 1 \n",
    "        result.append(l1[i])\n",
    "        result.append(l2[i])\n",
    "    try:\n",
    "\t    # if we used joker\n",
    "        result.remove(joker)\n",
    "    except:\n",
    "        pass\n",
    "\n",
    "    return result\n",
    "\n",
    "card_shuffle([1,2,3,4,5,6])"
   ]
  },
  {
   "cell_type": "code",
   "execution_count": 29,
   "metadata": {},
   "outputs": [
    {
     "name": "stdout",
     "output_type": "stream",
     "text": [
      "[18, 6, 6, 6, 1, -1]\n"
     ]
    }
   ],
   "source": [
    "\"\"\"\n",
    "Given an array arr, replace every element in that array \n",
    "with the greatest element among the elements to \n",
    "its right, and replace the last element with -1.\n",
    "\n",
    "After doing so, return the array.\n",
    "\n",
    "Example 1:\n",
    "\n",
    "    Input: arr = [17,18,5,4,6,1]\n",
    "    Output: [18,6,6,6,1,-1]\n",
    "\n",
    "Example 2:\n",
    "\n",
    "    Input: arr = [400]\n",
    "    Output: [-1]\n",
    "\n",
    "Constraints:\n",
    "\n",
    "    1 <= arr.length <= 10^4\n",
    "    1 <= arr[i] <= 10^5\n",
    "\n",
    "Takeaway:\n",
    "\n",
    "    IF you want to switch values\n",
    "    USE TUPLE UNPACKING\n",
    "\n",
    "\"\"\"\n",
    "\n",
    "class Solution:\n",
    "    def replaceElements_(self, arr: list[int]) -> list[int]:\n",
    "        # works, but time limit exceeded\n",
    "        \n",
    "        # for every index, do the operation\n",
    "        for i in range(len(arr)-1):\n",
    "            arr[i] = max(arr[i+1:])\n",
    "        arr[-1] = -1\n",
    "        \n",
    "        return arr\n",
    "    \n",
    "    def replaceElements__(self, arr: list[int]) -> list[int]:\n",
    "        # this is not working correctly\n",
    "        # just off by one\n",
    "\n",
    "        # we do not have to calculate max each time\n",
    "        \n",
    "        # arr = [17,18,5,4,6,1]\n",
    "        # resulting:\n",
    "        # arr = [18,6,6,6,1,-1]\n",
    "        # compare elements one by one\n",
    "        \n",
    "        temp = arr[-1]\n",
    "        for i in range(len(arr)-2, -1, -1):\n",
    "            print(temp, \"temp now\")\n",
    "            arr[i] = max(temp, arr[i])\n",
    "            print(f\"current max {arr[i]}\")\n",
    "            temp = arr[i]\n",
    "            print(f\"Temp after {temp}\")\n",
    "        \n",
    "        arr[-1] = 1\n",
    "        \n",
    "        return arr\n",
    "    \n",
    "    def replaceElements(self, arr: list[int]) -> list[int]:\n",
    "        \n",
    "        # IF you want to switch values\n",
    "        # USE TUPLE UNPACKING\n",
    "    \n",
    "        # we do not have to calculate max each time\n",
    "    \n",
    "        # arr = [17,18,5,4,6,1]\n",
    "        # resulting:\n",
    "        # arr = [18,6,6,6,1,-1]\n",
    "        # compare elements one by one\n",
    "    \n",
    "        temp = arr[-1]\n",
    "        for i in range(len(arr)-2, -1, -1):\n",
    "            arr[i], temp = temp, max(temp, arr[i])\n",
    "        \n",
    "        arr[-1] = -1\n",
    "        \n",
    "        return arr\n",
    "    \n",
    "sol = Solution()\n",
    "print(sol.replaceElements([17,18,5,4,6,1]))"
   ]
  },
  {
   "cell_type": "code",
   "execution_count": 30,
   "metadata": {},
   "outputs": [
    {
     "name": "stdout",
     "output_type": "stream",
     "text": [
      "True\n",
      "False\n"
     ]
    }
   ],
   "source": [
    "\"\"\"\n",
    "Given an array arr of integers, check if there \n",
    "exist two indices i and j such that :\n",
    "\n",
    "i != j\n",
    "0 <= i, j < arr.length\n",
    "arr[i] == 2 * arr[j]\n",
    "\n",
    "Example 1:\n",
    "\n",
    "Input: arr = [10,2,5,3]\n",
    "Output: true\n",
    "Explanation: For i = 0 and j = 2, arr[i] == 10 == 2 * 5 == 2 * arr[j]\n",
    "\n",
    "Example 2:\n",
    "\n",
    "Input: arr = [3,1,7,11]\n",
    "Output: false\n",
    "Explanation: There is no i and j that satisfy the conditions.\n",
    " \n",
    "Constraints:\n",
    "\n",
    "    2 <= arr.length <= 500\n",
    "    -10^3 <= arr[i] <= 10^3\n",
    "\"\"\"\n",
    "\n",
    "class Solution:\n",
    "    def checkIfExist_(self, arr: list[int]) -> bool:\n",
    "        # a brute force would be linear search\n",
    "        n = len(arr)\n",
    "        for i in range(n) :\n",
    "            for j in range(i) :\n",
    "                # up until i, check every position\n",
    "                if (arr[i] == 2 * arr[j]) or (arr[j] == 2 * arr[i]) :\n",
    "                    return True\n",
    "        return False \n",
    "    \n",
    "    def checkIfExist(self, arr: list[int]) -> bool:\n",
    "        # better solution would be using a set\n",
    "        seen = set()\n",
    "        for i in range(len(arr)):\n",
    "            if arr[i] * 2 in seen:\n",
    "                return True\n",
    "            elif arr[i] % 2 == 0 and arr[i] / 2 in seen:\n",
    "                return True\n",
    "            else:\n",
    "                seen.add(arr[i])\n",
    "        return False\n",
    "            \n",
    "sol = Solution()\n",
    "print(sol.checkIfExist(arr = [10,2,5,3]))\n",
    "print(sol.checkIfExist(arr = [3,1,7,11]))"
   ]
  },
  {
   "cell_type": "code",
   "execution_count": 31,
   "metadata": {},
   "outputs": [
    {
     "data": {
      "text/plain": [
       "[2, 3, 4, 5, 6, 7, 8]"
      ]
     },
     "execution_count": 31,
     "metadata": {},
     "output_type": "execute_result"
    }
   ],
   "source": [
    "def switch(nums: list[int]):\n",
    "    # switch all elements in an array, to the left\n",
    "    temp = nums[-1]\n",
    "    for i in range(len(nums)-2, -1, -1):\n",
    "        nums[i], temp = temp, nums[i]\n",
    "    \n",
    "    del nums[-1]\n",
    "    return nums\n",
    "    \n",
    "switch([1,2,3,4,5,6,7,8])"
   ]
  },
  {
   "cell_type": "code",
   "execution_count": 32,
   "metadata": {},
   "outputs": [
    {
     "name": "stdout",
     "output_type": "stream",
     "text": [
      "[1, 2, 3, 4]\n"
     ]
    }
   ],
   "source": [
    "# can we floor everything ? \n",
    "\n",
    "# sure we can!\n",
    "floats = [1.2, 2.5, 3.7, 4.9]\n",
    "\n",
    "# all will be floored\n",
    "print([int(elem) for elem in floats])"
   ]
  },
  {
   "cell_type": "code",
   "execution_count": 33,
   "metadata": {},
   "outputs": [
    {
     "name": "stdout",
     "output_type": "stream",
     "text": [
      "[18, 6, 6, 6, 1, -1]\n"
     ]
    }
   ],
   "source": [
    "\"\"\"Given an array arr, replace every element in that array with \n",
    "the greatest element among the elements to its right, and \n",
    "replace the last element with -1.\n",
    "\n",
    "After doing so, return the array.\n",
    "\"\"\"\n",
    "\n",
    "class Solution:\n",
    "    def replaceElements(self, arr: list[int]) -> list[int]:\n",
    "        # IF you want to switch values\n",
    "        # USE TUPLE UNPACKING\n",
    "    \n",
    "        # we do not have to calculate max each time\n",
    "    \n",
    "        # arr = [17,18,5,4,6,1]\n",
    "        # resulting:\n",
    "        # arr = [18,6,6,6,1,-1]\n",
    "        # compare elements one by one\n",
    "    \n",
    "        temp = arr[-1]\n",
    "        \n",
    "        # normally -1, but we are starting off by one\n",
    "        for i in range(len(arr) -2 , -1, -1):\n",
    "            # update temp and arr at the same line\n",
    "            arr[i], temp = temp, max(temp, arr[i])\n",
    "    \n",
    "        arr[-1] = -1\n",
    "        \n",
    "        return arr\n",
    "\n",
    "sol = Solution()\n",
    "print(sol.replaceElements(arr = [17,18,5,4,6,1]))"
   ]
  },
  {
   "cell_type": "code",
   "execution_count": 34,
   "metadata": {},
   "outputs": [
    {
     "name": "stdout",
     "output_type": "stream",
     "text": [
      "[[0, 0, 0, 0, 0], [0, 0, 0, 0, 0]]\n"
     ]
    }
   ],
   "source": [
    "# In a matrix, you build the columns first, than you build the rows.\n",
    "\n",
    "cols, rows  = 5, 2\n",
    "\n",
    "matrix = [[0 for _ in range(cols)] for _ in range(rows)]\n",
    "\n",
    "print(matrix)\n",
    "\n",
    "# [0, 0, 0, 0, 0]\n",
    "# [0, 0, 0, 0, 0]"
   ]
  },
  {
   "cell_type": "code",
   "execution_count": 35,
   "metadata": {},
   "outputs": [
    {
     "name": "stdout",
     "output_type": "stream",
     "text": [
      "Matrix A:\n",
      "Matrix([[1, 2], [3, 4]])\n",
      "Matrix B:\n",
      "Matrix([[5, 6], [7, 8]])\n",
      "Matrix C = A + B:\n",
      "C is: Matrix([[6, 8], [10, 12]])\n",
      "Matrix D = A * B:\n",
      "D is a: Matrix([[19, 22], [43, 50]])\n"
     ]
    }
   ],
   "source": [
    "# P-5.33 \n",
    "# Write a Python program for a matrix class that can add and multiply two-\n",
    "# dimensional arrays of numbers, assuming the dimensions agree appropriately\n",
    "#  for the operation\n",
    "\n",
    "class Matrix():\n",
    "    \"\"\"A basic Matrix class that has addition and multiplication\"\"\"\n",
    "    def __init__(self, data):\n",
    "        self.data = data\n",
    "        # number of rows and columns\n",
    "        self.rows = len(data)\n",
    "        self.cols = len(data[0])\n",
    "\n",
    "    def __add__(self,other):\n",
    "        if not isinstance(other, Matrix):\n",
    "            raise TypeError(\"Cannot add a Matrix with something different than Matrix\")\n",
    "        if (self.rows != other.rows) or (self.cols != other.cols):\n",
    "            raise ValueError(\"The dimensions of the matrices do not match.\")\n",
    "        \n",
    "        # double list comprehension\n",
    "        result = [[0 for _ in range(self.cols)] for _ in range(self.rows)]\n",
    "        for i in range(self.rows):\n",
    "            for j in range(self.cols):\n",
    "                result[i][j] = self.data[i][j] + other.data[i][j]\n",
    "        return Matrix(result)\n",
    "\n",
    "    def __mul__(self,other):\n",
    "        if not isinstance(other, Matrix):\n",
    "            raise TypeError(\"Cannot multiply a Matrix with something different\")\n",
    "        if self.cols != other.rows:\n",
    "            raise ValueError(\"The dimensions of the matrices do not allow multiplication.\")\n",
    "\n",
    "        result = [[0 for _ in range(other.cols)] for _ in range(self.rows)]\n",
    "\n",
    "        for i in range(self.rows):\n",
    "            for j in range(other.cols):\n",
    "                for k in range(self.cols):\n",
    "                    result[i][j] += self.data[i][k] * other.data[k][j]\n",
    "        return Matrix(result)\n",
    "    \n",
    "    def __repr__(self):\n",
    "        return f\"Matrix({self.data})\"\n",
    "\n",
    "\n",
    "\"\"\"\n",
    "Matrix A:\n",
    "Matrix([[1, 2], [3, 4]])\n",
    "\n",
    "Matrix B:\n",
    "Matrix([[5, 6], [7, 8]])\n",
    "\n",
    "Matrix C = A + B:\n",
    "Matrix([[6, 8], [10, 12]])\n",
    "\n",
    "Matrix D = A * B:\n",
    "Matrix([[19, 22], [43, 50]])\n",
    "\"\"\"\n",
    "\n",
    "# Example usage:\n",
    "A = Matrix([[1, 2], [3, 4]])\n",
    "B = Matrix([[5, 6], [7, 8]])\n",
    "\n",
    "print(\"Matrix A:\")\n",
    "print(A)\n",
    "\n",
    "print(\"Matrix B:\")\n",
    "print(B)\n",
    "\n",
    "C = A + B\n",
    "print(\"Matrix C = A + B:\")\n",
    "print(\"C is:\", C)\n",
    "\n",
    "D = A * B\n",
    "print(\"Matrix D = A * B:\")\n",
    "print(\"D is a:\", D)\n"
   ]
  },
  {
   "cell_type": "code",
   "execution_count": 36,
   "metadata": {},
   "outputs": [
    {
     "name": "stdout",
     "output_type": "stream",
     "text": [
      "True\n",
      "False\n",
      "True\n",
      "False\n"
     ]
    }
   ],
   "source": [
    "\"\"\"\n",
    "Determine if a 9 x 9 Sudoku board is valid. \n",
    "\n",
    "Only the filled cells need to be validated according to the following rules:\n",
    "\n",
    "    Each row must contain the digits 1-9 without repetition.\n",
    "\n",
    "    Each column must contain the digits 1-9 without repetition.\n",
    "\n",
    "    Each of the nine 3 x 3 sub-boxes of the grid must contain the \n",
    "        digits 1-9 without repetition.\n",
    "\n",
    "Note:\n",
    "\n",
    "    A Sudoku board (partially filled) could be valid but is not necessarily solvable.\n",
    "\n",
    "    Only the filled cells need to be validated according to the mentioned rules.\n",
    "\n",
    "Example 1:\n",
    "\n",
    "\n",
    "    Input: board = \n",
    "                [[\"5\",\"3\",\".\",\".\",\"7\",\".\",\".\",\".\",\".\"]\n",
    "                ,[\"6\",\".\",\".\",\"1\",\"9\",\"5\",\".\",\".\",\".\"]\n",
    "                ,[\".\",\"9\",\"8\",\".\",\".\",\".\",\".\",\"6\",\".\"]\n",
    "                ,[\"8\",\".\",\".\",\".\",\"6\",\".\",\".\",\".\",\"3\"]\n",
    "                ,[\"4\",\".\",\".\",\"8\",\".\",\"3\",\".\",\".\",\"1\"]\n",
    "                ,[\"7\",\".\",\".\",\".\",\"2\",\".\",\".\",\".\",\"6\"]\n",
    "                ,[\".\",\"6\",\".\",\".\",\".\",\".\",\"2\",\"8\",\".\"]\n",
    "                ,[\".\",\".\",\".\",\"4\",\"1\",\"9\",\".\",\".\",\"5\"]\n",
    "                ,[\".\",\".\",\".\",\".\",\"8\",\".\",\".\",\"7\",\"9\"]]\n",
    "\n",
    "    Output: true\n",
    "\n",
    "\n",
    "Example 2:\n",
    "\n",
    "    Input: board = \n",
    "                [[\"8\",\"3\",\".\",\".\",\"7\",\".\",\".\",\".\",\".\"]\n",
    "                ,[\"6\",\".\",\".\",\"1\",\"9\",\"5\",\".\",\".\",\".\"]\n",
    "                ,[\".\",\"9\",\"8\",\".\",\".\",\".\",\".\",\"6\",\".\"]\n",
    "                ,[\"8\",\".\",\".\",\".\",\"6\",\".\",\".\",\".\",\"3\"]\n",
    "                ,[\"4\",\".\",\".\",\"8\",\".\",\"3\",\".\",\".\",\"1\"]\n",
    "                ,[\"7\",\".\",\".\",\".\",\"2\",\".\",\".\",\".\",\"6\"]\n",
    "                ,[\".\",\"6\",\".\",\".\",\".\",\".\",\"2\",\"8\",\".\"]\n",
    "                ,[\".\",\".\",\".\",\"4\",\"1\",\"9\",\".\",\".\",\"5\"]\n",
    "                ,[\".\",\".\",\".\",\".\",\"8\",\".\",\".\",\"7\",\"9\"]]\n",
    "    \n",
    "    Output: false\n",
    "\n",
    "    Explanation: \n",
    "        Same as Example 1, except with the 5 in the top left \n",
    "        corner being modified to 8. Since there are two 8's in\n",
    "        the top left 3x3 sub-box, it is invalid.\n",
    "\n",
    "Constraints:\n",
    "\n",
    "    board.length == 9\n",
    "    board[i].length == 9\n",
    "    board[i][j] is a digit 1-9 or '.'.\n",
    "\n",
    "Takeaway:\n",
    "\n",
    "    compartmentalize of the code is the single greatest thing you can learn.\n",
    "\n",
    "    zip() can be usec to combine multiple sequences iwth respect to their index.\n",
    "\n",
    "    zip() function is used to combine two or more lists (or any other iterables) into\n",
    "     a single iterable, where elements from corresponding positions are paired together.\n",
    "\n",
    "    unzipping values:\n",
    "\n",
    "    To unzip something zipped, use * on it just like tuple unpacking\n",
    "        namz, roll_noz, marksz = zip(*mapped)\n",
    "\n",
    "\n",
    "    Here is something interesting\n",
    "\n",
    "    a,b,c,d,*e, f  = range(10)\n",
    "\n",
    "    # a = 0\n",
    "    # b = 1\n",
    "    # c = 2\n",
    "    # d = 3\n",
    "    # e = [4,5,6,7,8]\n",
    "    # f = 9\n",
    "\n",
    "\"\"\"\n",
    "\n",
    "class Solution:\n",
    "    def isValidSudoku_(self, board) -> bool:\n",
    "        # Solve and Optimize by DIY\n",
    "\n",
    "        # how do we solve this problem, as a human?\n",
    "        # we solve it by checking bunch of conditions,\n",
    "        # so let's check those conditions\n",
    "\n",
    "        # check all rows\n",
    "        for row in range(9):\n",
    "            # make a new set\n",
    "            temp = set()\n",
    "            for element in board[row]:\n",
    "                if element != \".\":\n",
    "                    # it duplicate found, just return\n",
    "                    if element in temp:\n",
    "                        return False\n",
    "                    temp.add(element)\n",
    "\n",
    "        # check all columns\n",
    "        for col in range(9):\n",
    "            # make a new set\n",
    "            temp = set()\n",
    "            for row in range(9):\n",
    "                # use 2 indexes to check columns\n",
    "                if board[row][col] != \".\":\n",
    "                    # check duplicate in columns\n",
    "                    if board[row][col] in temp:\n",
    "                        return False\n",
    "                    # add current element\n",
    "                    temp.add(board[row][col])\n",
    "\n",
    "        # check all 3x3 boxes\n",
    "        for blockrow in range(3):\n",
    "            for blockcol in range(3):\n",
    "                # make a new set\n",
    "                temp = set()\n",
    "                # 0 - 2, 3 - 5, 6 - 8\n",
    "                for row in range(blockrow*3, blockrow*3 + 3):\n",
    "                    # 0 - 2, 3 - 5, 6 - 8\n",
    "                    for col in range(blockcol * 3, blockcol * 3 + 3 ):\n",
    "                        if board[row][col] != \".\":\n",
    "                            # check duplicate\n",
    "                            if board[row][col] in temp:\n",
    "                                return False\n",
    "                            # add current element\n",
    "                            temp.add(board[row][col])\n",
    "        \n",
    "        # if all conditions hold, return True\n",
    "        return True\n",
    "\n",
    "    def isValidSudoku(self, board):\n",
    "\n",
    "        def is_valid(value):\n",
    "            # all the values except Nones, which are \".\" s.\n",
    "            res = [i for i in value if i != '.']\n",
    "            # is there a duplicate?\n",
    "            return len(res) == len(set(res))\n",
    "\n",
    "        def is_valid_row(board):\n",
    "            for row in board:\n",
    "                if not is_valid(row):\n",
    "                    return False\n",
    "            return True\n",
    "\n",
    "        def is_valid_column(board):\n",
    "            for col in zip(*board): \n",
    "                if not is_valid(col):\n",
    "                    return False\n",
    "            return True\n",
    "\n",
    "        def is_valid_square(board):\n",
    "            for i in (0,3,6):\n",
    "                for j in (0,3,6):\n",
    "                    square = [board[x][y] for x in range(i,i+3) \n",
    "                                            for y in range(j,j+3)]\n",
    "                    if not is_valid(square):\n",
    "                        return False\n",
    "            return True\n",
    "\n",
    "        # we check 3 things.\n",
    "        return is_valid_row(board) and is_valid_column(board) and is_valid_square(board)\n",
    "\n",
    "sol = Solution()\n",
    "\n",
    "board_1 = [[\"5\",\"3\",\".\",\".\",\"7\",\".\",\".\",\".\",\".\"]\n",
    "          ,[\"6\",\".\",\".\",\"1\",\"9\",\"5\",\".\",\".\",\".\"]\n",
    "          ,[\".\",\"9\",\"8\",\".\",\".\",\".\",\".\",\"6\",\".\"]\n",
    "          ,[\"8\",\".\",\".\",\".\",\"6\",\".\",\".\",\".\",\"3\"]\n",
    "          ,[\"4\",\".\",\".\",\"8\",\".\",\"3\",\".\",\".\",\"1\"]\n",
    "          ,[\"7\",\".\",\".\",\".\",\"2\",\".\",\".\",\".\",\"6\"]\n",
    "          ,[\".\",\"6\",\".\",\".\",\".\",\".\",\"2\",\"8\",\".\"]\n",
    "          ,[\".\",\".\",\".\",\"4\",\"1\",\"9\",\".\",\".\",\"5\"]\n",
    "          ,[\".\",\".\",\".\",\".\",\"8\",\".\",\".\",\"7\",\"9\"]]\n",
    "\n",
    "board_2 = [[\"8\",\"3\",\".\",\".\",\"7\",\".\",\".\",\".\",\".\"]\n",
    "          ,[\"6\",\".\",\".\",\"1\",\"9\",\"5\",\".\",\".\",\".\"]\n",
    "          ,[\".\",\"9\",\"8\",\".\",\".\",\".\",\".\",\"6\",\".\"]\n",
    "          ,[\"8\",\".\",\".\",\".\",\"6\",\".\",\".\",\".\",\"3\"]\n",
    "          ,[\"4\",\".\",\".\",\"8\",\".\",\"3\",\".\",\".\",\"1\"]\n",
    "          ,[\"7\",\".\",\".\",\".\",\"2\",\".\",\".\",\".\",\"6\"]\n",
    "          ,[\".\",\"6\",\".\",\".\",\".\",\".\",\"2\",\"8\",\".\"]\n",
    "          ,[\".\",\".\",\".\",\"4\",\"1\",\"9\",\".\",\".\",\"5\"]\n",
    "          ,[\".\",\".\",\".\",\".\",\"8\",\".\",\".\",\"7\",\"9\"]]\n",
    "\n",
    "# this should be True\n",
    "print(sol.isValidSudoku_(board = board_1))\n",
    "\n",
    "# this should be False\n",
    "print(sol.isValidSudoku_(board = board_2)\n",
    ")\n",
    "# this should be True\n",
    "print(sol.isValidSudoku(board = board_1))\n",
    "\n",
    "# this should be False\n",
    "print(sol.isValidSudoku(board = board_2))"
   ]
  },
  {
   "cell_type": "code",
   "execution_count": 37,
   "metadata": {},
   "outputs": [
    {
     "name": "stdout",
     "output_type": "stream",
     "text": [
      "Original list ['lint', 'code', 'love', 'you'], after process ['lint', 'code', 'love', 'you']\n",
      "\n",
      "Cool solution:\n",
      "\n",
      "Original list ['lint', 'code', 'love', 'you'], after process ['lint', 'code', 'love', 'you']\n"
     ]
    }
   ],
   "source": [
    "\"\"\"\n",
    "Design an algorithm to encode a list of strings to a string.\n",
    "\n",
    "The encoded string is then sent over the network and is \n",
    "decoded back to the original list of strings.\n",
    "\n",
    "Implement encode and decode.\n",
    "\n",
    "Example 1:\n",
    "\n",
    "    Input: [\"lint\",\"code\",\"love\",\"you\"]\n",
    "    Output: [\"lint\",\"code\",\"love\",\"you\"]\n",
    "\n",
    "    Explanation:\n",
    "\n",
    "        One possible encode method is: \"lint:;code:;love:;you\"\n",
    "\n",
    "\n",
    "Example 2:\n",
    "\n",
    "    Input: [\"we\", \"say\", \":\", \"yes\"]\n",
    "    Output: [\"we\", \"say\", \":\", \"yes\"]\n",
    "\n",
    "    Explanation:\n",
    "        \n",
    "        One possible encode method is: \"we:;say:;:::;yes\"\n",
    "\n",
    "\n",
    "Takeaway:\n",
    "\n",
    "    THe description is not really complete.\n",
    "\n",
    "    We are trying to encode decode stateless. So we somehow need to \n",
    "        clarify the word lenghts while we are trasporting them.\n",
    "\n",
    "    for that we can use the lenght of the words and sent them prior\n",
    "        to the encoded words.\n",
    "\n",
    "    When we are decoding, we will know how many indexes we need to be \n",
    "        looking for, simply using the length.\n",
    "\n",
    "\"\"\"\n",
    "\n",
    "class Solution:\n",
    "\n",
    "    # MY FIRST TRY\n",
    "    \n",
    "    def encode(self, strs: list) -> str:\n",
    "        \"\"\"\n",
    "        @param: strs: a list of strings\n",
    "        @return: encodes a list of strings to a single string.\n",
    "        \"\"\"\n",
    "        return \"~\".join(strs)\n",
    "\n",
    "\n",
    "    def decode(self, str: str) -> list:\n",
    "        \"\"\"\n",
    "        @param: str: A string\n",
    "        @return: decodes a single string to a list of strings\n",
    "        \"\"\"\n",
    "        # write your code here\n",
    "        return str.split(\"~\")\n",
    "\n",
    "\n",
    "    def encode_stateless(self, strs: list) -> str:\n",
    "        result = \"\"\n",
    "\n",
    "        for elem in strs:\n",
    "            # this is not ideal because strings are \n",
    "            # immutable\n",
    "            # we are making a lot of objects in this loop\n",
    "            result += str(len(elem)) + \"#\" + elem\n",
    "\n",
    "        return result\n",
    "\n",
    "    def decode_stateless(self, input_string: str) -> list:\n",
    "        # we will populate this result list\n",
    "        result = []\n",
    "        # string starting index\n",
    "        i = 0\n",
    "        \n",
    "        # until you are end of the string\n",
    "        while i < len(input_string):\n",
    "            # this index holds width for the length of the word\n",
    "            j = i\n",
    "            while input_string[j] != \"#\":\n",
    "                j += 1\n",
    "            \n",
    "            length = int(input_string[i:j])\n",
    "            result.append(input_string[j+1: j+1+length])\n",
    "            \n",
    "            # move index\n",
    "            i = j + 1 + length\n",
    "        return result\n",
    "\n",
    "\n",
    "if __name__ == \"__main__\":\n",
    "    sol = Solution()\n",
    "\n",
    "    list_of_strings = [\"lint\",\"code\",\"love\",\"you\"]\n",
    "    encoded = sol.encode(list_of_strings)\n",
    "    decoded = sol.decode(encoded)\n",
    "    print(f\"Original list {list_of_strings}, after process {decoded}\")\n",
    "\n",
    "    print(\"\\nCool solution:\\n\")\n",
    "\n",
    "\n",
    "    encoded_stateless = sol.encode_stateless(list_of_strings)\n",
    "    decoded_stateless = sol.decode_stateless(encoded_stateless)\n",
    "    print(f\"Original list {list_of_strings}, after process {decoded}\")"
   ]
  },
  {
   "cell_type": "markdown",
   "metadata": {},
   "source": [
    "---\n"
   ]
  },
  {
   "cell_type": "markdown",
   "metadata": {},
   "source": [
    "## Python Tuples\n",
    "\n",
    "Another container that looks like `list` is `tuple`.\n",
    "\n",
    "Tuples are immutable, so they do not change after they are made.\n",
    "\n",
    "If a `tuple` is in your code, you know its length will never change.\n",
    "\n",
    "A `tuple` uses less memory than a `list` of the same length, and they allow Python to do some optimizations."
   ]
  },
  {
   "cell_type": "code",
   "execution_count": 41,
   "metadata": {},
   "outputs": [
    {
     "name": "stdout",
     "output_type": "stream",
     "text": [
      "(1, 2, 3)\n",
      "False\n",
      "3\n",
      "what is the index of 3:  2\n"
     ]
    }
   ],
   "source": [
    "# you can define a tuple with ot without paranthesis!\n",
    "\n",
    "my_tup = 1,2,3    # my_tup = (1, 2, 3) will also work\n",
    "print(my_tup)\n",
    "\n",
    "# check containment\n",
    "print(4 in my_tup)\n",
    "\n",
    "# __getitem__ with index\n",
    "print(my_tup[2])\n",
    "\n",
    "# get the index of an item\n",
    "# o(n)\n",
    "print(\"what is the index of 3: \",my_tup.index(3)) "
   ]
  },
  {
   "cell_type": "code",
   "execution_count": 25,
   "metadata": {},
   "outputs": [
    {
     "name": "stdout",
     "output_type": "stream",
     "text": [
      "length of tuple: 3\n",
      "(1, 2, 3, 1, 2, 3)\n"
     ]
    }
   ],
   "source": [
    "# You can check the length of the tuple \n",
    "print(\"length of tuple:\", len(my_tup))\n",
    "\n",
    "# you can multiply it\n",
    "print(my_tup * 2)"
   ]
  },
  {
   "cell_type": "code",
   "execution_count": 42,
   "metadata": {},
   "outputs": [
    {
     "name": "stdout",
     "output_type": "stream",
     "text": [
      "<class 'tuple'>\n"
     ]
    }
   ],
   "source": [
    "# you use tuples for returning multiple values\n",
    "def add(a, b, c, d):\n",
    "    return a+b , c+d\n",
    "\n",
    "print(type(add(1,2,6,6))) # a tuple"
   ]
  },
  {
   "cell_type": "code",
   "execution_count": 43,
   "metadata": {},
   "outputs": [
    {
     "name": "stdout",
     "output_type": "stream",
     "text": [
      "Lat:  33.23\n",
      "Lon:  -123.23\n"
     ]
    }
   ],
   "source": [
    "# you unpack sequences with it\n",
    "\n",
    "lat, lon = (33.23, -123.23)\n",
    "print(\"Lat: \", lat)\n",
    "print(\"Lon: \", lon)"
   ]
  },
  {
   "cell_type": "markdown",
   "metadata": {},
   "source": [
    "### Here are examples - tuple unpacking mostly =)"
   ]
  },
  {
   "cell_type": "code",
   "execution_count": 44,
   "metadata": {},
   "outputs": [
    {
     "data": {
      "text/plain": [
       "[2, 4, 1, 3, 5, 6, 7]"
      ]
     },
     "execution_count": 44,
     "metadata": {},
     "output_type": "execute_result"
    }
   ],
   "source": [
    "# we can use tuple unpacking to swap values!\n",
    "\n",
    "import random\n",
    "\n",
    "# fisher yates\n",
    "def shuffle(data):\n",
    "    for i in range(len(data) - 1, 0 , -1):\n",
    "        j = random.randint(0, i)\n",
    "        data[i], data[j] = data[j], data[i]\n",
    "    return data\n",
    "\n",
    "shuffle([1,2,3,4,5,6,7]) # [5, 7, 4, 3, 2, 6, 1]"
   ]
  },
  {
   "cell_type": "code",
   "execution_count": 45,
   "metadata": {},
   "outputs": [
    {
     "data": {
      "text/plain": [
       "(21, 13)"
      ]
     },
     "execution_count": 45,
     "metadata": {},
     "output_type": "execute_result"
    }
   ],
   "source": [
    "# In some madness, we can use tuple unpacking\n",
    "# to solve dynamic programming questions\n",
    "\n",
    "def good_fib(n) -> tuple:\n",
    "\t\"\"\"If you are after single value for index n,\n",
    "\tuse good_fib(n)[1]\n",
    "\t\"\"\"\n",
    "\t# base cases, simply 1\n",
    "\tif n <= 1:\n",
    "\t\treturn n, n\n",
    "\telse:\n",
    "\t\t# calculate current a, b pair based on previous value\n",
    "\t\t(a, b) = good_fib(n - 1)\n",
    "\t\t# return both of them, which will be used in recurrence\n",
    "\t\treturn (a + b, a)\n",
    "\n",
    "good_fib(7) # (21, 13)"
   ]
  },
  {
   "cell_type": "code",
   "execution_count": 46,
   "metadata": {},
   "outputs": [
    {
     "name": "stdout",
     "output_type": "stream",
     "text": [
      "[1, 0, 2, 0, 4, 3] currently\n",
      "[1, 2, 0, 0, 4, 3] currently\n",
      "[1, 2, 4, 0, 0, 3] currently\n",
      "[1, 2, 4, 3, 0, 0] currently\n"
     ]
    },
    {
     "data": {
      "text/plain": [
       "[1, 2, 4, 3, 0, 0]"
      ]
     },
     "execution_count": 46,
     "metadata": {},
     "output_type": "execute_result"
    }
   ],
   "source": [
    "# another case where tuple unpacking is used\n",
    "\n",
    "def move_zeroes(seq) -> list:\n",
    "    \"\"\"Move zeros to the end in a given seq\"\"\"\n",
    "    # assume element at first index is zero\n",
    "    # if not, keep incrementing \n",
    "    zero_index = 0\n",
    "    for i in range(len(seq)):\n",
    "        # when you find the zero, you will discover the \n",
    "        # element 0 index, than you can move it upwards\n",
    "        if seq[i] != 0:\n",
    "            seq[i], seq[zero_index] = seq[zero_index], seq[i]\n",
    "            zero_index += 1\n",
    "            print(seq, \"currently\")\n",
    "    return seq\n",
    "\n",
    "move_zeroes([1,0,2,0,4,3])   \n",
    "# [1, 2, 4, 3, 0, 0]"
   ]
  },
  {
   "cell_type": "code",
   "execution_count": 49,
   "metadata": {},
   "outputs": [
    {
     "name": "stdout",
     "output_type": "stream",
     "text": [
      "{(3, 4): 5, (6, 8): 10, (7, 24): 25, 2: 3}\n",
      "What are the key types?  [<class 'tuple'>, <class 'tuple'>, <class 'tuple'>, <class 'int'>]\n"
     ]
    }
   ],
   "source": [
    "# We can use tuples as dictionary keys, \n",
    "# which we could not do with Python lists.\n",
    "\n",
    "# because lists are mutable and they are not hashable\n",
    "\n",
    "my_dict = {}\n",
    "\n",
    "my_dict[(3,4)] = 5\n",
    "my_dict[(6,8)] = 10\n",
    "my_dict[(7,24)] = 25\n",
    "\n",
    "print(my_dict)\n",
    "# {(3, 4): 5, (6, 8): 10, (7, 24): 25, 2: 3}\n",
    "\n",
    "print(\"What are the key types? \", [type(key) for key in my_dict])"
   ]
  },
  {
   "cell_type": "markdown",
   "metadata": {},
   "source": [
    "# Here is a cool example!"
   ]
  },
  {
   "cell_type": "code",
   "execution_count": 51,
   "metadata": {},
   "outputs": [
    {
     "name": "stdout",
     "output_type": "stream",
     "text": [
      "[['eat', 'tea', 'ate'], ['tan', 'nat'], ['bat']]\n"
     ]
    }
   ],
   "source": [
    "\"\"\"\n",
    "Given an array of strings strs, group the anagrams together. \n",
    "\n",
    "You can return the answer in any order.\n",
    "\n",
    "An Anagram is a word or phrase formed by rearranging the letters\n",
    "of a different word or phrase, typically using all the original \n",
    "letters exactly once.\n",
    "\n",
    "Example 1:\n",
    "\n",
    "    Input: strs = [\"eat\",\"tea\",\"tan\",\"ate\",\"nat\",\"bat\"]\n",
    "    Output: [[\"bat\"],[\"nat\",\"tan\"],[\"ate\",\"eat\",\"tea\"]]\n",
    "\n",
    "Example 2:\n",
    "\n",
    "    Input: strs = [\"\"]\n",
    "    Output: [[\"\"]]\n",
    "\n",
    "Example 3:\n",
    "\n",
    "    Input: strs = [\"a\"]\n",
    "    Output: [[\"a\"]]\n",
    "\n",
    "Constraints:\n",
    "\n",
    "    1 <= strs.length <= 10^4\n",
    "    0 <= strs[i].length <= 100\n",
    "    strs[i] consists of lowercase English letters.\n",
    "\n",
    "\n",
    "Takeaway:\n",
    "\n",
    "    We can use a dictionary to keep key value relationships \n",
    "    between sequence elements and their Counters\n",
    "    \n",
    "    We can sort all elements in sequence to unify the frequency of characters\n",
    "    \n",
    "    if not seen before in the dictionary, we can initialize an empty list\n",
    "    later to append on it.\n",
    "\n",
    "\"\"\"\n",
    "\n",
    "from collections import defaultdict\n",
    "\n",
    "class Solution:\n",
    "    def groupAnagrams__(self, strs: list[str]) -> list[list[str]]:\n",
    "        # we can also take the collections route with tuples\n",
    "        res = defaultdict(list)\n",
    "        for s in strs:\n",
    "\t        # we can use a tuple for our dict keys\n",
    "\t        # sorted returns a list\n",
    "            res[tuple(sorted(s))].append(s)\n",
    "        return list(res.values()) \n",
    "\n",
    "sol = Solution()\n",
    "print(sol.groupAnagrams__(strs = [\"eat\",\"tea\",\"tan\",\"ate\",\"nat\",\"bat\"]))"
   ]
  },
  {
   "cell_type": "markdown",
   "metadata": {},
   "source": [
    "## Also  a quick reminder of array.array is cool\n",
    "\n",
    "If a list only contains numbers, and `array.array` is a more efficient replacement.\n",
    "\n",
    "A Python array is as lean as a C array. \n",
    "\n",
    "When making an `array`, you provide a `typecode`, a letter to determine the underlying C type used to store each item in the array. For example, `b` is the `typecode` for `signed char`. \n"
   ]
  },
  {
   "cell_type": "code",
   "execution_count": 29,
   "metadata": {},
   "outputs": [
    {
     "name": "stdout",
     "output_type": "stream",
     "text": [
      "array('d', [0.4314936312506795, 0.9862522620077158, 0.8363016329684587])\n"
     ]
    }
   ],
   "source": [
    "from array import array\n",
    "from random import random\n",
    "# 'd' is a typecode mean double-precision floats\n",
    "# random () - x in the interval [0, 1).\n",
    "floats = array('d', (random() for i in range(3))) # generator to randomly generate numbers\n",
    "print(floats) # output => 0.5376528389816482"
   ]
  },
  {
   "cell_type": "code",
   "execution_count": 30,
   "metadata": {},
   "outputs": [
    {
     "name": "stdout",
     "output_type": "stream",
     "text": [
      "3\n",
      "array('b', [1, 2, 3, 4, 5, 6])\n"
     ]
    }
   ],
   "source": [
    "# 'b' is another typecode mean signed char -128 ~ 127\n",
    "integer = array('b', [1,2,3,4,5,6])\n",
    "print(integer[2]) # output => 3\n",
    "print(integer)"
   ]
  },
  {
   "cell_type": "markdown",
   "metadata": {},
   "source": [
    "### Here is what's happening with arrays 🆚 Lists.\n",
    "\n",
    "1 Byte - 8 bits\n",
    "\n",
    "What info is in what byte? - Memory Address\n",
    "\n",
    "RAM is designed in theory that any byte of the main memory can be accessed $O(1)$ time.\n",
    "\n",
    "A 6 char string would be 12 bytes in python, characters are in Unicode set.\n",
    "\n",
    "Python lists are referential, they hold 64 bits per address for each element.\n",
    "\n",
    "#### Comparison\n",
    "\n",
    "Python lists total 22 bytes (typical int object 14 bytes AND 64 bit memory address)\n",
    "\n",
    "Compact array would just be 8 bytes.\n",
    "\n",
    "Also compact arrays hold primary data consecutively in memory, which is not the case for Python lists.\n",
    "\n",
    "It is often advantageous to have data stored in memory near to each other."
   ]
  },
  {
   "cell_type": "markdown",
   "metadata": {},
   "source": [
    "### worst time vs amortization ?\n",
    "\n",
    "There is worst time stuff and there is **amortization**. Python lists use amortization as they grow bigger, like dynamic arrays.\n",
    "\n",
    "So appending to end of a list is $O(1)$ only in amortized case.\n",
    "\n",
    "You know, `list.insert(0, \"a\")` and `list.pop(0)` is REALLY expensive.\n",
    "\n",
    "Also `list.remove(element)` will only remove the first occurrence in the list. Not great either."
   ]
  }
 ],
 "metadata": {
  "kernelspec": {
   "display_name": "learn",
   "language": "python",
   "name": "python3"
  },
  "language_info": {
   "codemirror_mode": {
    "name": "ipython",
    "version": 3
   },
   "file_extension": ".py",
   "mimetype": "text/x-python",
   "name": "python",
   "nbconvert_exporter": "python",
   "pygments_lexer": "ipython3",
   "version": "3.9.7"
  }
 },
 "nbformat": 4,
 "nbformat_minor": 2
}
