{
 "cells": [
  {
   "cell_type": "markdown",
   "metadata": {},
   "source": [
    "# Recursion\n",
    "\n",
    "This notebook will help you understand the basic of recursion.\n",
    "\n",
    "Recursion is a technique by which a function makes one or more calls to itself during execution.\n",
    "\n",
    "There is always a **base case** and a **recursive case**."
   ]
  },
  {
   "cell_type": "code",
   "execution_count": 1,
   "metadata": {},
   "outputs": [
    {
     "data": {
      "text/plain": [
       "120"
      ]
     },
     "execution_count": 1,
     "metadata": {},
     "output_type": "execute_result"
    }
   ],
   "source": [
    "def factorial(n):\n",
    "\t# base case\n",
    "\tif n == 0:\n",
    "\t\treturn 1\n",
    "\t# recursive case\n",
    "\telse:\n",
    "\t\treturn n * factorial(n - 1)\n",
    "\t\n",
    "factorial(5)"
   ]
  },
  {
   "cell_type": "code",
   "execution_count": 3,
   "metadata": {},
   "outputs": [
    {
     "data": {
      "text/plain": [
       "120"
      ]
     },
     "execution_count": 3,
     "metadata": {},
     "output_type": "execute_result"
    }
   ],
   "source": [
    "# one liner - cool\n",
    "def fact(n):\n",
    "\treturn 1 if n == 0 else n * (fact(n - 1))\n",
    "\n",
    "fact(5)"
   ]
  },
  {
   "cell_type": "code",
   "execution_count": 4,
   "metadata": {},
   "outputs": [
    {
     "data": {
      "text/plain": [
       "6"
      ]
     },
     "execution_count": 4,
     "metadata": {},
     "output_type": "execute_result"
    }
   ],
   "source": [
    "# Find max element recursively:\n",
    "def max_elem(seq):\n",
    "\t# base case\n",
    "\tif len(seq) == 1:\n",
    "\t\treturn seq[0]\n",
    "\telse:\n",
    "\t\t# recurrence, compare with leftmost each time\n",
    "\t\treturn max(max_elem(seq[1:]), seq[0])\n",
    "\n",
    "max_elem([1,2,3,4,5,6]) # 6"
   ]
  },
  {
   "cell_type": "code",
   "execution_count": 6,
   "metadata": {},
   "outputs": [
    {
     "name": "stdout",
     "output_type": "stream",
     "text": [
      "True\n",
      "False\n"
     ]
    }
   ],
   "source": [
    "# Unique without sorting, recursively:\n",
    "def unique(A):\n",
    "\t# base case\n",
    "\tif len(A) == 1:\n",
    "\t\treturn True\n",
    "\telse:\n",
    "\t\tif A[0] in A[1:]:\n",
    "\t\t\treturn False\n",
    "\t\telse:\n",
    "\t\t\treturn unique(A[1:])\n",
    "\n",
    "print(unique(\"alex\")) # True\n",
    "print(unique([1,2,3,4,5,1])) # False"
   ]
  },
  {
   "cell_type": "code",
   "execution_count": 7,
   "metadata": {},
   "outputs": [
    {
     "name": "stdout",
     "output_type": "stream",
     "text": [
      "2.9289682539682538\n"
     ]
    }
   ],
   "source": [
    "# Harmonic Recursive\n",
    "\"\"\"\n",
    "Note, we want 1/1 + 1/2 + 1/3 ... 1/i\n",
    "\"\"\"\n",
    "\n",
    "def harmonic_recursive(n):\n",
    "    if n==1:\n",
    "        return 1\n",
    "    else:\n",
    "        return 1/n + harmonic_recursive(n-1)\n",
    "    \n",
    "\n",
    "\"\"\"\n",
    "This will run in O(n) time and require O(n) space\n",
    "\"\"\"\n",
    "    \n",
    "print(harmonic_recursive(10)) # 2.928968"
   ]
  },
  {
   "cell_type": "code",
   "execution_count": 8,
   "metadata": {},
   "outputs": [
    {
     "data": {
      "text/plain": [
       "54"
      ]
     },
     "execution_count": 8,
     "metadata": {},
     "output_type": "execute_result"
    }
   ],
   "source": [
    "\"\"\"C-4.12 - Give a recursive algorithm to compute the \n",
    "product of two positive integers, m and n, using only \n",
    "addition and subtraction.\"\"\"\n",
    "\n",
    "def dot_product(a, b):\n",
    "    if a == 0 or b == 0:\n",
    "        return 0\n",
    "    else:\n",
    "        return a + dot_product(a, b-1)\n",
    "\n",
    "dot_product(6, 9) # 54"
   ]
  },
  {
   "cell_type": "code",
   "execution_count": 9,
   "metadata": {},
   "outputs": [
    {
     "data": {
      "text/plain": [
       "[[1, 2, 4], [1, 2], [1, 4], [1], [2, 4], [2], [4], []]"
      ]
     },
     "execution_count": 9,
     "metadata": {},
     "output_type": "execute_result"
    }
   ],
   "source": [
    "\"\"\"Write a recursive function that will output all the \n",
    "subsets of a set of n elements (without repeating \n",
    "any subsets).\"\"\"\n",
    "\n",
    "def subsets(seq):\n",
    "    if len(seq) == 0:\n",
    "        return [[]]\n",
    "    else:\n",
    "        # get all subsets without the first element\n",
    "        subsets_without_first = subsets(seq[1:])\n",
    "        # get all subsets with the first element\n",
    "        subsets_with_first = [[seq[0]] + subset for subset in subsets_without_first]\n",
    "        # return all subsets\n",
    "        return subsets_with_first + subsets_without_first\n",
    "\n",
    "subsets([1,2,4]) \n",
    "# [[1, 2, 4], [1, 2], [1, 4], [1], [2, 4], [2], [4], []]"
   ]
  },
  {
   "cell_type": "code",
   "execution_count": 11,
   "metadata": {},
   "outputs": [
    {
     "data": {
      "text/plain": [
       "[2, 2, 2, 2, 2, 2, 4, 33, 3, 7, 1]"
      ]
     },
     "execution_count": 11,
     "metadata": {},
     "output_type": "execute_result"
    }
   ],
   "source": [
    "\"\"\"Write a short recursive Python function that \n",
    "rearranges a sequence of integer values so that all \n",
    "the even values appear before all the odd values.\"\"\"\n",
    "\n",
    "def rearrange(seq):\n",
    "    # base case\n",
    "    if len(seq) <= 1:\n",
    "        return seq\n",
    "    else:\n",
    "        # recurrance\n",
    "        if seq[0] % 2 == 0:\n",
    "            return [seq[0]] +  rearrange(seq[1:])\n",
    "        else:\n",
    "            return rearrange(seq[1:]) + [seq[0]]\n",
    "\n",
    "rearrange([2,1,2,7,2,3,2,2,2,33,4]) # [2, 2, 2, 2, 2, 2, 4, 33, 3]"
   ]
  },
  {
   "cell_type": "code",
   "execution_count": 1,
   "metadata": {},
   "outputs": [
    {
     "name": "stdout",
     "output_type": "stream",
     "text": [
      "Before popping all the elements: [1, 2, 3, 4, 5, 6]\n",
      "After popping all the elements: []\n"
     ]
    }
   ],
   "source": [
    "# R-6.4 \n",
    "# we learned about stacks!\n",
    "# Let's write a recursive method for removing all \n",
    "# the elements from a stack\n",
    "\n",
    "def pop_all(stack):\n",
    "    if len(stack) == 0:\n",
    "        return\n",
    "    else: \n",
    "        stack.pop()\n",
    "        pop_all(stack)\n",
    "\n",
    "s = [1,2,3,4,5,6]\n",
    "\n",
    "print(f\"Before popping all the elements: {s}\")\n",
    "pop_all(s)\n",
    "print(f\"After popping all the elements: {s}\")"
   ]
  },
  {
   "cell_type": "markdown",
   "metadata": {},
   "source": [
    "Here is binary search in Recursive form:"
   ]
  },
  {
   "cell_type": "code",
   "execution_count": 2,
   "metadata": {},
   "outputs": [
    {
     "name": "stdout",
     "output_type": "stream",
     "text": [
      "Target found at index 5\n"
     ]
    }
   ],
   "source": [
    "def binary_search(arr, target, left=0, right=None):\n",
    "    if right is None:\n",
    "        right = len(arr) - 1\n",
    "        \n",
    "    if left > right:\n",
    "        return -1  # target not found\n",
    "        \n",
    "    mid = (left + right) // 2\n",
    "    \n",
    "    if arr[mid] == target:\n",
    "        return mid  # target found at index mid\n",
    "    elif arr[mid] < target:\n",
    "        return binary_search(arr, target, mid + 1, right)  # search in the right half\n",
    "    else:\n",
    "        return binary_search(arr, target, left, mid - 1)  # search in the left half\n",
    "\n",
    "# Example usage\n",
    "arr = [2, 5, 7, 10, 14, 17, 19, 22, 25]\n",
    "target = 17\n",
    "result = binary_search(arr, target)\n",
    "\n",
    "if result == -1:\n",
    "    print(\"Target not found in the array.\")\n",
    "else:\n",
    "    print(\"Target found at index\", result)\n",
    "\n",
    "# Target found at index 5\n"
   ]
  },
  {
   "cell_type": "markdown",
   "metadata": {},
   "source": [
    "## Analyzing Recursive Algorithms - Invocation and Operations 🤔\n",
    "\n",
    "We learned to analyze the efficiency of functions with big-Oh notation. For recursive algorithms, we will look at the number of operations for each activation.\n",
    "\n",
    "**Invocation:** How many calls are made?\n",
    "\n",
    "**Operation:** How much execution is done?\n",
    "\n",
    "The factorial function was:\n",
    "\n",
    "```python\n",
    "def factorial(n):\n",
    "\tif n == 0:\n",
    "\t\treturn 1\n",
    "\telse:\n",
    "\t\treturn factorial(n-1) * n\n",
    "```\n",
    "\n",
    "This function has $n+1$ activation's and constant operations for each of the activation. So overall time complexity is `O(n)`.\n",
    "\n",
    "In the binary search we perform constant number of primitive operations at each recursive call. So the time complexity is $log(n)$."
   ]
  },
  {
   "cell_type": "markdown",
   "metadata": {},
   "source": [
    "## Do not shoot yourself in the foot!\n",
    "\n",
    "Here is another example:\n",
    "\n",
    "```python\n",
    "def bad_fibonacci(n):\n",
    "\t\"\"\"Return the nth Fibonacci number.\"\"\"\n",
    "\tif n <= 1:\n",
    "\t\treturn n\n",
    "\telse:\n",
    "\t\treturn bad_fibonacci(n−2) + bad_fibonacci(n−1)\n",
    "```\n",
    "\n",
    "Unfortunately, such a direct implementation of the Fibonacci formula results in a terribly inefficient function.\n",
    "\n",
    "Computing the $n_{th}$ Fibonacci number in this way requires an exponential number of calls to the function.\n",
    "\n",
    "## What can we do?\n",
    "\n",
    "- Return multiple variables.\n",
    "- Use a cache\n",
    "- Rewrite the recurring case."
   ]
  },
  {
   "cell_type": "markdown",
   "metadata": {},
   "source": [
    "Rather than having the function return a single value, which is the nth Fibonacci number, we define a recursive function that returns a pair of consecutive Fibonacci numbers ($F_n, F_{n−1}$), using the convention $F_{−1} = 0$.\n",
    "\n",
    "```python\n",
    "def good_fibonacci(n):\n",
    "\t\"\"\"Return pair of Fibonacci numbers, F(n) and F(n-1).\"\"\"\n",
    "\tif n <= 1:\n",
    "\t\treturn (n,0)\n",
    "\telse:\n",
    "\t\t(a, b) = good_fibonacci(n−1)\n",
    "\t\treturn (a+b, a)\n",
    "\t\t\n",
    "good_fibonacci(10) # (55, 34)\n",
    "```\n",
    "\n",
    "Or using a map to store all values and return a single one:\n",
    "\n",
    "```python\n",
    "def fib(n, memo = {}):\n",
    "    if n <= 1:\n",
    "        return n\n",
    "    # check if the result is already calculated\n",
    "    if n not in memo:\n",
    "        # If not, calculate and store the result\n",
    "        memo[n] = fib(n-1, memo) + fib(n-2, memo)\n",
    "    return memo[n]\n",
    "\n",
    "fib(10) # 55  \n",
    "fib(17) # 1597\n",
    "```\n",
    "\n",
    "or we can use `lru_cache`:\n",
    "\n",
    "```python\n",
    "from functools import lru_cache\n",
    "\n",
    "@lru_cache\n",
    "def fibo_cached(n):\n",
    "    if n <= 1:\n",
    "        return n\n",
    "    else:\n",
    "        n = fibo_cached(n-1) + fibo_cached(n-2)\n",
    "        return n\n",
    "\n",
    "fibo_cached(10) # 55\n",
    "```"
   ]
  },
  {
   "cell_type": "markdown",
   "metadata": {},
   "source": [
    "## How do we analyze recursive algorithms 🤔\n",
    "\n",
    "How many operations and how many activations for each of those activations. Yeah\n",
    "\n",
    "Recurrence equation? The relationship between current state and future states.\n",
    "\n",
    "Recurrence comes down to:\n",
    "\n",
    "`Invocation x Operations` = `How many calls` * `How Much Execution`"
   ]
  },
  {
   "cell_type": "markdown",
   "metadata": {},
   "source": [
    "## Examples are here! 🐦"
   ]
  },
  {
   "cell_type": "code",
   "execution_count": 5,
   "metadata": {},
   "outputs": [
    {
     "name": "stdout",
     "output_type": "stream",
     "text": [
      "True\n",
      "True\n",
      "True\n",
      "\n",
      "False\n",
      "False\n",
      "False\n"
     ]
    }
   ],
   "source": [
    "\"\"\"\n",
    "Given an integer n, return true if it is a \n",
    "power of four. \n",
    "\n",
    "Otherwise, return false.\n",
    "\n",
    "An integer n is a power of four, if there exists \n",
    "an integer x such that n == 4^x.\n",
    "\n",
    "Example 1:\n",
    "\n",
    "    Input: n = 16\n",
    "    \n",
    "    Output: true\n",
    "\n",
    "Example 2:\n",
    "\n",
    "    Input: n = 5\n",
    "    \n",
    "    Output: false\n",
    "\n",
    "Example 3:\n",
    "\n",
    "    Input: n = 1\n",
    "    \n",
    "    Output: true\n",
    "\n",
    "Constraints:\n",
    "\n",
    "    -2^31 <= n <= 2^31 - 1\n",
    "\n",
    "Follow up: \n",
    "\n",
    "    Could you solve it without loops/recursion?\n",
    "\n",
    "Takeaway:\n",
    "\n",
    "    floor div, divmod, while loops.\n",
    "\"\"\"\n",
    "\n",
    "class Solution:\n",
    "    def isPowerOfFour(self, n: int) -> bool:\n",
    "    \n",
    "        if n <= 0: return False\n",
    "        # 16 = 4 ^ 2 \n",
    "        # 64 = 4 ^ 3 \n",
    "        while n > 1:\n",
    "            remainder = n % 4\n",
    "            # print(remainder)\n",
    "            if remainder != 0:\n",
    "                return False\n",
    "            n //= 4 \n",
    "        return True\n",
    "    \n",
    "    def isPowerOfFour_(self, n: int) -> bool:\n",
    "        # recursion works too\n",
    "        if n <= 0:\n",
    "            return False\n",
    "        # base case\n",
    "        if n == 1:\n",
    "            return True\n",
    "        # recursive case\n",
    "        return n % 4 == 0 and self.isPowerOfFour(n // 4)\n",
    "    \n",
    "    def isPowerOfFour__(self, n: int) -> bool:\n",
    "        # bit manipulation works too\n",
    "\n",
    "        # n should be positive\n",
    "        \n",
    "        # n should be power of 2\n",
    "        # by checking n & (n - 1)\n",
    "\n",
    "        #   0b100000\n",
    "        #   0b011111\n",
    "        #  &________  \n",
    "        #   0b0\n",
    "\n",
    "        # If n is a power of 2 but not a \n",
    "        # power of 4, its exponent must be odd. \n",
    "        return n > 0 and n & (n - 1) == 0 and n % 3 == 1\n",
    "\n",
    "sol = Solution()\n",
    "print(sol.isPowerOfFour(64))\n",
    "print(sol.isPowerOfFour_(64))\n",
    "print(sol.isPowerOfFour__(64))\n",
    "\n",
    "print()\n",
    "\n",
    "print(sol.isPowerOfFour(32))\n",
    "print(sol.isPowerOfFour_(32))\n",
    "print(sol.isPowerOfFour__(32))"
   ]
  },
  {
   "cell_type": "code",
   "execution_count": 7,
   "metadata": {},
   "outputs": [
    {
     "name": "stdout",
     "output_type": "stream",
     "text": [
      "True\n",
      "True\n",
      "True\n",
      "\n",
      "False\n",
      "False\n",
      "False\n"
     ]
    }
   ],
   "source": [
    "\"\"\"\n",
    "Given an integer n, return true if it is a \n",
    "power of three. \n",
    "\n",
    "Otherwise, return false.\n",
    "\n",
    "An integer n is a power of three, if there \n",
    "exists an integer x such that n == 3^x.\n",
    "\n",
    "Example 1:\n",
    "\n",
    "    Input: n = 27\n",
    "    \n",
    "    Output: true\n",
    "    \n",
    "    Explanation: 27 = 3^3\n",
    "\n",
    "Example 2:\n",
    "\n",
    "    Input: n = 0\n",
    "    \n",
    "    Output: false\n",
    "    \n",
    "    Explanation: There is no x where 3^x = 0.\n",
    "\n",
    "Example 3:\n",
    "\n",
    "    Input: n = -1\n",
    "    \n",
    "    Output: false\n",
    "    \n",
    "    Explanation: There is no x where 3^x = (-1).\n",
    "\n",
    "Constraints:\n",
    "\n",
    "    -2^31 <= n <= 2^31 - 1\n",
    "\n",
    " \n",
    "Follow up: \n",
    "\n",
    "    Could you solve it without loops/recursion?\n",
    "\n",
    "Takeaway:\n",
    "\n",
    "    floor div, divmod, while loops.\n",
    "\n",
    "    You can even run burte force with sets! \n",
    "\n",
    "\"\"\"\n",
    "\n",
    "class Solution:\n",
    "    def isPowerOfThree(self, n: int) -> bool:\n",
    "        \"\"\"Update the input as I go\n",
    "        while loop\n",
    "        check remainder\"\"\"\n",
    "\n",
    "        if n <= 0: return False\n",
    "\n",
    "        while n != 1:\n",
    "            if n % 3 != 0:\n",
    "                return False\n",
    "            n //= 3 \n",
    "        \n",
    "        return True\n",
    "\n",
    "    def isPowerOfThree_(self, n: int) -> bool:\n",
    "        \"\"\"we can use divmod()\n",
    "        \"\"\"\n",
    "        if n <= 0: return False\n",
    "\n",
    "        while n != 1:\n",
    "            division, remainder = divmod(n, 3)\n",
    "            if remainder != 0:\n",
    "                return False\n",
    "            n //= 3\n",
    "        return True\n",
    "\n",
    "    def isPowerOfThree__(self, n: int) -> bool:\n",
    "        \"\"\"We can use recursion too!\n",
    "        \"\"\"\n",
    "        if n <= 0: \n",
    "            return False\n",
    "        if n == 1: \n",
    "            return True\n",
    "        return n % 3 == 0 and self.isPowerOfThree__(n//3)\n",
    "\n",
    "\n",
    "sol = Solution()\n",
    "print(sol.isPowerOfThree(9))\n",
    "print(sol.isPowerOfThree_(9))\n",
    "print(sol.isPowerOfThree__(9))\n",
    "\n",
    "print()\n",
    "print(sol.isPowerOfThree(8))\n",
    "print(sol.isPowerOfThree_(8))\n",
    "print(sol.isPowerOfThree__(8))"
   ]
  },
  {
   "cell_type": "code",
   "execution_count": null,
   "metadata": {},
   "outputs": [],
   "source": []
  }
 ],
 "metadata": {
  "kernelspec": {
   "display_name": "learn",
   "language": "python",
   "name": "python3"
  },
  "language_info": {
   "codemirror_mode": {
    "name": "ipython",
    "version": 3
   },
   "file_extension": ".py",
   "mimetype": "text/x-python",
   "name": "python",
   "nbconvert_exporter": "python",
   "pygments_lexer": "ipython3",
   "version": "3.9.7"
  }
 },
 "nbformat": 4,
 "nbformat_minor": 2
}
